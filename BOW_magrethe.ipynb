{
 "cells": [
  {
   "cell_type": "markdown",
   "metadata": {},
   "source": [
    "# UNIGRAM"
   ]
  },
  {
   "cell_type": "code",
   "execution_count": 2,
   "metadata": {},
   "outputs": [],
   "source": [
    "import os\n",
    "import re\n",
    "\n",
    "BoW_list = []\n",
    "for fi in os.listdir('Talerne\\Margrethe'):\n",
    "    filename = f'Talerne\\Margrethe\\{fi}'\n",
    "\n",
    "    with open(filename, encoding='utf-8') as file:\n",
    "        content = file.read()\n",
    "    \n",
    "    content = re.sub(\"[,-:'*.?:;–\\”]\",\" \",content)\n",
    "    content = content.lower()\n",
    "    content = content.split(' ')\n",
    "    \n",
    "    for i in content:\n",
    "        if i in BoW_list:\n",
    "            pass\n",
    "        else:\n",
    "            BoW_list.append(i)"
   ]
  },
  {
   "cell_type": "markdown",
   "metadata": {},
   "source": [
    "# BIGRAM"
   ]
  },
  {
   "cell_type": "code",
   "execution_count": 3,
   "metadata": {},
   "outputs": [],
   "source": [
    "BIGRAM_list = []\n",
    "\n",
    "for fi in os.listdir('Talerne\\Margrethe'):\n",
    "    with open(filename, encoding='utf-8') as file:\n",
    "        content = file.read()\n",
    "    \n",
    "    content = re.sub(\"[,-:'*.?:;–\\”]\",\" \",content)\n",
    "    content = content.lower()\n",
    "    content = content.split(' ')\n",
    "    \n",
    "    for i in range(len(content)-1):\n",
    "        bigram = content[i] + ' ' + content[i+1]\n",
    "        if bigram in BIGRAM_list:\n",
    "            pass\n",
    "        else:\n",
    "            BIGRAM_list.append(bigram)"
   ]
  },
  {
   "cell_type": "markdown",
   "metadata": {},
   "source": [
    "# TRIGRAM"
   ]
  },
  {
   "cell_type": "code",
   "execution_count": 4,
   "metadata": {},
   "outputs": [],
   "source": [
    "TRIGRAM_list = []\n",
    "for fi in os.listdir('Talerne\\Margrethe'):\n",
    "    with open(filename, encoding='utf-8') as file:\n",
    "        content = file.read()\n",
    "    \n",
    "    content = re.sub(\"[,-:'*.?:;–\\”]\",\" \",content)\n",
    "    content = content.lower()\n",
    "    content = content.split(' ')\n",
    "    \n",
    "    for i in range(len(content)-2):\n",
    "        trigram = content[i] + ' ' + content[i+1] + ' ' + content[i+2]\n",
    "        if trigram in TRIGRAM_list:\n",
    "            pass\n",
    "        else:\n",
    "            TRIGRAM_list.append(trigram)"
   ]
  }
 ],
 "metadata": {
  "kernelspec": {
   "display_name": "Python 3",
   "language": "python",
   "name": "python3"
  },
  "language_info": {
   "codemirror_mode": {
    "name": "ipython",
    "version": 3
   },
   "file_extension": ".py",
   "mimetype": "text/x-python",
   "name": "python",
   "nbconvert_exporter": "python",
   "pygments_lexer": "ipython3",
   "version": "3.10.6"
  }
 },
 "nbformat": 4,
 "nbformat_minor": 2
}
