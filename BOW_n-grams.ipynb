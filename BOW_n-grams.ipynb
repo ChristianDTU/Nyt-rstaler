{
 "cells": [
  {
   "cell_type": "code",
   "execution_count": 2,
   "metadata": {},
   "outputs": [],
   "source": [
    "import re\n",
    "import os\n",
    "import pandas as pd\n",
    "import numpy as np\n",
    "import nltk\n",
    "from nltk.tokenize import word_tokenize\n",
    "from pprint import pprint\n",
    "import math\n",
    "from sklearn.feature_extraction.text import TfidfVectorizer\n",
    "from scipy.linalg import svd"
   ]
  },
  {
   "cell_type": "markdown",
   "metadata": {},
   "source": [
    "# Split speech in sentences"
   ]
  },
  {
   "cell_type": "markdown",
   "metadata": {},
   "source": [
    "### Speeches to sentences with labels"
   ]
  },
  {
   "cell_type": "code",
   "execution_count": 3,
   "metadata": {},
   "outputs": [],
   "source": [
    "path1 = r\"Talerne\\Margrethe\"\n",
    "path2 = r\"Talerne\\Statsministeren\"\n",
    "\n",
    "def sentence_and_label(path):\n",
    "\n",
    "    sentences = {}\n",
    "\n",
    "    for file in os.listdir(path):\n",
    "        filename = os.path.join(path, file)\n",
    "\n",
    "        # Label the sentence\n",
    "        if \"Margrethe\" in file:\n",
    "            label = 0\n",
    "        else:\n",
    "            label = 1\n",
    "\n",
    "        with open(filename, encoding='utf-8') as speech:\n",
    "            speech = speech.read()\n",
    "        \n",
    "        speech = re.sub(\"[,*\\\"'-]\",\" \",speech)\n",
    "\n",
    "        speech = speech.lower()\n",
    "\n",
    "        tokens = nltk.sent_tokenize(speech, language=\"danish\")\n",
    "\n",
    "        for sentence in tokens:\n",
    "            sentence = re.sub(\"[.:;?!`–”«»%…‘’/()]\",\" \",sentence) \n",
    "            sentence = sentence.strip() # Uden mellemrum forrest eller bagerst\n",
    "            sentences[sentence] = label\n",
    "        \n",
    "    return sentences\n",
    "\n",
    "Margrethe_sentences_with_labels = sentence_and_label(path1)\n",
    "Statsministeren_sentences_with_labels = sentence_and_label(path2)"
   ]
  },
  {
   "cell_type": "code",
   "execution_count": 3,
   "metadata": {},
   "outputs": [],
   "source": [
    "# from pprint import pprint\n",
    "\n",
    "# # Pretty-print to look nice\n",
    "# pprint(Margrethe_sentences_with_labels)\n",
    "# pprint(Statsministeren_sentences_with_labels)\n"
   ]
  },
  {
   "cell_type": "code",
   "execution_count": null,
   "metadata": {},
   "outputs": [
    {
     "name": "stdout",
     "output_type": "stream",
     "text": [
      "10731\n"
     ]
    }
   ],
   "source": [
    "all_sentences = Margrethe_sentences_with_labels | Statsministeren_sentences_with_labels\n",
    "# pprint(all_sentences)\n",
    "print(len(all_sentences))"
   ]
  },
  {
   "cell_type": "code",
   "execution_count": 5,
   "metadata": {},
   "outputs": [],
   "source": [
    "# # Inspect the tokens that look suspicious\n",
    "# for sentence in all_sentences:\n",
    "#     tokens = word_tokenize(sentence)\n",
    "#     # Look for weird tokens\n",
    "#     weird_tokens = [t for t in tokens if not t.isalnum()]\n",
    "#     if weird_tokens:\n",
    "#         print(\"Weird tokens found:\", weird_tokens)"
   ]
  },
  {
   "cell_type": "markdown",
   "metadata": {},
   "source": [
    "### Separate keys and values into two lists (For vectorization)"
   ]
  },
  {
   "cell_type": "code",
   "execution_count": 6,
   "metadata": {},
   "outputs": [],
   "source": [
    "sentences_list = []\n",
    "labels_list = []\n",
    "\n",
    "for sentence in all_sentences:\n",
    "    sentences_list.append(sentence)\n",
    "    labels_list.append(all_sentences[sentence])\n",
    "\n",
    "# print(sentences_list)\n",
    "# print(labels_list)"
   ]
  },
  {
   "cell_type": "code",
   "execution_count": 7,
   "metadata": {},
   "outputs": [
    {
     "name": "stdout",
     "output_type": "stream",
     "text": [
      "10731\n"
     ]
    }
   ],
   "source": [
    "print(len(sentences_list))"
   ]
  },
  {
   "cell_type": "markdown",
   "metadata": {},
   "source": [
    "### Split data into training and testing:"
   ]
  },
  {
   "cell_type": "markdown",
   "metadata": {},
   "source": [
    "https://www.geeksforgeeks.org/how-to-split-data-into-training-and-testing-in-python-without-sklearn/"
   ]
  },
  {
   "cell_type": "code",
   "execution_count": 19,
   "metadata": {},
   "outputs": [
    {
     "data": {
      "text/html": [
       "<div>\n",
       "<style scoped>\n",
       "    .dataframe tbody tr th:only-of-type {\n",
       "        vertical-align: middle;\n",
       "    }\n",
       "\n",
       "    .dataframe tbody tr th {\n",
       "        vertical-align: top;\n",
       "    }\n",
       "\n",
       "    .dataframe thead th {\n",
       "        text-align: right;\n",
       "    }\n",
       "</style>\n",
       "<table border=\"1\" class=\"dataframe\">\n",
       "  <thead>\n",
       "    <tr style=\"text-align: right;\">\n",
       "      <th></th>\n",
       "      <th>Sentences</th>\n",
       "      <th>Labels</th>\n",
       "    </tr>\n",
       "  </thead>\n",
       "  <tbody>\n",
       "    <tr>\n",
       "      <th>0</th>\n",
       "      <td>for min familie og for mig selv blev dette år ...</td>\n",
       "      <td>0</td>\n",
       "    </tr>\n",
       "    <tr>\n",
       "      <th>1</th>\n",
       "      <td>den dybe sorg  der ramte os  følte vi  at hele...</td>\n",
       "      <td>0</td>\n",
       "    </tr>\n",
       "    <tr>\n",
       "      <th>2</th>\n",
       "      <td>de hjertelige følelser  som i de tunge dage st...</td>\n",
       "      <td>0</td>\n",
       "    </tr>\n",
       "    <tr>\n",
       "      <th>3</th>\n",
       "      <td>1972 vil blive et historisk år på mange måder</td>\n",
       "      <td>0</td>\n",
       "    </tr>\n",
       "    <tr>\n",
       "      <th>4</th>\n",
       "      <td>i danmarkshistorien vil året blive husket for ...</td>\n",
       "      <td>0</td>\n",
       "    </tr>\n",
       "    <tr>\n",
       "      <th>...</th>\n",
       "      <td>...</td>\n",
       "      <td>...</td>\n",
       "    </tr>\n",
       "    <tr>\n",
       "      <th>10726</th>\n",
       "      <td>jeg tror desværre  at de kommende år vil byde ...</td>\n",
       "      <td>1</td>\n",
       "    </tr>\n",
       "    <tr>\n",
       "      <th>10727</th>\n",
       "      <td>oprustning for at undgå krig er i mine øjne uo...</td>\n",
       "      <td>1</td>\n",
       "    </tr>\n",
       "    <tr>\n",
       "      <th>10728</th>\n",
       "      <td>men lad os gøre det på den danske måde</td>\n",
       "      <td>1</td>\n",
       "    </tr>\n",
       "    <tr>\n",
       "      <th>10729</th>\n",
       "      <td>socialt retfærdigt og med vores værdier i behold</td>\n",
       "      <td>1</td>\n",
       "    </tr>\n",
       "    <tr>\n",
       "      <th>10730</th>\n",
       "      <td>så kommer det hele ikke til at gå ad helvede til</td>\n",
       "      <td>1</td>\n",
       "    </tr>\n",
       "  </tbody>\n",
       "</table>\n",
       "<p>10731 rows × 2 columns</p>\n",
       "</div>"
      ],
      "text/plain": [
       "                                               Sentences  Labels\n",
       "0      for min familie og for mig selv blev dette år ...       0\n",
       "1      den dybe sorg  der ramte os  følte vi  at hele...       0\n",
       "2      de hjertelige følelser  som i de tunge dage st...       0\n",
       "3          1972 vil blive et historisk år på mange måder       0\n",
       "4      i danmarkshistorien vil året blive husket for ...       0\n",
       "...                                                  ...     ...\n",
       "10726  jeg tror desværre  at de kommende år vil byde ...       1\n",
       "10727  oprustning for at undgå krig er i mine øjne uo...       1\n",
       "10728             men lad os gøre det på den danske måde       1\n",
       "10729   socialt retfærdigt og med vores værdier i behold       1\n",
       "10730   så kommer det hele ikke til at gå ad helvede til       1\n",
       "\n",
       "[10731 rows x 2 columns]"
      ]
     },
     "execution_count": 19,
     "metadata": {},
     "output_type": "execute_result"
    }
   ],
   "source": [
    "df = pd.DataFrame({\n",
    "    \"Sentences\": sentences_list,\n",
    "    \"Labels\": labels_list,\n",
    "})\n",
    "df"
   ]
  },
  {
   "cell_type": "code",
   "execution_count": 20,
   "metadata": {},
   "outputs": [
    {
     "data": {
      "text/html": [
       "<div>\n",
       "<style scoped>\n",
       "    .dataframe tbody tr th:only-of-type {\n",
       "        vertical-align: middle;\n",
       "    }\n",
       "\n",
       "    .dataframe tbody tr th {\n",
       "        vertical-align: top;\n",
       "    }\n",
       "\n",
       "    .dataframe thead th {\n",
       "        text-align: right;\n",
       "    }\n",
       "</style>\n",
       "<table border=\"1\" class=\"dataframe\">\n",
       "  <thead>\n",
       "    <tr style=\"text-align: right;\">\n",
       "      <th></th>\n",
       "      <th>Sentences</th>\n",
       "      <th>Labels</th>\n",
       "    </tr>\n",
       "  </thead>\n",
       "  <tbody>\n",
       "    <tr>\n",
       "      <th>10702</th>\n",
       "      <td>sygeplejerskerne vender tilbage  og ventetider...</td>\n",
       "      <td>1</td>\n",
       "    </tr>\n",
       "    <tr>\n",
       "      <th>8347</th>\n",
       "      <td>og vi passer på hinanden</td>\n",
       "      <td>1</td>\n",
       "    </tr>\n",
       "    <tr>\n",
       "      <th>10124</th>\n",
       "      <td>vi skal stå fast på vores værdier</td>\n",
       "      <td>1</td>\n",
       "    </tr>\n",
       "    <tr>\n",
       "      <th>1787</th>\n",
       "      <td>måske var vi bedre til at forstå det  dengang ...</td>\n",
       "      <td>0</td>\n",
       "    </tr>\n",
       "    <tr>\n",
       "      <th>7062</th>\n",
       "      <td>vi skal have sygehuse af højeste kvalitet</td>\n",
       "      <td>1</td>\n",
       "    </tr>\n",
       "    <tr>\n",
       "      <th>...</th>\n",
       "      <td>...</td>\n",
       "      <td>...</td>\n",
       "    </tr>\n",
       "    <tr>\n",
       "      <th>5548</th>\n",
       "      <td>vi må udnytte alle muligheder for at presse pa...</td>\n",
       "      <td>1</td>\n",
       "    </tr>\n",
       "    <tr>\n",
       "      <th>9900</th>\n",
       "      <td>dengang manglede det danmark  som vi har nu</td>\n",
       "      <td>1</td>\n",
       "    </tr>\n",
       "    <tr>\n",
       "      <th>586</th>\n",
       "      <td>vi skal passe på  at vi ikke af misforstået be...</td>\n",
       "      <td>0</td>\n",
       "    </tr>\n",
       "    <tr>\n",
       "      <th>5277</th>\n",
       "      <td>men også utrolige fremskridt i forskning og vi...</td>\n",
       "      <td>1</td>\n",
       "    </tr>\n",
       "    <tr>\n",
       "      <th>2134</th>\n",
       "      <td>nu ser vi frem til  at prinsesse marie snart i...</td>\n",
       "      <td>0</td>\n",
       "    </tr>\n",
       "  </tbody>\n",
       "</table>\n",
       "<p>10731 rows × 2 columns</p>\n",
       "</div>"
      ],
      "text/plain": [
       "                                               Sentences  Labels\n",
       "10702  sygeplejerskerne vender tilbage  og ventetider...       1\n",
       "8347                            og vi passer på hinanden       1\n",
       "10124                  vi skal stå fast på vores værdier       1\n",
       "1787   måske var vi bedre til at forstå det  dengang ...       0\n",
       "7062           vi skal have sygehuse af højeste kvalitet       1\n",
       "...                                                  ...     ...\n",
       "5548   vi må udnytte alle muligheder for at presse pa...       1\n",
       "9900         dengang manglede det danmark  som vi har nu       1\n",
       "586    vi skal passe på  at vi ikke af misforstået be...       0\n",
       "5277   men også utrolige fremskridt i forskning og vi...       1\n",
       "2134   nu ser vi frem til  at prinsesse marie snart i...       0\n",
       "\n",
       "[10731 rows x 2 columns]"
      ]
     },
     "execution_count": 20,
     "metadata": {},
     "output_type": "execute_result"
    }
   ],
   "source": [
    "# Shuffle dataframe using sample function\n",
    "df = df.sample(frac=1)\n",
    "df"
   ]
  },
  {
   "cell_type": "code",
   "execution_count": 21,
   "metadata": {},
   "outputs": [],
   "source": [
    "# Select ratio\n",
    "ratio = 0.75\n",
    " \n",
    "total_rows = df.shape[0]\n",
    "train_size = int(total_rows*ratio)\n",
    " \n",
    "# Split data into test and train\n",
    "train = df[0:train_size]\n",
    "test = df[train_size:]"
   ]
  },
  {
   "cell_type": "code",
   "execution_count": 22,
   "metadata": {},
   "outputs": [
    {
     "name": "stdout",
     "output_type": "stream",
     "text": [
      "Train dataframe\n",
      "                                               Sentences  Labels\n",
      "10702  sygeplejerskerne vender tilbage  og ventetider...       1\n",
      "8347                            og vi passer på hinanden       1\n",
      "10124                  vi skal stå fast på vores værdier       1\n",
      "1787   måske var vi bedre til at forstå det  dengang ...       0\n",
      "7062           vi skal have sygehuse af højeste kvalitet       1\n",
      "...                                                  ...     ...\n",
      "6294   jeg vil gerne have et danmark  der ganske enke...       1\n",
      "3525          i mangelsamfundet var det en naturlig ting       1\n",
      "9992   vi vil blandt andet fjerne modregningen i pens...       1\n",
      "7907                                det forstår jeg godt       1\n",
      "3138   det er noget  der styrker os alle sammen både ...       0\n",
      "\n",
      "[8048 rows x 2 columns]\n",
      "Test dataframe\n",
      "                                              Sentences  Labels\n",
      "9546                     det gør enhver svær beslutning       1\n",
      "4190  1979 gjorde  at vi kom lidt i den rigtige retning       1\n",
      "305   mennesker  der bliver genstand for oprigtige b...       0\n",
      "6694  det er min ambition  at vi danskere skal være ...       1\n",
      "7053  opgaven bør samle alle  der både ønsker velfær...       1\n",
      "...                                                 ...     ...\n",
      "5548  vi må udnytte alle muligheder for at presse pa...       1\n",
      "9900        dengang manglede det danmark  som vi har nu       1\n",
      "586   vi skal passe på  at vi ikke af misforstået be...       0\n",
      "5277  men også utrolige fremskridt i forskning og vi...       1\n",
      "2134  nu ser vi frem til  at prinsesse marie snart i...       0\n",
      "\n",
      "[2683 rows x 2 columns]\n"
     ]
    }
   ],
   "source": [
    "# print train set\n",
    "print(\"Train dataframe\")\n",
    "print(train)\n",
    " \n",
    "# print test set\n",
    "print(\"Test dataframe\")\n",
    "print(test)"
   ]
  },
  {
   "cell_type": "code",
   "execution_count": 23,
   "metadata": {},
   "outputs": [],
   "source": [
    "train_sentences = train['Sentences'].tolist()\n",
    "train_labels = train[\"Labels\"].tolist()\n",
    "\n",
    "test_sentences = test['Sentences'].tolist()\n",
    "test_labels = test[\"Labels\"].tolist()"
   ]
  },
  {
   "cell_type": "markdown",
   "metadata": {},
   "source": [
    "Tjekke samme anddel statsministertaler i begge datasæt:"
   ]
  },
  {
   "cell_type": "code",
   "execution_count": 24,
   "metadata": {},
   "outputs": [
    {
     "data": {
      "text/plain": [
       "0.6937127236580517"
      ]
     },
     "execution_count": 24,
     "metadata": {},
     "output_type": "execute_result"
    }
   ],
   "source": [
    "sum(train_labels)/len(train_labels)"
   ]
  },
  {
   "cell_type": "code",
   "execution_count": 25,
   "metadata": {},
   "outputs": [
    {
     "data": {
      "text/plain": [
       "0.6962355572120761"
      ]
     },
     "execution_count": 25,
     "metadata": {},
     "output_type": "execute_result"
    }
   ],
   "source": [
    "sum(test_labels)/len(test_labels)"
   ]
  },
  {
   "cell_type": "markdown",
   "metadata": {},
   "source": [
    "### Gemmer de 2 dataframes i csv:"
   ]
  },
  {
   "cell_type": "code",
   "execution_count": null,
   "metadata": {},
   "outputs": [],
   "source": [
    "train.to_csv(\"train_dataframe\",sep=\",\")"
   ]
  },
  {
   "cell_type": "code",
   "execution_count": null,
   "metadata": {},
   "outputs": [],
   "source": [
    "test.to_csv(\"train_dataframe\",sep=\",\")"
   ]
  },
  {
   "cell_type": "markdown",
   "metadata": {},
   "source": [
    "# UNIGRAM"
   ]
  },
  {
   "cell_type": "markdown",
   "metadata": {},
   "source": [
    "Kun for træningssætninger!"
   ]
  },
  {
   "cell_type": "code",
   "execution_count": 26,
   "metadata": {},
   "outputs": [
    {
     "name": "stdout",
     "output_type": "stream",
     "text": [
      "9972\n"
     ]
    }
   ],
   "source": [
    "unigram_dict = {}\n",
    "unigram_set = set()\n",
    "unigram_nt = {}\n",
    "\n",
    "for sentence in train_sentences:\n",
    "    # tokens i den givne sætning\n",
    "    sentence_tokens = [word for word in word_tokenize(sentence)]\n",
    "\n",
    "    # hvilke unigrams, der er blevet set i den givne sætning\n",
    "    seen_unigrams = set()\n",
    "\n",
    "    for unigram in sentence_tokens:\n",
    "        if unigram in unigram_set:\n",
    "            unigram_dict[unigram] += 1\n",
    "        else:\n",
    "            unigram_dict[unigram] = 1\n",
    "            unigram_set.add(unigram)\n",
    "     \n",
    "        # Udregn nt - dvs antal af alle sætninger, der indeholder det givne unigram\n",
    "        if unigram not in seen_unigrams:\n",
    "            if unigram not in unigram_nt:\n",
    "                unigram_nt[unigram] = 1\n",
    "            else:\n",
    "                unigram_nt[unigram] += 1\n",
    "            seen_unigrams.add(unigram)\n",
    "\n",
    "print(len(unigram_dict))\n",
    "# print(unigram_dict)\n",
    "# print(unigram_nt)"
   ]
  },
  {
   "cell_type": "code",
   "execution_count": 9,
   "metadata": {},
   "outputs": [],
   "source": [
    "# pprint(unigram_dict)"
   ]
  },
  {
   "cell_type": "code",
   "execution_count": 27,
   "metadata": {},
   "outputs": [],
   "source": [
    "unigram_dict_forkortet = {}\n",
    "\n",
    "# adder kun de unigrams, der er blevet talt mere end 1 gang.\n",
    "for unigram in unigram_dict.keys():\n",
    "    if unigram_dict[unigram] > 1:\n",
    "        unigram_dict_forkortet[unigram] = unigram_dict[unigram] \n",
    "\n",
    "# unigram_dict_forkortet"
   ]
  },
  {
   "cell_type": "code",
   "execution_count": 28,
   "metadata": {},
   "outputs": [
    {
     "data": {
      "text/plain": [
       "4682"
      ]
     },
     "execution_count": 28,
     "metadata": {},
     "output_type": "execute_result"
    }
   ],
   "source": [
    "len(unigram_dict_forkortet)"
   ]
  },
  {
   "cell_type": "markdown",
   "metadata": {},
   "source": [
    "# BIGRAM"
   ]
  },
  {
   "cell_type": "markdown",
   "metadata": {},
   "source": [
    "Kun for træningssætninger!"
   ]
  },
  {
   "cell_type": "code",
   "execution_count": 29,
   "metadata": {},
   "outputs": [],
   "source": [
    "bigram_dict = {}\n",
    "bigram_set = set()\n",
    "bigram_nt = {}\n",
    "\n",
    "# print(bigram_nt)\n",
    "\n",
    "for sentence in train_sentences:\n",
    "    sentence_tokens = [word for word in word_tokenize(sentence)]\n",
    "    seen_bigrams = set()\n",
    "\n",
    "    for i in range(len(sentence_tokens)-1):\n",
    "        bigram = sentence_tokens[i] + ' ' + sentence_tokens[i+1]\n",
    "        if bigram in bigram_set:\n",
    "            bigram_dict[bigram] += 1\n",
    "        else:\n",
    "            bigram_dict[bigram] = 1\n",
    "            bigram_set.add(bigram)\n",
    "    \n",
    "    # Udregn nt\n",
    "        if bigram not in seen_bigrams:\n",
    "            if bigram not in bigram_nt:\n",
    "                bigram_nt[bigram] = 1\n",
    "            else:\n",
    "                bigram_nt[bigram] += 1\n",
    "            seen_bigrams.add(bigram)\n",
    "\n",
    "# print(bigram_nt)"
   ]
  },
  {
   "cell_type": "code",
   "execution_count": 30,
   "metadata": {},
   "outputs": [
    {
     "data": {
      "text/plain": [
       "49105"
      ]
     },
     "execution_count": 30,
     "metadata": {},
     "output_type": "execute_result"
    }
   ],
   "source": [
    "len(bigram_dict)"
   ]
  },
  {
   "cell_type": "code",
   "execution_count": 14,
   "metadata": {},
   "outputs": [],
   "source": [
    "# bigram_dict"
   ]
  },
  {
   "cell_type": "code",
   "execution_count": 31,
   "metadata": {},
   "outputs": [],
   "source": [
    "bigram_dict_forkortet = {}\n",
    "\n",
    "for bigram in bigram_dict.keys():\n",
    "    if bigram_dict[bigram] > 1:\n",
    "        bigram_dict_forkortet[bigram] = bigram_dict[bigram] \n",
    "\n",
    "# bigram_dict_forkortet"
   ]
  },
  {
   "cell_type": "code",
   "execution_count": 32,
   "metadata": {},
   "outputs": [
    {
     "data": {
      "text/plain": [
       "11806"
      ]
     },
     "execution_count": 32,
     "metadata": {},
     "output_type": "execute_result"
    }
   ],
   "source": [
    "len(bigram_dict_forkortet)"
   ]
  },
  {
   "cell_type": "markdown",
   "metadata": {},
   "source": [
    "# TRIGRAM"
   ]
  },
  {
   "cell_type": "markdown",
   "metadata": {},
   "source": [
    "Kun for træningssætninger!"
   ]
  },
  {
   "cell_type": "code",
   "execution_count": 33,
   "metadata": {},
   "outputs": [],
   "source": [
    "trigram_dict = {}\n",
    "trigram_set = set()\n",
    "trigram_nt = {}\n",
    "\n",
    "for sentence in train_sentences:\n",
    "    sentence_tokens = [word for word in word_tokenize(sentence)]\n",
    "    seen_trigrams = set()\n",
    "\n",
    "    for i in range(len(sentence_tokens)-2):\n",
    "        trigram = sentence_tokens[i] + ' ' + sentence_tokens[i+1] + ' ' + sentence_tokens[i+2]\n",
    "        if trigram in trigram_set:\n",
    "            trigram_dict[trigram] += 1\n",
    "        else:\n",
    "            trigram_dict[trigram] = 1\n",
    "            trigram_set.add(trigram)\n",
    "\n",
    "        # udregn nt\n",
    "        if trigram not in seen_trigrams:\n",
    "            if trigram not in trigram_nt:\n",
    "                trigram_nt[trigram] = 1\n",
    "            else:\n",
    "                trigram_nt[trigram] += 1\n",
    "            seen_trigrams.add(trigram)\n",
    "\n",
    "\n",
    "# print(trigram_nt)"
   ]
  },
  {
   "cell_type": "code",
   "execution_count": 18,
   "metadata": {},
   "outputs": [],
   "source": [
    "# trigram_dict"
   ]
  },
  {
   "cell_type": "code",
   "execution_count": 34,
   "metadata": {},
   "outputs": [
    {
     "data": {
      "text/plain": [
       "78429"
      ]
     },
     "execution_count": 34,
     "metadata": {},
     "output_type": "execute_result"
    }
   ],
   "source": [
    "len(trigram_dict) # finder 4000 flere trigrams end sklearn???"
   ]
  },
  {
   "cell_type": "code",
   "execution_count": 35,
   "metadata": {},
   "outputs": [],
   "source": [
    "trigram_dict_forkortet = {}\n",
    "\n",
    "for trigram in trigram_dict.keys():\n",
    "    if trigram_dict[trigram] > 1:\n",
    "        trigram_dict_forkortet[trigram] = trigram_dict[trigram] \n",
    "\n",
    "# trigram_dict_forkortet"
   ]
  },
  {
   "cell_type": "code",
   "execution_count": 36,
   "metadata": {},
   "outputs": [
    {
     "data": {
      "text/plain": [
       "8254"
      ]
     },
     "execution_count": 36,
     "metadata": {},
     "output_type": "execute_result"
    }
   ],
   "source": [
    "len(trigram_dict_forkortet)"
   ]
  },
  {
   "cell_type": "markdown",
   "metadata": {},
   "source": [
    "# ALLE I ÉN LISTE"
   ]
  },
  {
   "cell_type": "markdown",
   "metadata": {},
   "source": [
    "Kun for træningssætninger!"
   ]
  },
  {
   "cell_type": "code",
   "execution_count": 37,
   "metadata": {},
   "outputs": [
    {
     "data": {
      "text/plain": [
       "24742"
      ]
     },
     "execution_count": 37,
     "metadata": {},
     "output_type": "execute_result"
    }
   ],
   "source": [
    "len(unigram_dict_forkortet) + len(bigram_dict_forkortet) + len(trigram_dict_forkortet)"
   ]
  },
  {
   "cell_type": "code",
   "execution_count": 38,
   "metadata": {},
   "outputs": [],
   "source": [
    "n_gram_dict = unigram_dict_forkortet | bigram_dict_forkortet | trigram_dict_forkortet"
   ]
  },
  {
   "cell_type": "code",
   "execution_count": 24,
   "metadata": {},
   "outputs": [],
   "source": [
    "# pprint(n_gram_dict)"
   ]
  },
  {
   "cell_type": "code",
   "execution_count": 39,
   "metadata": {},
   "outputs": [
    {
     "data": {
      "text/plain": [
       "24742"
      ]
     },
     "execution_count": 39,
     "metadata": {},
     "output_type": "execute_result"
    }
   ],
   "source": [
    "len(n_gram_dict)"
   ]
  },
  {
   "cell_type": "code",
   "execution_count": 40,
   "metadata": {},
   "outputs": [],
   "source": [
    "alle_nt = unigram_nt | bigram_nt | trigram_nt"
   ]
  },
  {
   "cell_type": "markdown",
   "metadata": {},
   "source": [
    "# Document-term matrix:"
   ]
  },
  {
   "cell_type": "markdown",
   "metadata": {},
   "source": [
    "Kun for træningssætninger!"
   ]
  },
  {
   "cell_type": "code",
   "execution_count": 42,
   "metadata": {},
   "outputs": [],
   "source": [
    "n_gram_keys_list = [key for key in n_gram_dict.keys()]"
   ]
  },
  {
   "cell_type": "code",
   "execution_count": 28,
   "metadata": {},
   "outputs": [],
   "source": [
    "# sentences_list"
   ]
  },
  {
   "cell_type": "code",
   "execution_count": 41,
   "metadata": {},
   "outputs": [
    {
     "ename": "NameError",
     "evalue": "name 'n_gram_keys_list' is not defined",
     "output_type": "error",
     "traceback": [
      "\u001b[1;31m---------------------------------------------------------------------------\u001b[0m",
      "\u001b[1;31mNameError\u001b[0m                                 Traceback (most recent call last)",
      "Cell \u001b[1;32mIn[41], line 1\u001b[0m\n\u001b[1;32m----> 1\u001b[0m document_term_matrix \u001b[38;5;241m=\u001b[39m np\u001b[38;5;241m.\u001b[39mempty((\u001b[38;5;28mlen\u001b[39m(train_sentences),\u001b[38;5;28mlen\u001b[39m(\u001b[43mn_gram_keys_list\u001b[49m)),dtype\u001b[38;5;241m=\u001b[39m\u001b[38;5;124m'\u001b[39m\u001b[38;5;124muint8\u001b[39m\u001b[38;5;124m'\u001b[39m)\n\u001b[0;32m      3\u001b[0m \u001b[38;5;28;01mfor\u001b[39;00m i \u001b[38;5;129;01min\u001b[39;00m \u001b[38;5;28mrange\u001b[39m(\u001b[38;5;28mlen\u001b[39m(train_sentences)):\n\u001b[0;32m      4\u001b[0m     \u001b[38;5;28;01mfor\u001b[39;00m j \u001b[38;5;129;01min\u001b[39;00m \u001b[38;5;28mrange\u001b[39m(\u001b[38;5;28mlen\u001b[39m(n_gram_keys_list)):\n",
      "\u001b[1;31mNameError\u001b[0m: name 'n_gram_keys_list' is not defined"
     ]
    }
   ],
   "source": [
    "document_term_matrix = np.empty((len(train_sentences),len(n_gram_keys_list)),dtype='uint8')\n",
    "\n",
    "for i in range(len(train_sentences)):\n",
    "    for j in range(len(n_gram_keys_list)):\n",
    "        count = train_sentences[i].count(n_gram_keys_list[j])\n",
    "        document_term_matrix[i,j] = count\n",
    "        \n",
    "document_term_matrix"
   ]
  },
  {
   "cell_type": "code",
   "execution_count": 30,
   "metadata": {},
   "outputs": [
    {
     "data": {
      "text/plain": [
       "(10731, 32418)"
      ]
     },
     "execution_count": 30,
     "metadata": {},
     "output_type": "execute_result"
    }
   ],
   "source": [
    "document_term_matrix.shape"
   ]
  },
  {
   "cell_type": "code",
   "execution_count": 31,
   "metadata": {},
   "outputs": [],
   "source": [
    "# document_term_matrix.to_string()"
   ]
  },
  {
   "cell_type": "code",
   "execution_count": 43,
   "metadata": {},
   "outputs": [
    {
     "ename": "NameError",
     "evalue": "name 'document_term_matrix' is not defined",
     "output_type": "error",
     "traceback": [
      "\u001b[1;31m---------------------------------------------------------------------------\u001b[0m",
      "\u001b[1;31mNameError\u001b[0m                                 Traceback (most recent call last)",
      "Cell \u001b[1;32mIn[43], line 1\u001b[0m\n\u001b[1;32m----> 1\u001b[0m document_term_matrix_df \u001b[38;5;241m=\u001b[39m df \u001b[38;5;241m=\u001b[39m pd\u001b[38;5;241m.\u001b[39mDataFrame(data \u001b[38;5;241m=\u001b[39m \u001b[43mdocument_term_matrix\u001b[49m,  \n\u001b[0;32m      2\u001b[0m                   index \u001b[38;5;241m=\u001b[39m train_sentences,  \n\u001b[0;32m      3\u001b[0m                   columns \u001b[38;5;241m=\u001b[39m n_gram_keys_list) \n\u001b[0;32m      4\u001b[0m document_term_matrix_df\n",
      "\u001b[1;31mNameError\u001b[0m: name 'document_term_matrix' is not defined"
     ]
    }
   ],
   "source": [
    "document_term_matrix_df = df = pd.DataFrame(data = document_term_matrix,  \n",
    "                  index = train_sentences,  \n",
    "                  columns = n_gram_keys_list) \n",
    "document_term_matrix_df"
   ]
  },
  {
   "cell_type": "markdown",
   "metadata": {},
   "source": [
    "# TF-IDF matrix:"
   ]
  },
  {
   "cell_type": "markdown",
   "metadata": {},
   "source": [
    "Kun for træningssætninger!"
   ]
  },
  {
   "attachments": {
    "image-2.png": {
     "image/png": "[encoded data removed]"
    }
   },
   "cell_type": "markdown",
   "metadata": {},
   "source": [
    "![image-2.png](attachment:image-2.png)"
   ]
  },
  {
   "cell_type": "code",
   "execution_count": 33,
   "metadata": {},
   "outputs": [
    {
     "data": {
      "text/plain": [
       "array([[0.15708063, 0.40776003, 0.23737934, ..., 0.        , 0.        ,\n",
       "        0.        ],\n",
       "       [0.0261801 , 0.20388001, 0.        , ..., 0.        , 0.        ,\n",
       "        0.        ],\n",
       "       [0.        , 0.09684301, 0.        , ..., 0.        , 0.        ,\n",
       "        0.        ],\n",
       "       ...,\n",
       "       [0.        , 0.        , 0.        , ..., 0.        , 0.        ,\n",
       "        0.        ],\n",
       "       [0.        , 0.        , 0.        , ..., 0.        , 0.        ,\n",
       "        0.        ],\n",
       "       [0.        , 0.        , 0.        , ..., 0.        , 0.        ,\n",
       "        0.        ]])"
      ]
     },
     "execution_count": 33,
     "metadata": {},
     "output_type": "execute_result"
    }
   ],
   "source": [
    "document_term_idf_matrix = np.empty((len(train_sentences),len(n_gram_keys_list)))\n",
    "\n",
    "for i in range(len(train_sentences)):\n",
    "    # print(train_sentences[i])\n",
    "    tokens = train_sentences[i].split(\" \")\n",
    "    # print(tokens)\n",
    "    for j in range(len(n_gram_keys_list)):\n",
    "        term = n_gram_keys_list[j]\n",
    "        ntd = train_sentences[i].count(term)\n",
    "        nd = len(tokens)\n",
    "        nt = alle_nt[term]\n",
    "        tf_idf = (ntd/nd) * math.log(len(train_sentences)/nt)\n",
    "\n",
    "        # print(term,ntd,nd,nt,math.log(len(train_sentences)/nt),tf_idf)\n",
    "\n",
    "        # smooth idf: \n",
    "        # print(math.log((1 + len(train_sentences)) / (1 + nt)) + 1)\n",
    "\n",
    "        document_term_idf_matrix[i, j] = tf_idf\n",
    "\n",
    "document_term_idf_matrix"
   ]
  },
  {
   "cell_type": "code",
   "execution_count": 34,
   "metadata": {},
   "outputs": [
    {
     "data": {
      "text/plain": [
       "(10731, 32418)"
      ]
     },
     "execution_count": 34,
     "metadata": {},
     "output_type": "execute_result"
    }
   ],
   "source": [
    "document_term_idf_matrix.shape"
   ]
  },
  {
   "cell_type": "code",
   "execution_count": 35,
   "metadata": {},
   "outputs": [],
   "source": [
    "# document_term_idf_matrix.to_string()"
   ]
  },
  {
   "cell_type": "code",
   "execution_count": 36,
   "metadata": {},
   "outputs": [
    {
     "data": {
      "text/html": [
       "<div>\n",
       "<style scoped>\n",
       "    .dataframe tbody tr th:only-of-type {\n",
       "        vertical-align: middle;\n",
       "    }\n",
       "\n",
       "    .dataframe tbody tr th {\n",
       "        vertical-align: top;\n",
       "    }\n",
       "\n",
       "    .dataframe thead th {\n",
       "        text-align: right;\n",
       "    }\n",
       "</style>\n",
       "<table border=\"1\" class=\"dataframe\">\n",
       "  <thead>\n",
       "    <tr style=\"text-align: right;\">\n",
       "      <th></th>\n",
       "      <th>for</th>\n",
       "      <th>min</th>\n",
       "      <th>familie</th>\n",
       "      <th>og</th>\n",
       "      <th>mig</th>\n",
       "      <th>selv</th>\n",
       "      <th>blev</th>\n",
       "      <th>dette</th>\n",
       "      <th>år</th>\n",
       "      <th>skelsættende</th>\n",
       "      <th>...</th>\n",
       "      <th>de befolkninger i</th>\n",
       "      <th>befolkninger i verden</th>\n",
       "      <th>uanset hvad der</th>\n",
       "      <th>er historien om</th>\n",
       "      <th>vi bevæger os</th>\n",
       "      <th>bevæger os fremad</th>\n",
       "      <th>med de seneste</th>\n",
       "      <th>og hvis du</th>\n",
       "      <th>man siger at</th>\n",
       "      <th>år vil byde</th>\n",
       "    </tr>\n",
       "  </thead>\n",
       "  <tbody>\n",
       "    <tr>\n",
       "      <th>for min familie og for mig selv blev dette år skelsættende ved min fader kong frederiks sygdom og død</th>\n",
       "      <td>0.157081</td>\n",
       "      <td>0.407760</td>\n",
       "      <td>0.237379</td>\n",
       "      <td>0.099851</td>\n",
       "      <td>0.208826</td>\n",
       "      <td>0.17446</td>\n",
       "      <td>0.201121</td>\n",
       "      <td>0.243523</td>\n",
       "      <td>0.131630</td>\n",
       "      <td>0.379024</td>\n",
       "      <td>...</td>\n",
       "      <td>0.0</td>\n",
       "      <td>0.0</td>\n",
       "      <td>0.0</td>\n",
       "      <td>0.0</td>\n",
       "      <td>0.0</td>\n",
       "      <td>0.0</td>\n",
       "      <td>0.0</td>\n",
       "      <td>0.0</td>\n",
       "      <td>0.0</td>\n",
       "      <td>0.000000</td>\n",
       "    </tr>\n",
       "    <tr>\n",
       "      <th>den dybe sorg  der ramte os  følte vi  at hele folket tog del i  og jeg kan ikke begynde denne min første nytårshilsen uden at bringe en tak for al den varme og sympati  som blev prins henrik og mig  men ikke mindst min moder  dronning ingrid  til del</th>\n",
       "      <td>0.026180</td>\n",
       "      <td>0.203880</td>\n",
       "      <td>0.000000</td>\n",
       "      <td>0.066567</td>\n",
       "      <td>0.069609</td>\n",
       "      <td>0.00000</td>\n",
       "      <td>0.067040</td>\n",
       "      <td>0.000000</td>\n",
       "      <td>0.043877</td>\n",
       "      <td>0.000000</td>\n",
       "      <td>...</td>\n",
       "      <td>0.0</td>\n",
       "      <td>0.0</td>\n",
       "      <td>0.0</td>\n",
       "      <td>0.0</td>\n",
       "      <td>0.0</td>\n",
       "      <td>0.0</td>\n",
       "      <td>0.0</td>\n",
       "      <td>0.0</td>\n",
       "      <td>0.0</td>\n",
       "      <td>0.000000</td>\n",
       "    </tr>\n",
       "    <tr>\n",
       "      <th>de hjertelige følelser  som i de tunge dage støttede og løftede os  har jeg siden i årets løb mødt så mange gange  og det har været mig en glæde og inspiration i min gerning som danmarks dronning</th>\n",
       "      <td>0.000000</td>\n",
       "      <td>0.096843</td>\n",
       "      <td>0.000000</td>\n",
       "      <td>0.071144</td>\n",
       "      <td>0.099192</td>\n",
       "      <td>0.00000</td>\n",
       "      <td>0.000000</td>\n",
       "      <td>0.000000</td>\n",
       "      <td>0.062524</td>\n",
       "      <td>0.000000</td>\n",
       "      <td>...</td>\n",
       "      <td>0.0</td>\n",
       "      <td>0.0</td>\n",
       "      <td>0.0</td>\n",
       "      <td>0.0</td>\n",
       "      <td>0.0</td>\n",
       "      <td>0.0</td>\n",
       "      <td>0.0</td>\n",
       "      <td>0.0</td>\n",
       "      <td>0.0</td>\n",
       "      <td>0.000000</td>\n",
       "    </tr>\n",
       "    <tr>\n",
       "      <th>1972 vil blive et historisk år på mange måder</th>\n",
       "      <td>0.000000</td>\n",
       "      <td>0.000000</td>\n",
       "      <td>0.000000</td>\n",
       "      <td>0.000000</td>\n",
       "      <td>0.000000</td>\n",
       "      <td>0.00000</td>\n",
       "      <td>0.000000</td>\n",
       "      <td>0.000000</td>\n",
       "      <td>0.277886</td>\n",
       "      <td>0.000000</td>\n",
       "      <td>...</td>\n",
       "      <td>0.0</td>\n",
       "      <td>0.0</td>\n",
       "      <td>0.0</td>\n",
       "      <td>0.0</td>\n",
       "      <td>0.0</td>\n",
       "      <td>0.0</td>\n",
       "      <td>0.0</td>\n",
       "      <td>0.0</td>\n",
       "      <td>0.0</td>\n",
       "      <td>0.000000</td>\n",
       "    </tr>\n",
       "    <tr>\n",
       "      <th>i danmarkshistorien vil året blive husket for den betydningsfulde beslutning  som det danske folk traf om danmarks medlemskab af det udvidede europæiske fællesskab</th>\n",
       "      <td>0.062178</td>\n",
       "      <td>0.000000</td>\n",
       "      <td>0.000000</td>\n",
       "      <td>0.000000</td>\n",
       "      <td>0.000000</td>\n",
       "      <td>0.00000</td>\n",
       "      <td>0.000000</td>\n",
       "      <td>0.000000</td>\n",
       "      <td>0.104207</td>\n",
       "      <td>0.000000</td>\n",
       "      <td>...</td>\n",
       "      <td>0.0</td>\n",
       "      <td>0.0</td>\n",
       "      <td>0.0</td>\n",
       "      <td>0.0</td>\n",
       "      <td>0.0</td>\n",
       "      <td>0.0</td>\n",
       "      <td>0.0</td>\n",
       "      <td>0.0</td>\n",
       "      <td>0.0</td>\n",
       "      <td>0.000000</td>\n",
       "    </tr>\n",
       "    <tr>\n",
       "      <th>...</th>\n",
       "      <td>...</td>\n",
       "      <td>...</td>\n",
       "      <td>...</td>\n",
       "      <td>...</td>\n",
       "      <td>...</td>\n",
       "      <td>...</td>\n",
       "      <td>...</td>\n",
       "      <td>...</td>\n",
       "      <td>...</td>\n",
       "      <td>...</td>\n",
       "      <td>...</td>\n",
       "      <td>...</td>\n",
       "      <td>...</td>\n",
       "      <td>...</td>\n",
       "      <td>...</td>\n",
       "      <td>...</td>\n",
       "      <td>...</td>\n",
       "      <td>...</td>\n",
       "      <td>...</td>\n",
       "      <td>...</td>\n",
       "      <td>...</td>\n",
       "    </tr>\n",
       "    <tr>\n",
       "      <th>jeg tror desværre  at de kommende år vil byde på flere trusler mod vores land og levevis</th>\n",
       "      <td>0.000000</td>\n",
       "      <td>0.000000</td>\n",
       "      <td>0.000000</td>\n",
       "      <td>0.052699</td>\n",
       "      <td>0.000000</td>\n",
       "      <td>0.00000</td>\n",
       "      <td>0.000000</td>\n",
       "      <td>0.000000</td>\n",
       "      <td>0.138943</td>\n",
       "      <td>0.000000</td>\n",
       "      <td>...</td>\n",
       "      <td>0.0</td>\n",
       "      <td>0.0</td>\n",
       "      <td>0.0</td>\n",
       "      <td>0.0</td>\n",
       "      <td>0.0</td>\n",
       "      <td>0.0</td>\n",
       "      <td>0.0</td>\n",
       "      <td>0.0</td>\n",
       "      <td>0.0</td>\n",
       "      <td>0.477097</td>\n",
       "    </tr>\n",
       "    <tr>\n",
       "      <th>oprustning for at undgå krig er i mine øjne uomgængeligt</th>\n",
       "      <td>0.149227</td>\n",
       "      <td>0.387372</td>\n",
       "      <td>0.000000</td>\n",
       "      <td>0.000000</td>\n",
       "      <td>0.000000</td>\n",
       "      <td>0.00000</td>\n",
       "      <td>0.000000</td>\n",
       "      <td>0.000000</td>\n",
       "      <td>0.000000</td>\n",
       "      <td>0.000000</td>\n",
       "      <td>...</td>\n",
       "      <td>0.0</td>\n",
       "      <td>0.0</td>\n",
       "      <td>0.0</td>\n",
       "      <td>0.0</td>\n",
       "      <td>0.0</td>\n",
       "      <td>0.0</td>\n",
       "      <td>0.0</td>\n",
       "      <td>0.0</td>\n",
       "      <td>0.0</td>\n",
       "      <td>0.000000</td>\n",
       "    </tr>\n",
       "    <tr>\n",
       "      <th>men lad os gøre det på den danske måde</th>\n",
       "      <td>0.000000</td>\n",
       "      <td>0.000000</td>\n",
       "      <td>0.000000</td>\n",
       "      <td>0.000000</td>\n",
       "      <td>0.000000</td>\n",
       "      <td>0.00000</td>\n",
       "      <td>0.000000</td>\n",
       "      <td>0.000000</td>\n",
       "      <td>0.000000</td>\n",
       "      <td>0.000000</td>\n",
       "      <td>...</td>\n",
       "      <td>0.0</td>\n",
       "      <td>0.0</td>\n",
       "      <td>0.0</td>\n",
       "      <td>0.0</td>\n",
       "      <td>0.0</td>\n",
       "      <td>0.0</td>\n",
       "      <td>0.0</td>\n",
       "      <td>0.0</td>\n",
       "      <td>0.0</td>\n",
       "      <td>0.000000</td>\n",
       "    </tr>\n",
       "    <tr>\n",
       "      <th>socialt retfærdigt og med vores værdier i behold</th>\n",
       "      <td>0.000000</td>\n",
       "      <td>0.000000</td>\n",
       "      <td>0.000000</td>\n",
       "      <td>0.118573</td>\n",
       "      <td>0.000000</td>\n",
       "      <td>0.00000</td>\n",
       "      <td>0.000000</td>\n",
       "      <td>0.000000</td>\n",
       "      <td>0.000000</td>\n",
       "      <td>0.000000</td>\n",
       "      <td>...</td>\n",
       "      <td>0.0</td>\n",
       "      <td>0.0</td>\n",
       "      <td>0.0</td>\n",
       "      <td>0.0</td>\n",
       "      <td>0.0</td>\n",
       "      <td>0.0</td>\n",
       "      <td>0.0</td>\n",
       "      <td>0.0</td>\n",
       "      <td>0.0</td>\n",
       "      <td>0.000000</td>\n",
       "    </tr>\n",
       "    <tr>\n",
       "      <th>så kommer det hele ikke til at gå ad helvede til</th>\n",
       "      <td>0.000000</td>\n",
       "      <td>0.000000</td>\n",
       "      <td>0.000000</td>\n",
       "      <td>0.000000</td>\n",
       "      <td>0.000000</td>\n",
       "      <td>0.00000</td>\n",
       "      <td>0.000000</td>\n",
       "      <td>0.000000</td>\n",
       "      <td>0.000000</td>\n",
       "      <td>0.000000</td>\n",
       "      <td>...</td>\n",
       "      <td>0.0</td>\n",
       "      <td>0.0</td>\n",
       "      <td>0.0</td>\n",
       "      <td>0.0</td>\n",
       "      <td>0.0</td>\n",
       "      <td>0.0</td>\n",
       "      <td>0.0</td>\n",
       "      <td>0.0</td>\n",
       "      <td>0.0</td>\n",
       "      <td>0.000000</td>\n",
       "    </tr>\n",
       "  </tbody>\n",
       "</table>\n",
       "<p>10731 rows × 32418 columns</p>\n",
       "</div>"
      ],
      "text/plain": [
       "                                                         for       min  \\\n",
       "for min familie og for mig selv blev dette år s...  0.157081  0.407760   \n",
       "den dybe sorg  der ramte os  følte vi  at hele ...  0.026180  0.203880   \n",
       "de hjertelige følelser  som i de tunge dage stø...  0.000000  0.096843   \n",
       "1972 vil blive et historisk år på mange måder       0.000000  0.000000   \n",
       "i danmarkshistorien vil året blive husket for d...  0.062178  0.000000   \n",
       "...                                                      ...       ...   \n",
       "jeg tror desværre  at de kommende år vil byde p...  0.000000  0.000000   \n",
       "oprustning for at undgå krig er i mine øjne uom...  0.149227  0.387372   \n",
       "men lad os gøre det på den danske måde              0.000000  0.000000   \n",
       "socialt retfærdigt og med vores værdier i behold    0.000000  0.000000   \n",
       "så kommer det hele ikke til at gå ad helvede til    0.000000  0.000000   \n",
       "\n",
       "                                                     familie        og  \\\n",
       "for min familie og for mig selv blev dette år s...  0.237379  0.099851   \n",
       "den dybe sorg  der ramte os  følte vi  at hele ...  0.000000  0.066567   \n",
       "de hjertelige følelser  som i de tunge dage stø...  0.000000  0.071144   \n",
       "1972 vil blive et historisk år på mange måder       0.000000  0.000000   \n",
       "i danmarkshistorien vil året blive husket for d...  0.000000  0.000000   \n",
       "...                                                      ...       ...   \n",
       "jeg tror desværre  at de kommende år vil byde p...  0.000000  0.052699   \n",
       "oprustning for at undgå krig er i mine øjne uom...  0.000000  0.000000   \n",
       "men lad os gøre det på den danske måde              0.000000  0.000000   \n",
       "socialt retfærdigt og med vores værdier i behold    0.000000  0.118573   \n",
       "så kommer det hele ikke til at gå ad helvede til    0.000000  0.000000   \n",
       "\n",
       "                                                         mig     selv  \\\n",
       "for min familie og for mig selv blev dette år s...  0.208826  0.17446   \n",
       "den dybe sorg  der ramte os  følte vi  at hele ...  0.069609  0.00000   \n",
       "de hjertelige følelser  som i de tunge dage stø...  0.099192  0.00000   \n",
       "1972 vil blive et historisk år på mange måder       0.000000  0.00000   \n",
       "i danmarkshistorien vil året blive husket for d...  0.000000  0.00000   \n",
       "...                                                      ...      ...   \n",
       "jeg tror desværre  at de kommende år vil byde p...  0.000000  0.00000   \n",
       "oprustning for at undgå krig er i mine øjne uom...  0.000000  0.00000   \n",
       "men lad os gøre det på den danske måde              0.000000  0.00000   \n",
       "socialt retfærdigt og med vores værdier i behold    0.000000  0.00000   \n",
       "så kommer det hele ikke til at gå ad helvede til    0.000000  0.00000   \n",
       "\n",
       "                                                        blev     dette  \\\n",
       "for min familie og for mig selv blev dette år s...  0.201121  0.243523   \n",
       "den dybe sorg  der ramte os  følte vi  at hele ...  0.067040  0.000000   \n",
       "de hjertelige følelser  som i de tunge dage stø...  0.000000  0.000000   \n",
       "1972 vil blive et historisk år på mange måder       0.000000  0.000000   \n",
       "i danmarkshistorien vil året blive husket for d...  0.000000  0.000000   \n",
       "...                                                      ...       ...   \n",
       "jeg tror desværre  at de kommende år vil byde p...  0.000000  0.000000   \n",
       "oprustning for at undgå krig er i mine øjne uom...  0.000000  0.000000   \n",
       "men lad os gøre det på den danske måde              0.000000  0.000000   \n",
       "socialt retfærdigt og med vores værdier i behold    0.000000  0.000000   \n",
       "så kommer det hele ikke til at gå ad helvede til    0.000000  0.000000   \n",
       "\n",
       "                                                          år  skelsættende  \\\n",
       "for min familie og for mig selv blev dette år s...  0.131630      0.379024   \n",
       "den dybe sorg  der ramte os  følte vi  at hele ...  0.043877      0.000000   \n",
       "de hjertelige følelser  som i de tunge dage stø...  0.062524      0.000000   \n",
       "1972 vil blive et historisk år på mange måder       0.277886      0.000000   \n",
       "i danmarkshistorien vil året blive husket for d...  0.104207      0.000000   \n",
       "...                                                      ...           ...   \n",
       "jeg tror desværre  at de kommende år vil byde p...  0.138943      0.000000   \n",
       "oprustning for at undgå krig er i mine øjne uom...  0.000000      0.000000   \n",
       "men lad os gøre det på den danske måde              0.000000      0.000000   \n",
       "socialt retfærdigt og med vores værdier i behold    0.000000      0.000000   \n",
       "så kommer det hele ikke til at gå ad helvede til    0.000000      0.000000   \n",
       "\n",
       "                                                    ...  de befolkninger i  \\\n",
       "for min familie og for mig selv blev dette år s...  ...                0.0   \n",
       "den dybe sorg  der ramte os  følte vi  at hele ...  ...                0.0   \n",
       "de hjertelige følelser  som i de tunge dage stø...  ...                0.0   \n",
       "1972 vil blive et historisk år på mange måder       ...                0.0   \n",
       "i danmarkshistorien vil året blive husket for d...  ...                0.0   \n",
       "...                                                 ...                ...   \n",
       "jeg tror desværre  at de kommende år vil byde p...  ...                0.0   \n",
       "oprustning for at undgå krig er i mine øjne uom...  ...                0.0   \n",
       "men lad os gøre det på den danske måde              ...                0.0   \n",
       "socialt retfærdigt og med vores værdier i behold    ...                0.0   \n",
       "så kommer det hele ikke til at gå ad helvede til    ...                0.0   \n",
       "\n",
       "                                                    befolkninger i verden  \\\n",
       "for min familie og for mig selv blev dette år s...                    0.0   \n",
       "den dybe sorg  der ramte os  følte vi  at hele ...                    0.0   \n",
       "de hjertelige følelser  som i de tunge dage stø...                    0.0   \n",
       "1972 vil blive et historisk år på mange måder                         0.0   \n",
       "i danmarkshistorien vil året blive husket for d...                    0.0   \n",
       "...                                                                   ...   \n",
       "jeg tror desværre  at de kommende år vil byde p...                    0.0   \n",
       "oprustning for at undgå krig er i mine øjne uom...                    0.0   \n",
       "men lad os gøre det på den danske måde                                0.0   \n",
       "socialt retfærdigt og med vores værdier i behold                      0.0   \n",
       "så kommer det hele ikke til at gå ad helvede til                      0.0   \n",
       "\n",
       "                                                    uanset hvad der  \\\n",
       "for min familie og for mig selv blev dette år s...              0.0   \n",
       "den dybe sorg  der ramte os  følte vi  at hele ...              0.0   \n",
       "de hjertelige følelser  som i de tunge dage stø...              0.0   \n",
       "1972 vil blive et historisk år på mange måder                   0.0   \n",
       "i danmarkshistorien vil året blive husket for d...              0.0   \n",
       "...                                                             ...   \n",
       "jeg tror desværre  at de kommende år vil byde p...              0.0   \n",
       "oprustning for at undgå krig er i mine øjne uom...              0.0   \n",
       "men lad os gøre det på den danske måde                          0.0   \n",
       "socialt retfærdigt og med vores værdier i behold                0.0   \n",
       "så kommer det hele ikke til at gå ad helvede til                0.0   \n",
       "\n",
       "                                                    er historien om  \\\n",
       "for min familie og for mig selv blev dette år s...              0.0   \n",
       "den dybe sorg  der ramte os  følte vi  at hele ...              0.0   \n",
       "de hjertelige følelser  som i de tunge dage stø...              0.0   \n",
       "1972 vil blive et historisk år på mange måder                   0.0   \n",
       "i danmarkshistorien vil året blive husket for d...              0.0   \n",
       "...                                                             ...   \n",
       "jeg tror desværre  at de kommende år vil byde p...              0.0   \n",
       "oprustning for at undgå krig er i mine øjne uom...              0.0   \n",
       "men lad os gøre det på den danske måde                          0.0   \n",
       "socialt retfærdigt og med vores værdier i behold                0.0   \n",
       "så kommer det hele ikke til at gå ad helvede til                0.0   \n",
       "\n",
       "                                                    vi bevæger os  \\\n",
       "for min familie og for mig selv blev dette år s...            0.0   \n",
       "den dybe sorg  der ramte os  følte vi  at hele ...            0.0   \n",
       "de hjertelige følelser  som i de tunge dage stø...            0.0   \n",
       "1972 vil blive et historisk år på mange måder                 0.0   \n",
       "i danmarkshistorien vil året blive husket for d...            0.0   \n",
       "...                                                           ...   \n",
       "jeg tror desværre  at de kommende år vil byde p...            0.0   \n",
       "oprustning for at undgå krig er i mine øjne uom...            0.0   \n",
       "men lad os gøre det på den danske måde                        0.0   \n",
       "socialt retfærdigt og med vores værdier i behold              0.0   \n",
       "så kommer det hele ikke til at gå ad helvede til              0.0   \n",
       "\n",
       "                                                    bevæger os fremad  \\\n",
       "for min familie og for mig selv blev dette år s...                0.0   \n",
       "den dybe sorg  der ramte os  følte vi  at hele ...                0.0   \n",
       "de hjertelige følelser  som i de tunge dage stø...                0.0   \n",
       "1972 vil blive et historisk år på mange måder                     0.0   \n",
       "i danmarkshistorien vil året blive husket for d...                0.0   \n",
       "...                                                               ...   \n",
       "jeg tror desværre  at de kommende år vil byde p...                0.0   \n",
       "oprustning for at undgå krig er i mine øjne uom...                0.0   \n",
       "men lad os gøre det på den danske måde                            0.0   \n",
       "socialt retfærdigt og med vores værdier i behold                  0.0   \n",
       "så kommer det hele ikke til at gå ad helvede til                  0.0   \n",
       "\n",
       "                                                    med de seneste  \\\n",
       "for min familie og for mig selv blev dette år s...             0.0   \n",
       "den dybe sorg  der ramte os  følte vi  at hele ...             0.0   \n",
       "de hjertelige følelser  som i de tunge dage stø...             0.0   \n",
       "1972 vil blive et historisk år på mange måder                  0.0   \n",
       "i danmarkshistorien vil året blive husket for d...             0.0   \n",
       "...                                                            ...   \n",
       "jeg tror desværre  at de kommende år vil byde p...             0.0   \n",
       "oprustning for at undgå krig er i mine øjne uom...             0.0   \n",
       "men lad os gøre det på den danske måde                         0.0   \n",
       "socialt retfærdigt og med vores værdier i behold               0.0   \n",
       "så kommer det hele ikke til at gå ad helvede til               0.0   \n",
       "\n",
       "                                                    og hvis du  man siger at  \\\n",
       "for min familie og for mig selv blev dette år s...         0.0           0.0   \n",
       "den dybe sorg  der ramte os  følte vi  at hele ...         0.0           0.0   \n",
       "de hjertelige følelser  som i de tunge dage stø...         0.0           0.0   \n",
       "1972 vil blive et historisk år på mange måder              0.0           0.0   \n",
       "i danmarkshistorien vil året blive husket for d...         0.0           0.0   \n",
       "...                                                        ...           ...   \n",
       "jeg tror desværre  at de kommende år vil byde p...         0.0           0.0   \n",
       "oprustning for at undgå krig er i mine øjne uom...         0.0           0.0   \n",
       "men lad os gøre det på den danske måde                     0.0           0.0   \n",
       "socialt retfærdigt og med vores værdier i behold           0.0           0.0   \n",
       "så kommer det hele ikke til at gå ad helvede til           0.0           0.0   \n",
       "\n",
       "                                                    år vil byde  \n",
       "for min familie og for mig selv blev dette år s...     0.000000  \n",
       "den dybe sorg  der ramte os  følte vi  at hele ...     0.000000  \n",
       "de hjertelige følelser  som i de tunge dage stø...     0.000000  \n",
       "1972 vil blive et historisk år på mange måder          0.000000  \n",
       "i danmarkshistorien vil året blive husket for d...     0.000000  \n",
       "...                                                         ...  \n",
       "jeg tror desværre  at de kommende år vil byde p...     0.477097  \n",
       "oprustning for at undgå krig er i mine øjne uom...     0.000000  \n",
       "men lad os gøre det på den danske måde                 0.000000  \n",
       "socialt retfærdigt og med vores værdier i behold       0.000000  \n",
       "så kommer det hele ikke til at gå ad helvede til       0.000000  \n",
       "\n",
       "[10731 rows x 32418 columns]"
      ]
     },
     "execution_count": 36,
     "metadata": {},
     "output_type": "execute_result"
    }
   ],
   "source": [
    "document_term_idf_matrix_df = pd.DataFrame(data = document_term_idf_matrix,  \n",
    "                  index = train_sentences,  \n",
    "                  columns = n_gram_keys_list) \n",
    "document_term_idf_matrix_df"
   ]
  },
  {
   "cell_type": "markdown",
   "metadata": {},
   "source": [
    ":D"
   ]
  },
  {
   "cell_type": "markdown",
   "metadata": {},
   "source": [
    "### Check med sk_learn (bruger smoothed tf-idf)"
   ]
  },
  {
   "cell_type": "code",
   "execution_count": 37,
   "metadata": {},
   "outputs": [],
   "source": [
    "#  # create object\n",
    "# tfidf = TfidfVectorizer()\n",
    " \n",
    "# # get tf-df values\n",
    "# result = tfidf.fit_transform(train_sentences)\n",
    " \n",
    "# # get idf values\n",
    "# print('\\nidf values:')\n",
    "# for ele1, ele2 in zip(tfidf.get_feature_names_out(), tfidf.idf_):\n",
    "#     print(ele1, ':', ele2)\n",
    " \n",
    "# # get indexing\n",
    "# print('\\nWord indexes:')\n",
    "# print(tfidf.vocabulary_)\n",
    " \n",
    "# # display tf-idf values\n",
    "# print('\\ntf-idf value:')\n",
    "# print(result)\n",
    " \n",
    "# # in matrix form\n",
    "# print('\\ntf-idf values in matrix form:')\n",
    "# print(result.toarray())"
   ]
  },
  {
   "cell_type": "code",
   "execution_count": 38,
   "metadata": {},
   "outputs": [],
   "source": [
    "# # Initialize TfidfVectorizer with the desired n-grams\n",
    "# vectorizer = TfidfVectorizer(vocabulary=n_gram_keys_list)\n",
    "\n",
    "# # Fit and transform the sentences\n",
    "# tfidf_matrix = vectorizer.fit_transform(train_sentences)\n",
    "\n",
    "# # Get feature names and TF-IDF scores\n",
    "# feature_names = vectorizer.get_feature_names_out()\n",
    "# tfidf_array = tfidf_matrix.toarray()\n",
    "\n",
    "# # Display the results\n",
    "# print(\"Feature Names (N-grams):\")\n",
    "# print(feature_names)\n",
    "\n",
    "# print(\"\\nTF-IDF Matrix:\")\n",
    "# print(tfidf_array)"
   ]
  },
  {
   "cell_type": "markdown",
   "metadata": {},
   "source": [
    "# SVD (Singular Value decompostion)"
   ]
  },
  {
   "cell_type": "code",
   "execution_count": 39,
   "metadata": {},
   "outputs": [
    {
     "name": "stdout",
     "output_type": "stream",
     "text": [
      "U:  [[-8.05978472e-03 -2.56827579e-03 -1.11523558e-03 ...  2.63023549e-17\n",
      "   7.05361378e-21 -9.03667318e-21]\n",
      " [-6.03253236e-03 -2.06533580e-03  6.45311542e-05 ...  1.97701120e-16\n",
      "   2.53617987e-16 -5.45899281e-17]\n",
      " [-7.14722902e-03 -1.51559466e-03  3.37406469e-03 ... -1.03862474e-16\n",
      "  -3.44398016e-16  4.85506391e-17]\n",
      " ...\n",
      " [-7.04704079e-03 -9.49134283e-03  8.26436726e-03 ... -6.53399764e-17\n",
      "   7.74378045e-17  1.22662941e-16]\n",
      " [-9.49235319e-03  8.49351707e-03 -8.79165487e-03 ...  1.09939643e-16\n",
      "   1.08967993e-16  1.74124680e-17]\n",
      " [-7.38108871e-03 -1.30809937e-02  5.54496151e-03 ...  1.71005331e-17\n",
      "   4.08892563e-17  1.10928873e-16]]\n",
      "Singular array [7.64876105e+02 1.56557203e+02 1.36743654e+02 ... 1.25936026e-14\n",
      " 1.23151525e-14 1.19890739e-14]\n",
      "V^{T} [[-7.03343490e-03 -2.37812611e-03 -9.54796428e-04 ... -1.24003029e-05\n",
      "   0.00000000e+00 -1.91559952e-05]\n",
      " [ 1.58392431e-02 -6.10954165e-05 -2.37993802e-04 ...  1.31441093e-04\n",
      "   0.00000000e+00  2.01289122e-06]\n",
      " [-1.30095988e-02 -1.25789445e-03 -4.72124124e-04 ...  1.27490757e-05\n",
      "   0.00000000e+00 -1.31546052e-04]\n",
      " ...\n",
      " [-1.50675955e-03 -3.19821512e-04  1.86991963e-03 ...  7.02873412e-01\n",
      "   0.00000000e+00  3.51958646e-05]\n",
      " [ 0.00000000e+00  0.00000000e+00  0.00000000e+00 ...  0.00000000e+00\n",
      "   1.00000000e+00  0.00000000e+00]\n",
      " [ 2.24893686e-03  1.46118708e-03  5.70145957e-04 ...  3.89870921e-03\n",
      "   0.00000000e+00  8.24527626e-01]]\n"
     ]
    }
   ],
   "source": [
    "# SVD er en metode der nedbryder en matrix til tre matricer. \n",
    "# Formlen for SVD: A = U * singular * V^t\n",
    "U, singular, V_transpose = svd(document_term_idf_matrix)\n",
    "\n",
    "\"\"\"print(\"U: \", U) # mxm matrice med ortogonal egenvektorne af A * A^T\n",
    "print(\"Singular array\", singular) # diagnonaliseret matrice med elementer som er lig roden af de positive egenværdier af A * A^T\n",
    "print(\"V^{T}\", V_transpose) # n*n matrice der indeholder de ortogonale egenvektorværdier af A^T * A\"\"\""
   ]
  },
  {
   "cell_type": "code",
   "execution_count": 44,
   "metadata": {},
   "outputs": [
    {
     "name": "stdout",
     "output_type": "stream",
     "text": [
      "Dimensionen af den origniale matrice: (10731, 32418)\n",
      "Dimensionen af SVD reducerede matrice: (10731, 200)\n",
      "Dimensionen af SVD reducerede matrice: (10731, 200)\n"
     ]
    }
   ],
   "source": [
    "# Reducer dimensionaliteten\n",
    "k = 200 # dimensionalitet\n",
    "U_k = U[:, :k]\n",
    "Vt_k = V_transpose[:,:k].T\n",
    "\n",
    "# Create m x n Sigma matrix\n",
    "Sigma = np.zeros((document_term_idf_matrix.shape[0],document_term_idf_matrix.shape[1]),dtype='uint8')\n",
    "# udfyld Sigma med n x n diagonal matrix\n",
    "Sigma[:document_term_idf_matrix.shape[0], :document_term_idf_matrix.shape[0]] = np.diag(singular)\n",
    "Sigma = Sigma[:, :k]\n",
    "\n",
    "print('Dimensionen af den origniale matrice:',document_term_idf_matrix.shape)\n",
    "print('Dimensionen af Vt matrice:',V_transpose.shape)\n",
    "print('Dimensionen af den reducerede Vt matrice:',Vt_k.shape)\n",
    "# To måder at reducere matrice på:\n",
    "\"\"\"A_k = np.dot(U, Sigma)\n",
    "print('Dimensionen af SVD reducerede matrice:',A_k.shape)\n",
    "A_k = np.dot(document_term_idf_matrix,Vt_k.T)\n",
    "print('Dimensionen af SVD reducerede matrice:',A_k.shape)\"\"\""
   ]
  },
  {
   "cell_type": "code",
   "execution_count": 47,
   "metadata": {},
   "outputs": [],
   "source": [
    "np.savetxt(\"SVD.csv\", Vt_k, delimiter=\",\")"
   ]
  },
  {
   "cell_type": "code",
   "execution_count": 45,
   "metadata": {},
   "outputs": [
    {
     "ename": "KeyboardInterrupt",
     "evalue": "",
     "output_type": "error",
     "traceback": [
      "\u001b[1;31m---------------------------------------------------------------------------\u001b[0m",
      "\u001b[1;31mKeyboardInterrupt\u001b[0m                         Traceback (most recent call last)",
      "Cell \u001b[1;32mIn[45], line 5\u001b[0m\n\u001b[0;32m      3\u001b[0m \u001b[38;5;66;03m# svd\u001b[39;00m\n\u001b[0;32m      4\u001b[0m svd \u001b[38;5;241m=\u001b[39m TruncatedSVD(n_components\u001b[38;5;241m=\u001b[39m\u001b[38;5;241m200\u001b[39m)\n\u001b[1;32m----> 5\u001b[0m svd\u001b[38;5;241m.\u001b[39mfit(document_term_idf_matrix)\n\u001b[0;32m      6\u001b[0m result \u001b[38;5;241m=\u001b[39m svd\u001b[38;5;241m.\u001b[39mtransform(document_term_idf_matrix)\n\u001b[0;32m      7\u001b[0m \u001b[38;5;28mprint\u001b[39m(result\u001b[38;5;241m.\u001b[39mshape)\n",
      "File \u001b[1;32mc:\\Users\\chris\\Miniconda3\\envs\\IntelligentSystems\\Lib\\site-packages\\sklearn\\decomposition\\_truncated_svd.py:208\u001b[0m, in \u001b[0;36mTruncatedSVD.fit\u001b[1;34m(self, X, y)\u001b[0m\n\u001b[0;32m    192\u001b[0m \u001b[38;5;28;01mdef\u001b[39;00m \u001b[38;5;21mfit\u001b[39m(\u001b[38;5;28mself\u001b[39m, X, y\u001b[38;5;241m=\u001b[39m\u001b[38;5;28;01mNone\u001b[39;00m):\n\u001b[0;32m    193\u001b[0m \u001b[38;5;250m    \u001b[39m\u001b[38;5;124;03m\"\"\"Fit model on training data X.\u001b[39;00m\n\u001b[0;32m    194\u001b[0m \n\u001b[0;32m    195\u001b[0m \u001b[38;5;124;03m    Parameters\u001b[39;00m\n\u001b[1;32m   (...)\u001b[0m\n\u001b[0;32m    206\u001b[0m \u001b[38;5;124;03m        Returns the transformer object.\u001b[39;00m\n\u001b[0;32m    207\u001b[0m \u001b[38;5;124;03m    \"\"\"\u001b[39;00m\n\u001b[1;32m--> 208\u001b[0m     \u001b[38;5;28mself\u001b[39m\u001b[38;5;241m.\u001b[39mfit_transform(X)\n\u001b[0;32m    209\u001b[0m     \u001b[38;5;28;01mreturn\u001b[39;00m \u001b[38;5;28mself\u001b[39m\n",
      "File \u001b[1;32mc:\\Users\\chris\\Miniconda3\\envs\\IntelligentSystems\\Lib\\site-packages\\sklearn\\utils\\_set_output.py:313\u001b[0m, in \u001b[0;36m_wrap_method_output.<locals>.wrapped\u001b[1;34m(self, X, *args, **kwargs)\u001b[0m\n\u001b[0;32m    311\u001b[0m \u001b[38;5;129m@wraps\u001b[39m(f)\n\u001b[0;32m    312\u001b[0m \u001b[38;5;28;01mdef\u001b[39;00m \u001b[38;5;21mwrapped\u001b[39m(\u001b[38;5;28mself\u001b[39m, X, \u001b[38;5;241m*\u001b[39margs, \u001b[38;5;241m*\u001b[39m\u001b[38;5;241m*\u001b[39mkwargs):\n\u001b[1;32m--> 313\u001b[0m     data_to_wrap \u001b[38;5;241m=\u001b[39m f(\u001b[38;5;28mself\u001b[39m, X, \u001b[38;5;241m*\u001b[39margs, \u001b[38;5;241m*\u001b[39m\u001b[38;5;241m*\u001b[39mkwargs)\n\u001b[0;32m    314\u001b[0m     \u001b[38;5;28;01mif\u001b[39;00m \u001b[38;5;28misinstance\u001b[39m(data_to_wrap, \u001b[38;5;28mtuple\u001b[39m):\n\u001b[0;32m    315\u001b[0m         \u001b[38;5;66;03m# only wrap the first output for cross decomposition\u001b[39;00m\n\u001b[0;32m    316\u001b[0m         return_tuple \u001b[38;5;241m=\u001b[39m (\n\u001b[0;32m    317\u001b[0m             _wrap_data_with_container(method, data_to_wrap[\u001b[38;5;241m0\u001b[39m], X, \u001b[38;5;28mself\u001b[39m),\n\u001b[0;32m    318\u001b[0m             \u001b[38;5;241m*\u001b[39mdata_to_wrap[\u001b[38;5;241m1\u001b[39m:],\n\u001b[0;32m    319\u001b[0m         )\n",
      "File \u001b[1;32mc:\\Users\\chris\\Miniconda3\\envs\\IntelligentSystems\\Lib\\site-packages\\sklearn\\base.py:1473\u001b[0m, in \u001b[0;36m_fit_context.<locals>.decorator.<locals>.wrapper\u001b[1;34m(estimator, *args, **kwargs)\u001b[0m\n\u001b[0;32m   1466\u001b[0m     estimator\u001b[38;5;241m.\u001b[39m_validate_params()\n\u001b[0;32m   1468\u001b[0m \u001b[38;5;28;01mwith\u001b[39;00m config_context(\n\u001b[0;32m   1469\u001b[0m     skip_parameter_validation\u001b[38;5;241m=\u001b[39m(\n\u001b[0;32m   1470\u001b[0m         prefer_skip_nested_validation \u001b[38;5;129;01mor\u001b[39;00m global_skip_validation\n\u001b[0;32m   1471\u001b[0m     )\n\u001b[0;32m   1472\u001b[0m ):\n\u001b[1;32m-> 1473\u001b[0m     \u001b[38;5;28;01mreturn\u001b[39;00m fit_method(estimator, \u001b[38;5;241m*\u001b[39margs, \u001b[38;5;241m*\u001b[39m\u001b[38;5;241m*\u001b[39mkwargs)\n",
      "File \u001b[1;32mc:\\Users\\chris\\Miniconda3\\envs\\IntelligentSystems\\Lib\\site-packages\\sklearn\\decomposition\\_truncated_svd.py:246\u001b[0m, in \u001b[0;36mTruncatedSVD.fit_transform\u001b[1;34m(self, X, y)\u001b[0m\n\u001b[0;32m    241\u001b[0m     \u001b[38;5;28;01mif\u001b[39;00m \u001b[38;5;28mself\u001b[39m\u001b[38;5;241m.\u001b[39mn_components \u001b[38;5;241m>\u001b[39m X\u001b[38;5;241m.\u001b[39mshape[\u001b[38;5;241m1\u001b[39m]:\n\u001b[0;32m    242\u001b[0m         \u001b[38;5;28;01mraise\u001b[39;00m \u001b[38;5;167;01mValueError\u001b[39;00m(\n\u001b[0;32m    243\u001b[0m             \u001b[38;5;124mf\u001b[39m\u001b[38;5;124m\"\u001b[39m\u001b[38;5;124mn_components(\u001b[39m\u001b[38;5;132;01m{\u001b[39;00m\u001b[38;5;28mself\u001b[39m\u001b[38;5;241m.\u001b[39mn_components\u001b[38;5;132;01m}\u001b[39;00m\u001b[38;5;124m) must be <=\u001b[39m\u001b[38;5;124m\"\u001b[39m\n\u001b[0;32m    244\u001b[0m             \u001b[38;5;124mf\u001b[39m\u001b[38;5;124m\"\u001b[39m\u001b[38;5;124m n_features(\u001b[39m\u001b[38;5;132;01m{\u001b[39;00mX\u001b[38;5;241m.\u001b[39mshape[\u001b[38;5;241m1\u001b[39m]\u001b[38;5;132;01m}\u001b[39;00m\u001b[38;5;124m).\u001b[39m\u001b[38;5;124m\"\u001b[39m\n\u001b[0;32m    245\u001b[0m         )\n\u001b[1;32m--> 246\u001b[0m     U, Sigma, VT \u001b[38;5;241m=\u001b[39m randomized_svd(\n\u001b[0;32m    247\u001b[0m         X,\n\u001b[0;32m    248\u001b[0m         \u001b[38;5;28mself\u001b[39m\u001b[38;5;241m.\u001b[39mn_components,\n\u001b[0;32m    249\u001b[0m         n_iter\u001b[38;5;241m=\u001b[39m\u001b[38;5;28mself\u001b[39m\u001b[38;5;241m.\u001b[39mn_iter,\n\u001b[0;32m    250\u001b[0m         n_oversamples\u001b[38;5;241m=\u001b[39m\u001b[38;5;28mself\u001b[39m\u001b[38;5;241m.\u001b[39mn_oversamples,\n\u001b[0;32m    251\u001b[0m         power_iteration_normalizer\u001b[38;5;241m=\u001b[39m\u001b[38;5;28mself\u001b[39m\u001b[38;5;241m.\u001b[39mpower_iteration_normalizer,\n\u001b[0;32m    252\u001b[0m         random_state\u001b[38;5;241m=\u001b[39mrandom_state,\n\u001b[0;32m    253\u001b[0m         flip_sign\u001b[38;5;241m=\u001b[39m\u001b[38;5;28;01mFalse\u001b[39;00m,\n\u001b[0;32m    254\u001b[0m     )\n\u001b[0;32m    255\u001b[0m     U, VT \u001b[38;5;241m=\u001b[39m svd_flip(U, VT, u_based_decision\u001b[38;5;241m=\u001b[39m\u001b[38;5;28;01mFalse\u001b[39;00m)\n\u001b[0;32m    257\u001b[0m \u001b[38;5;28mself\u001b[39m\u001b[38;5;241m.\u001b[39mcomponents_ \u001b[38;5;241m=\u001b[39m VT\n",
      "File \u001b[1;32mc:\\Users\\chris\\Miniconda3\\envs\\IntelligentSystems\\Lib\\site-packages\\sklearn\\utils\\_param_validation.py:186\u001b[0m, in \u001b[0;36mvalidate_params.<locals>.decorator.<locals>.wrapper\u001b[1;34m(*args, **kwargs)\u001b[0m\n\u001b[0;32m    184\u001b[0m global_skip_validation \u001b[38;5;241m=\u001b[39m get_config()[\u001b[38;5;124m\"\u001b[39m\u001b[38;5;124mskip_parameter_validation\u001b[39m\u001b[38;5;124m\"\u001b[39m]\n\u001b[0;32m    185\u001b[0m \u001b[38;5;28;01mif\u001b[39;00m global_skip_validation:\n\u001b[1;32m--> 186\u001b[0m     \u001b[38;5;28;01mreturn\u001b[39;00m func(\u001b[38;5;241m*\u001b[39margs, \u001b[38;5;241m*\u001b[39m\u001b[38;5;241m*\u001b[39mkwargs)\n\u001b[0;32m    188\u001b[0m func_sig \u001b[38;5;241m=\u001b[39m signature(func)\n\u001b[0;32m    190\u001b[0m \u001b[38;5;66;03m# Map *args/**kwargs to the function signature\u001b[39;00m\n",
      "File \u001b[1;32mc:\\Users\\chris\\Miniconda3\\envs\\IntelligentSystems\\Lib\\site-packages\\sklearn\\utils\\extmath.py:520\u001b[0m, in \u001b[0;36mrandomized_svd\u001b[1;34m(M, n_components, n_oversamples, n_iter, power_iteration_normalizer, transpose, flip_sign, random_state, svd_lapack_driver)\u001b[0m\n\u001b[0;32m    516\u001b[0m \u001b[38;5;28;01mif\u001b[39;00m transpose:\n\u001b[0;32m    517\u001b[0m     \u001b[38;5;66;03m# this implementation is a bit faster with smaller shape[1]\u001b[39;00m\n\u001b[0;32m    518\u001b[0m     M \u001b[38;5;241m=\u001b[39m M\u001b[38;5;241m.\u001b[39mT\n\u001b[1;32m--> 520\u001b[0m Q \u001b[38;5;241m=\u001b[39m randomized_range_finder(\n\u001b[0;32m    521\u001b[0m     M,\n\u001b[0;32m    522\u001b[0m     size\u001b[38;5;241m=\u001b[39mn_random,\n\u001b[0;32m    523\u001b[0m     n_iter\u001b[38;5;241m=\u001b[39mn_iter,\n\u001b[0;32m    524\u001b[0m     power_iteration_normalizer\u001b[38;5;241m=\u001b[39mpower_iteration_normalizer,\n\u001b[0;32m    525\u001b[0m     random_state\u001b[38;5;241m=\u001b[39mrandom_state,\n\u001b[0;32m    526\u001b[0m )\n\u001b[0;32m    528\u001b[0m \u001b[38;5;66;03m# project M to the (k + p) dimensional space using the basis vectors\u001b[39;00m\n\u001b[0;32m    529\u001b[0m B \u001b[38;5;241m=\u001b[39m Q\u001b[38;5;241m.\u001b[39mT \u001b[38;5;241m@\u001b[39m M\n",
      "File \u001b[1;32mc:\\Users\\chris\\Miniconda3\\envs\\IntelligentSystems\\Lib\\site-packages\\sklearn\\utils\\extmath.py:337\u001b[0m, in \u001b[0;36mrandomized_range_finder\u001b[1;34m(A, size, n_iter, power_iteration_normalizer, random_state)\u001b[0m\n\u001b[0;32m    334\u001b[0m \u001b[38;5;66;03m# Perform power iterations with Q to further 'imprint' the top\u001b[39;00m\n\u001b[0;32m    335\u001b[0m \u001b[38;5;66;03m# singular vectors of A in Q\u001b[39;00m\n\u001b[0;32m    336\u001b[0m \u001b[38;5;28;01mfor\u001b[39;00m _ \u001b[38;5;129;01min\u001b[39;00m \u001b[38;5;28mrange\u001b[39m(n_iter):\n\u001b[1;32m--> 337\u001b[0m     Q, _ \u001b[38;5;241m=\u001b[39m normalizer(A \u001b[38;5;241m@\u001b[39m Q)\n\u001b[0;32m    338\u001b[0m     Q, _ \u001b[38;5;241m=\u001b[39m normalizer(A\u001b[38;5;241m.\u001b[39mT \u001b[38;5;241m@\u001b[39m Q)\n\u001b[0;32m    340\u001b[0m \u001b[38;5;66;03m# Sample the range of A using by linear projection of Q\u001b[39;00m\n\u001b[0;32m    341\u001b[0m \u001b[38;5;66;03m# Extract an orthonormal basis\u001b[39;00m\n",
      "File \u001b[1;32mc:\\Users\\chris\\Miniconda3\\envs\\IntelligentSystems\\Lib\\site-packages\\scipy\\linalg\\_decomp_lu.py:186\u001b[0m, in \u001b[0;36mlu\u001b[1;34m(a, permute_l, overwrite_a, check_finite, p_indices)\u001b[0m\n\u001b[0;32m    181\u001b[0m         \u001b[38;5;28;01mreturn\u001b[39;00m x\n\u001b[0;32m    182\u001b[0m     \u001b[38;5;28;01mraise\u001b[39;00m \u001b[38;5;167;01mValueError\u001b[39;00m(\u001b[38;5;124m'\u001b[39m\u001b[38;5;124millegal value in \u001b[39m\u001b[38;5;132;01m%d\u001b[39;00m\u001b[38;5;124mth argument of internal gesv|posv\u001b[39m\u001b[38;5;124m'\u001b[39m\n\u001b[0;32m    183\u001b[0m                      \u001b[38;5;241m%\u001b[39m \u001b[38;5;241m-\u001b[39minfo)\n\u001b[1;32m--> 186\u001b[0m \u001b[38;5;28;01mdef\u001b[39;00m \u001b[38;5;21mlu\u001b[39m(a, permute_l\u001b[38;5;241m=\u001b[39m\u001b[38;5;28;01mFalse\u001b[39;00m, overwrite_a\u001b[38;5;241m=\u001b[39m\u001b[38;5;28;01mFalse\u001b[39;00m, check_finite\u001b[38;5;241m=\u001b[39m\u001b[38;5;28;01mTrue\u001b[39;00m,\n\u001b[0;32m    187\u001b[0m        p_indices\u001b[38;5;241m=\u001b[39m\u001b[38;5;28;01mFalse\u001b[39;00m):\n\u001b[0;32m    188\u001b[0m \u001b[38;5;250m    \u001b[39m\u001b[38;5;124;03m\"\"\"\u001b[39;00m\n\u001b[0;32m    189\u001b[0m \u001b[38;5;124;03m    Compute LU decomposition of a matrix with partial pivoting.\u001b[39;00m\n\u001b[0;32m    190\u001b[0m \n\u001b[1;32m   (...)\u001b[0m\n\u001b[0;32m    280\u001b[0m \n\u001b[0;32m    281\u001b[0m \u001b[38;5;124;03m    \"\"\"\u001b[39;00m\n\u001b[0;32m    282\u001b[0m     a1 \u001b[38;5;241m=\u001b[39m np\u001b[38;5;241m.\u001b[39masarray_chkfinite(a) \u001b[38;5;28;01mif\u001b[39;00m check_finite \u001b[38;5;28;01melse\u001b[39;00m np\u001b[38;5;241m.\u001b[39masarray(a)\n",
      "\u001b[1;31mKeyboardInterrupt\u001b[0m: "
     ]
    }
   ],
   "source": [
    "from sklearn.decomposition import TruncatedSVD\n",
    "\n",
    "# svd\n",
    "svd = TruncatedSVD(n_components=200)\n",
    "svd.fit(document_term_idf_matrix)\n",
    "result = svd.transform(document_term_idf_matrix)\n",
    "print(result.shape)"
   ]
  }
 ],
 "metadata": {
  "kernelspec": {
   "display_name": "Python 3",
   "language": "python",
   "name": "python3"
  },
  "language_info": {
   "codemirror_mode": {
    "name": "ipython",
    "version": 3
   },
   "file_extension": ".py",
   "mimetype": "text/x-python",
   "name": "python",
   "nbconvert_exporter": "python",
   "pygments_lexer": "ipython3",
   "version": "3.10.6"
  }
 },
 "nbformat": 4,
 "nbformat_minor": 2
}
