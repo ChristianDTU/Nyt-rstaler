{
 "cells": [
  {
   "cell_type": "code",
   "execution_count": 192,
   "metadata": {},
   "outputs": [],
   "source": [
    "import re\n",
    "import os\n",
    "import numpy as np\n",
    "import pandas as pd\n",
    "import nltk\n",
    "from nltk.tokenize import word_tokenize\n",
    "from numpy import genfromtxt\n",
    "\n",
    "#%% Import libraries\n",
    "import torch\n",
    "import torchmetrics\n",
    "from torch.utils.data import DataLoader, TensorDataset\n",
    "import os\n",
    "from glob import glob\n",
    "from sklearn.model_selection import train_test_split\n",
    "import matplotlib.pylab as plt\n",
    "from torch.optim.lr_scheduler import StepLR"
   ]
  },
  {
   "cell_type": "markdown",
   "metadata": {},
   "source": [
    "# Load training and test dataframes & TF-IDF matrices"
   ]
  },
  {
   "cell_type": "code",
   "execution_count": 6,
   "metadata": {},
   "outputs": [],
   "source": [
    "# Load sentences and labels\n",
    "train = pd.read_csv(r'Test_og_Train_df\\train_dataframe.csv')\n",
    "test = pd.read_csv(r'Test_og_Train_df\\test_dataframe.csv')"
   ]
  },
  {
   "cell_type": "code",
   "execution_count": 7,
   "metadata": {},
   "outputs": [],
   "source": [
    "train_labels = train[\"Labels\"].tolist()\n",
    "\n",
    "test_labels = test[\"Labels\"].tolist()"
   ]
  },
  {
   "cell_type": "code",
   "execution_count": 8,
   "metadata": {},
   "outputs": [],
   "source": [
    "train_tf_idf = pd.read_csv(r'DTTFIDFM_data\\DTTFIDFM_train.csv')\n",
    "test_tf_idf = pd.read_csv(r'DTTFIDFM_data\\DTTFIDFM_test.csv')\n",
    "\n",
    "train_tf_idf = train_tf_idf.drop('Unnamed: 0', axis=1)\n",
    "test_tf_idf = test_tf_idf.drop('Unnamed: 0', axis=1)"
   ]
  },
  {
   "cell_type": "code",
   "execution_count": 9,
   "metadata": {},
   "outputs": [],
   "source": [
    "train_tf_idf_numpy = train_tf_idf.to_numpy()\n",
    "test_tf_idf_numpy = test_tf_idf.to_numpy()"
   ]
  },
  {
   "cell_type": "code",
   "execution_count": 10,
   "metadata": {},
   "outputs": [],
   "source": [
    "# train_tf_idf_numpy"
   ]
  },
  {
   "cell_type": "code",
   "execution_count": 11,
   "metadata": {},
   "outputs": [
    {
     "data": {
      "text/plain": [
       "((8048, 24653), (2683, 24653))"
      ]
     },
     "execution_count": 11,
     "metadata": {},
     "output_type": "execute_result"
    }
   ],
   "source": [
    "train_tf_idf_numpy.shape,test_tf_idf_numpy.shape"
   ]
  },
  {
   "cell_type": "markdown",
   "metadata": {},
   "source": [
    "# CNN"
   ]
  },
  {
   "cell_type": "markdown",
   "metadata": {},
   "source": [
    "## Load SVD-matrix:"
   ]
  },
  {
   "cell_type": "code",
   "execution_count": 12,
   "metadata": {},
   "outputs": [],
   "source": [
    "# Load SVD-matrix from csv-file\n",
    "V_200 = genfromtxt('V200.csv', delimiter=',')"
   ]
  },
  {
   "cell_type": "code",
   "execution_count": 13,
   "metadata": {},
   "outputs": [
    {
     "data": {
      "text/plain": [
       "array([[-1.01522614e-01,  1.11495275e-01, -1.94767568e-01, ...,\n",
       "         1.68914466e-02, -1.59969860e-02, -4.14657793e-02],\n",
       "       [-8.21504456e-02,  5.38646152e-02, -5.83989941e-03, ...,\n",
       "        -6.59796006e-03, -5.48038621e-03,  3.82854767e-02],\n",
       "       [-9.73437764e-04,  7.31839751e-04, -1.98419009e-04, ...,\n",
       "        -4.65777427e-04,  7.10243628e-04,  7.45946970e-04],\n",
       "       ...,\n",
       "       [-6.25781132e-04,  4.19897409e-04,  4.62287900e-05, ...,\n",
       "         1.21027324e-04,  6.06961375e-06,  7.62899044e-04],\n",
       "       [-5.13986347e-04,  4.40283044e-05,  2.03693542e-04, ...,\n",
       "        -1.50341156e-04,  7.16554560e-05,  6.35583134e-04],\n",
       "       [ 0.00000000e+00,  0.00000000e+00,  0.00000000e+00, ...,\n",
       "         0.00000000e+00,  0.00000000e+00,  0.00000000e+00]])"
      ]
     },
     "execution_count": 13,
     "metadata": {},
     "output_type": "execute_result"
    }
   ],
   "source": [
    "V_200"
   ]
  },
  {
   "cell_type": "code",
   "execution_count": 14,
   "metadata": {},
   "outputs": [
    {
     "data": {
      "text/plain": [
       "(24653, 200)"
      ]
     },
     "execution_count": 14,
     "metadata": {},
     "output_type": "execute_result"
    }
   ],
   "source": [
    "V_200.shape"
   ]
  },
  {
   "cell_type": "code",
   "execution_count": 15,
   "metadata": {},
   "outputs": [
    {
     "data": {
      "text/plain": [
       "numpy.ndarray"
      ]
     },
     "execution_count": 15,
     "metadata": {},
     "output_type": "execute_result"
    }
   ],
   "source": [
    "type(V_200)"
   ]
  },
  {
   "cell_type": "markdown",
   "metadata": {},
   "source": [
    "## Sentence LSA embedding"
   ]
  },
  {
   "cell_type": "code",
   "execution_count": 16,
   "metadata": {},
   "outputs": [],
   "source": [
    "def sentence_LSA_embedding(TF_IDF_matrix_numpy, V_k):\n",
    "    liste_LSA_vektorer = []\n",
    "    for i in range(TF_IDF_matrix_numpy.shape[0]):\n",
    "        lsa_vector = np.dot(TF_IDF_matrix_numpy[i], V_k)\n",
    "        liste_LSA_vektorer.append(lsa_vector)\n",
    "    return np.array(liste_LSA_vektorer)\n"
   ]
  },
  {
   "cell_type": "code",
   "execution_count": 17,
   "metadata": {},
   "outputs": [],
   "source": [
    "train_lsa = sentence_LSA_embedding(train_tf_idf_numpy, V_200)\n",
    "test_lsa = sentence_LSA_embedding(test_tf_idf_numpy, V_200)"
   ]
  },
  {
   "cell_type": "markdown",
   "metadata": {},
   "source": [
    "## Make tensors"
   ]
  },
  {
   "cell_type": "code",
   "execution_count": 18,
   "metadata": {},
   "outputs": [],
   "source": [
    "# Convert inputs\n",
    "train_input_tensor = torch.tensor(train_lsa, dtype=torch.float32)  # Shape: (num_train_sentences, 200)\n",
    "test_input_tensor = torch.tensor(test_lsa, dtype=torch.float32)    # Shape: (num_test_sentences, 200)\n",
    "\n",
    "# Convert labels\n",
    "train_labels_tensor = torch.tensor(train_labels, dtype=torch.long)  # Shape: (num_train_sentences,)\n",
    "test_labels_tensor = torch.tensor(test_labels, dtype=torch.long)    # Shape: (num_test_sentences,)"
   ]
  },
  {
   "cell_type": "code",
   "execution_count": 19,
   "metadata": {},
   "outputs": [],
   "source": [
    "# Reshape the tensors for CNN input (adding the channel dimension)\n",
    "train_input_tensor = train_input_tensor.unsqueeze(1)  # Shape: (num_train_sentences, 1, 200)\n",
    "test_input_tensor = test_input_tensor.unsqueeze(1)    # Shape: (num_test_sentences, 1, 200)"
   ]
  },
  {
   "cell_type": "code",
   "execution_count": 20,
   "metadata": {},
   "outputs": [
    {
     "data": {
      "text/plain": [
       "(torch.Size([8048, 1, 200]), torch.Size([2683, 1, 200]))"
      ]
     },
     "execution_count": 20,
     "metadata": {},
     "output_type": "execute_result"
    }
   ],
   "source": [
    "train_input_tensor.shape, test_input_tensor.shape"
   ]
  },
  {
   "cell_type": "code",
   "execution_count": 242,
   "metadata": {},
   "outputs": [],
   "source": [
    "batch_size = 128\n",
    "# Create datasets\n",
    "train_dataset = TensorDataset(train_input_tensor, train_labels_tensor)\n",
    "test_dataset = TensorDataset(test_input_tensor, test_labels_tensor)\n",
    "\n",
    "# Create dataloaders\n",
    "train_loader = DataLoader(train_dataset, batch_size=batch_size, shuffle=True)  # Shuffle training data\n",
    "test_loader = DataLoader(test_dataset, batch_size=batch_size, shuffle=False)   # No shuffle for testing"
   ]
  },
  {
   "cell_type": "markdown",
   "metadata": {},
   "source": [
    "## Build the CNN"
   ]
  },
  {
   "cell_type": "code",
   "execution_count": 249,
   "metadata": {},
   "outputs": [],
   "source": [
    "num_epochs = 100\n",
    "learning_rate = 0.001\n",
    "weight_decay = 0.0001"
   ]
  },
  {
   "cell_type": "code",
   "execution_count": 250,
   "metadata": {},
   "outputs": [],
   "source": [
    "#%% Device\n",
    "# Run on GPU if available\n",
    "device = \"cuda\" if torch.cuda.is_available() else \"cpu\""
   ]
  },
  {
   "cell_type": "code",
   "execution_count": 251,
   "metadata": {},
   "outputs": [],
   "source": [
    " #%% Neural network\n",
    "net = torch.nn.Sequential(\n",
    "    # ----------------------------\n",
    "    # 1) Conv block: 1 -> 32 filters\n",
    "    # With kernel_size=5, padding=2, the output length = input_length\n",
    "    # If input length = 200:\n",
    "    # After maxpool(kernel=2): length -> 200 // 2 = 100\n",
    "    torch.nn.Conv1d(1, 32, kernel_size=5, padding=2),\n",
    "    nn.BatchNorm1d(32),\n",
    "    nn.ReLU(),\n",
    "    nn.MaxPool1d(kernel_size=2),           # -> [batch, 32, 100]\n",
    "\n",
    "    # ----------------------------\n",
    "    # 2) Conv block: 32 -> 64 filters\n",
    "    # Length stays 100 before the pool. \n",
    "    # After maxpool(kernel=2): length -> 100 // 2 = 50\n",
    "    nn.Conv1d(32, 64, kernel_size=5, padding=2),\n",
    "    nn.BatchNorm1d(64),\n",
    "    nn.ReLU(),\n",
    "    nn.MaxPool1d(kernel_size=2),           # -> [batch, 64, 50]\n",
    "\n",
    "    # ----------------------------\n",
    "    # 3) Conv block: 64 -> 128 filters\n",
    "    # Length stays 50 before the pool. \n",
    "    # After maxpool(kernel=2): length -> 50 // 2 = 25\n",
    "    nn.Conv1d(64, 128, kernel_size=5, padding=2),\n",
    "    nn.BatchNorm1d(128),\n",
    "    nn.ReLU(),\n",
    "    nn.MaxPool1d(kernel_size=2),           # -> [batch, 128, 25]\n",
    "\n",
    "    # ----------------------------\n",
    "    # 4) Dropout + Flatten + Fully Connected\n",
    "    nn.Dropout(p=0.4),\n",
    "    nn.Flatten(),                          # -> [batch, 128*25 = 3200]\n",
    "    nn.Linear(128*25, 64),\n",
    "    nn.Dropout(p=0.5),                     # More moderate dropout\n",
    "    nn.ReLU(),\n",
    "    nn.Linear(64, 2),\n",
    ").to(device)"
   ]
  },
  {
   "cell_type": "code",
   "execution_count": 252,
   "metadata": {},
   "outputs": [],
   "source": [
    "#%% Loss and optimizer\n",
    "loss_function = torch.nn.CrossEntropyLoss()\n",
    "optimizer = torch.optim.Adam(net.parameters(), lr=learning_rate, weight_decay=weight_decay)"
   ]
  },
  {
   "cell_type": "code",
   "execution_count": 234,
   "metadata": {},
   "outputs": [],
   "source": [
    "# %% Load trained network from file\n",
    "# net.load_state_dict(torch.load('netV5.pt'))"
   ]
  },
  {
   "cell_type": "markdown",
   "metadata": {},
   "source": [
    "## Train"
   ]
  },
  {
   "cell_type": "code",
   "execution_count": 253,
   "metadata": {},
   "outputs": [
    {
     "name": "stdout",
     "output_type": "stream",
     "text": [
      "Epoch 1/100\n",
      "Training loss: 0.6269, Training accuracy: 68.69%\n",
      "Test loss: 0.6391, Test accuracy: 70.63%\n",
      "\n",
      "Epoch 2/100\n",
      "Training loss: 0.6232, Training accuracy: 69.04%\n",
      "Test loss: 0.6381, Test accuracy: 70.63%\n",
      "\n",
      "Epoch 3/100\n",
      "Training loss: 0.6028, Training accuracy: 69.04%\n",
      "Test loss: 0.6399, Test accuracy: 70.63%\n",
      "\n",
      "Epoch 4/100\n",
      "Training loss: 0.5971, Training accuracy: 69.04%\n",
      "Test loss: 0.6328, Test accuracy: 70.63%\n",
      "\n",
      "Epoch 5/100\n",
      "Training loss: 0.5933, Training accuracy: 69.04%\n",
      "Test loss: 0.6285, Test accuracy: 70.63%\n",
      "\n",
      "Epoch 6/100\n",
      "Training loss: 0.5917, Training accuracy: 69.04%\n",
      "Test loss: 0.6277, Test accuracy: 70.63%\n",
      "\n",
      "Epoch 7/100\n",
      "Training loss: 0.5867, Training accuracy: 69.04%\n",
      "Test loss: 0.6251, Test accuracy: 70.63%\n",
      "\n",
      "Epoch 8/100\n",
      "Training loss: 0.5825, Training accuracy: 69.04%\n",
      "Test loss: 0.6056, Test accuracy: 70.63%\n",
      "\n",
      "Epoch 9/100\n",
      "Training loss: 0.5766, Training accuracy: 69.04%\n",
      "Test loss: 0.5980, Test accuracy: 70.63%\n",
      "\n",
      "Epoch 10/100\n",
      "Training loss: 0.5717, Training accuracy: 69.04%\n",
      "Test loss: 0.6005, Test accuracy: 70.63%\n",
      "\n",
      "Epoch 11/100\n",
      "Training loss: 0.5677, Training accuracy: 69.04%\n",
      "Test loss: 0.6071, Test accuracy: 70.63%\n",
      "\n",
      "Epoch 12/100\n",
      "Training loss: 0.5677, Training accuracy: 69.04%\n",
      "Test loss: 0.6079, Test accuracy: 70.63%\n",
      "\n",
      "Epoch 13/100\n",
      "Training loss: 0.5663, Training accuracy: 69.02%\n",
      "Test loss: 0.5825, Test accuracy: 70.63%\n",
      "\n",
      "Epoch 14/100\n",
      "Training loss: 0.5618, Training accuracy: 69.04%\n",
      "Test loss: 0.6035, Test accuracy: 70.63%\n",
      "\n",
      "Epoch 15/100\n",
      "Training loss: 0.5606, Training accuracy: 69.11%\n",
      "Test loss: 0.5833, Test accuracy: 70.78%\n",
      "\n",
      "Epoch 16/100\n",
      "Training loss: 0.5581, Training accuracy: 69.59%\n",
      "Test loss: 0.5901, Test accuracy: 71.26%\n",
      "\n",
      "Epoch 17/100\n",
      "Training loss: 0.5533, Training accuracy: 69.86%\n",
      "Test loss: 0.5939, Test accuracy: 72.05%\n",
      "\n",
      "Epoch 18/100\n",
      "Training loss: 0.5564, Training accuracy: 69.63%\n",
      "Test loss: 0.6084, Test accuracy: 74.84%\n",
      "\n",
      "Epoch 19/100\n",
      "Training loss: 0.5493, Training accuracy: 70.12%\n",
      "Test loss: 0.5762, Test accuracy: 73.39%\n",
      "\n",
      "Epoch 20/100\n",
      "Training loss: 0.5484, Training accuracy: 70.79%\n",
      "Test loss: 0.5859, Test accuracy: 74.36%\n",
      "\n",
      "Epoch 21/100\n",
      "Training loss: 0.5476, Training accuracy: 70.29%\n",
      "Test loss: 0.5786, Test accuracy: 74.28%\n",
      "\n",
      "Epoch 22/100\n",
      "Training loss: 0.5403, Training accuracy: 70.71%\n",
      "Test loss: 0.5828, Test accuracy: 73.91%\n",
      "\n",
      "Epoch 23/100\n",
      "Training loss: 0.5402, Training accuracy: 72.10%\n",
      "Test loss: 0.5915, Test accuracy: 72.31%\n",
      "\n",
      "Epoch 24/100\n",
      "Training loss: 0.5397, Training accuracy: 72.60%\n",
      "Test loss: 0.5855, Test accuracy: 72.83%\n",
      "\n",
      "Epoch 25/100\n",
      "Training loss: 0.5348, Training accuracy: 72.54%\n",
      "Test loss: 0.5705, Test accuracy: 74.17%\n",
      "\n",
      "Epoch 26/100\n",
      "Training loss: 0.5336, Training accuracy: 72.97%\n",
      "Test loss: 0.5754, Test accuracy: 73.76%\n",
      "\n",
      "Epoch 27/100\n",
      "Training loss: 0.5340, Training accuracy: 72.81%\n",
      "Test loss: 0.5773, Test accuracy: 73.31%\n",
      "\n",
      "Epoch 28/100\n",
      "Training loss: 0.5355, Training accuracy: 73.21%\n",
      "Test loss: 0.5821, Test accuracy: 71.97%\n",
      "\n",
      "Epoch 29/100\n",
      "Training loss: 0.5318, Training accuracy: 72.43%\n",
      "Test loss: 0.5768, Test accuracy: 73.46%\n",
      "\n",
      "Epoch 30/100\n",
      "Training loss: 0.5269, Training accuracy: 73.24%\n",
      "Test loss: 0.5651, Test accuracy: 74.21%\n",
      "\n",
      "Epoch 31/100\n",
      "Training loss: 0.5294, Training accuracy: 73.55%\n",
      "Test loss: 0.5790, Test accuracy: 71.56%\n",
      "\n",
      "Epoch 32/100\n",
      "Training loss: 0.5210, Training accuracy: 73.71%\n",
      "Test loss: 0.5673, Test accuracy: 73.39%\n",
      "\n",
      "Epoch 33/100\n",
      "Training loss: 0.5264, Training accuracy: 73.52%\n",
      "Test loss: 0.5643, Test accuracy: 73.87%\n",
      "\n",
      "Epoch 34/100\n",
      "Training loss: 0.5227, Training accuracy: 73.82%\n",
      "Test loss: 0.5741, Test accuracy: 71.64%\n",
      "\n",
      "Epoch 35/100\n",
      "Training loss: 0.5207, Training accuracy: 73.83%\n",
      "Test loss: 0.5786, Test accuracy: 71.00%\n",
      "\n",
      "Epoch 36/100\n",
      "Training loss: 0.5238, Training accuracy: 73.46%\n",
      "Test loss: 0.5619, Test accuracy: 73.39%\n",
      "\n",
      "Epoch 37/100\n",
      "Training loss: 0.5248, Training accuracy: 73.91%\n",
      "Test loss: 0.5826, Test accuracy: 69.55%\n",
      "\n",
      "Epoch 38/100\n",
      "Training loss: 0.5140, Training accuracy: 74.52%\n",
      "Test loss: 0.5625, Test accuracy: 73.20%\n",
      "\n",
      "Epoch 39/100\n",
      "Training loss: 0.5158, Training accuracy: 74.42%\n",
      "Test loss: 0.5786, Test accuracy: 69.70%\n",
      "\n",
      "Epoch 40/100\n",
      "Training loss: 0.5178, Training accuracy: 74.06%\n",
      "Test loss: 0.5630, Test accuracy: 73.39%\n",
      "\n",
      "Epoch 41/100\n",
      "Training loss: 0.5136, Training accuracy: 74.20%\n",
      "Test loss: 0.5600, Test accuracy: 73.28%\n",
      "\n",
      "Epoch 42/100\n",
      "Training loss: 0.5110, Training accuracy: 74.75%\n",
      "Test loss: 0.5559, Test accuracy: 72.53%\n",
      "\n",
      "Epoch 43/100\n",
      "Training loss: 0.5154, Training accuracy: 74.94%\n",
      "Test loss: 0.5645, Test accuracy: 71.90%\n",
      "\n",
      "Epoch 44/100\n",
      "Training loss: 0.5106, Training accuracy: 74.08%\n",
      "Test loss: 0.5524, Test accuracy: 73.57%\n",
      "\n",
      "Epoch 45/100\n",
      "Training loss: 0.5108, Training accuracy: 74.65%\n",
      "Test loss: 0.5540, Test accuracy: 73.57%\n",
      "\n",
      "Epoch 46/100\n",
      "Training loss: 0.5064, Training accuracy: 73.71%\n",
      "Test loss: 0.5500, Test accuracy: 73.50%\n",
      "\n",
      "Epoch 47/100\n",
      "Training loss: 0.5099, Training accuracy: 74.71%\n",
      "Test loss: 0.5503, Test accuracy: 74.32%\n",
      "\n",
      "Epoch 48/100\n",
      "Training loss: 0.4984, Training accuracy: 74.65%\n",
      "Test loss: 0.5597, Test accuracy: 72.34%\n",
      "\n",
      "Epoch 49/100\n",
      "Training loss: 0.5085, Training accuracy: 74.74%\n",
      "Test loss: 0.5437, Test accuracy: 74.17%\n",
      "\n",
      "Epoch 50/100\n",
      "Training loss: 0.5065, Training accuracy: 75.07%\n",
      "Test loss: 0.5476, Test accuracy: 73.35%\n",
      "\n",
      "Epoch 51/100\n",
      "Training loss: 0.5050, Training accuracy: 75.19%\n",
      "Test loss: 0.5450, Test accuracy: 74.43%\n",
      "\n",
      "Epoch 52/100\n",
      "Training loss: 0.5004, Training accuracy: 74.84%\n",
      "Test loss: 0.5467, Test accuracy: 74.73%\n",
      "\n",
      "Epoch 53/100\n",
      "Training loss: 0.4986, Training accuracy: 75.40%\n",
      "Test loss: 0.5416, Test accuracy: 73.95%\n",
      "\n",
      "Epoch 54/100\n",
      "Training loss: 0.5080, Training accuracy: 74.48%\n",
      "Test loss: 0.5442, Test accuracy: 74.39%\n",
      "\n",
      "Epoch 55/100\n",
      "Training loss: 0.4991, Training accuracy: 75.00%\n",
      "Test loss: 0.5489, Test accuracy: 74.13%\n",
      "\n",
      "Epoch 56/100\n",
      "Training loss: 0.4999, Training accuracy: 74.80%\n",
      "Test loss: 0.5430, Test accuracy: 74.51%\n",
      "\n",
      "Epoch 57/100\n",
      "Training loss: 0.4966, Training accuracy: 74.86%\n",
      "Test loss: 0.5522, Test accuracy: 72.83%\n",
      "\n",
      "Epoch 58/100\n",
      "Training loss: 0.5086, Training accuracy: 75.29%\n",
      "Test loss: 0.5490, Test accuracy: 73.50%\n",
      "\n",
      "Epoch 59/100\n",
      "Training loss: 0.4961, Training accuracy: 74.68%\n",
      "Test loss: 0.5501, Test accuracy: 73.61%\n",
      "\n",
      "Epoch 60/100\n",
      "Training loss: 0.4925, Training accuracy: 75.19%\n",
      "Test loss: 0.5419, Test accuracy: 74.58%\n",
      "\n",
      "Epoch 61/100\n",
      "Training loss: 0.4945, Training accuracy: 75.02%\n",
      "Test loss: 0.5430, Test accuracy: 74.39%\n",
      "\n",
      "Epoch 62/100\n",
      "Training loss: 0.4967, Training accuracy: 75.25%\n",
      "Test loss: 0.5455, Test accuracy: 73.87%\n",
      "\n",
      "Epoch 63/100\n",
      "Training loss: 0.4931, Training accuracy: 75.46%\n",
      "Test loss: 0.5381, Test accuracy: 74.84%\n",
      "\n",
      "Epoch 64/100\n",
      "Training loss: 0.4950, Training accuracy: 75.19%\n",
      "Test loss: 0.5394, Test accuracy: 75.21%\n",
      "\n",
      "Epoch 65/100\n",
      "Training loss: 0.4967, Training accuracy: 75.21%\n",
      "Test loss: 0.5390, Test accuracy: 74.92%\n",
      "\n",
      "Epoch 66/100\n",
      "Training loss: 0.4969, Training accuracy: 75.29%\n",
      "Test loss: 0.5434, Test accuracy: 74.28%\n",
      "\n",
      "Epoch 67/100\n",
      "Training loss: 0.4913, Training accuracy: 75.35%\n",
      "Test loss: 0.5374, Test accuracy: 75.36%\n",
      "\n",
      "Epoch 68/100\n",
      "Training loss: 0.4828, Training accuracy: 76.22%\n",
      "Test loss: 0.5483, Test accuracy: 72.94%\n",
      "\n",
      "Epoch 69/100\n",
      "Training loss: 0.4914, Training accuracy: 75.51%\n",
      "Test loss: 0.5466, Test accuracy: 74.54%\n",
      "\n",
      "Epoch 70/100\n",
      "Training loss: 0.4849, Training accuracy: 75.80%\n",
      "Test loss: 0.5437, Test accuracy: 74.95%\n",
      "\n",
      "Epoch 71/100\n",
      "Training loss: 0.4873, Training accuracy: 75.66%\n",
      "Test loss: 0.5484, Test accuracy: 74.10%\n",
      "\n",
      "Epoch 72/100\n",
      "Training loss: 0.4880, Training accuracy: 75.68%\n",
      "Test loss: 0.5557, Test accuracy: 74.10%\n",
      "\n",
      "Epoch 73/100\n",
      "Training loss: 0.4889, Training accuracy: 75.22%\n",
      "Test loss: 0.5393, Test accuracy: 74.62%\n",
      "\n",
      "Epoch 74/100\n",
      "Training loss: 0.4912, Training accuracy: 75.77%\n",
      "Test loss: 0.5235, Test accuracy: 75.66%\n",
      "\n",
      "Epoch 75/100\n",
      "Training loss: 0.4837, Training accuracy: 75.70%\n",
      "Test loss: 0.5335, Test accuracy: 75.03%\n",
      "\n",
      "Epoch 76/100\n",
      "Training loss: 0.4826, Training accuracy: 75.80%\n",
      "Test loss: 0.5215, Test accuracy: 75.74%\n",
      "\n",
      "Epoch 77/100\n",
      "Training loss: 0.4820, Training accuracy: 75.88%\n",
      "Test loss: 0.5436, Test accuracy: 74.21%\n",
      "\n",
      "Epoch 78/100\n",
      "Training loss: 0.4868, Training accuracy: 75.65%\n",
      "Test loss: 0.5393, Test accuracy: 76.18%\n",
      "\n",
      "Epoch 79/100\n",
      "Training loss: 0.4857, Training accuracy: 75.42%\n",
      "Test loss: 0.5420, Test accuracy: 74.10%\n",
      "\n",
      "Epoch 80/100\n",
      "Training loss: 0.4747, Training accuracy: 76.01%\n",
      "Test loss: 0.5375, Test accuracy: 75.21%\n",
      "\n",
      "Epoch 81/100\n",
      "Training loss: 0.4837, Training accuracy: 76.14%\n",
      "Test loss: 0.5330, Test accuracy: 74.99%\n",
      "\n",
      "Epoch 82/100\n",
      "Training loss: 0.4797, Training accuracy: 76.23%\n",
      "Test loss: 0.5363, Test accuracy: 75.40%\n",
      "\n",
      "Epoch 83/100\n",
      "Training loss: 0.4752, Training accuracy: 75.99%\n",
      "Test loss: 0.5318, Test accuracy: 75.25%\n",
      "\n",
      "Epoch 84/100\n",
      "Training loss: 0.4789, Training accuracy: 75.87%\n",
      "Test loss: 0.5489, Test accuracy: 74.06%\n",
      "\n",
      "Epoch 85/100\n",
      "Training loss: 0.4819, Training accuracy: 76.11%\n",
      "Test loss: 0.5324, Test accuracy: 75.03%\n",
      "\n",
      "Epoch 86/100\n",
      "Training loss: 0.4755, Training accuracy: 75.63%\n",
      "Test loss: 0.5290, Test accuracy: 75.48%\n",
      "\n",
      "Epoch 87/100\n",
      "Training loss: 0.4811, Training accuracy: 76.02%\n",
      "Test loss: 0.5361, Test accuracy: 75.03%\n",
      "\n",
      "Epoch 88/100\n",
      "Training loss: 0.4728, Training accuracy: 76.80%\n",
      "Test loss: 0.5430, Test accuracy: 73.35%\n",
      "\n",
      "Epoch 89/100\n",
      "Training loss: 0.4729, Training accuracy: 76.18%\n",
      "Test loss: 0.5429, Test accuracy: 75.85%\n",
      "\n",
      "Epoch 90/100\n",
      "Training loss: 0.4744, Training accuracy: 76.29%\n",
      "Test loss: 0.5322, Test accuracy: 76.18%\n",
      "\n",
      "Epoch 91/100\n",
      "Training loss: 0.4766, Training accuracy: 76.18%\n",
      "Test loss: 0.5359, Test accuracy: 74.06%\n",
      "\n",
      "Epoch 92/100\n",
      "Training loss: 0.4728, Training accuracy: 76.55%\n",
      "Test loss: 0.5346, Test accuracy: 75.36%\n",
      "\n",
      "Epoch 93/100\n",
      "Training loss: 0.4740, Training accuracy: 75.96%\n",
      "Test loss: 0.5325, Test accuracy: 76.03%\n",
      "\n",
      "Epoch 94/100\n",
      "Training loss: 0.4742, Training accuracy: 76.24%\n",
      "Test loss: 0.5293, Test accuracy: 75.62%\n",
      "\n",
      "Epoch 95/100\n",
      "Training loss: 0.4727, Training accuracy: 76.64%\n",
      "Test loss: 0.5269, Test accuracy: 76.15%\n",
      "\n",
      "Epoch 96/100\n",
      "Training loss: 0.4746, Training accuracy: 76.08%\n",
      "Test loss: 0.5320, Test accuracy: 75.62%\n",
      "\n",
      "Epoch 97/100\n",
      "Training loss: 0.4763, Training accuracy: 76.65%\n",
      "Test loss: 0.5254, Test accuracy: 75.96%\n",
      "\n",
      "Epoch 98/100\n",
      "Training loss: 0.4731, Training accuracy: 76.14%\n",
      "Test loss: 0.5379, Test accuracy: 74.95%\n",
      "\n",
      "Epoch 99/100\n",
      "Training loss: 0.4656, Training accuracy: 77.05%\n",
      "Test loss: 0.5301, Test accuracy: 75.25%\n",
      "\n",
      "Epoch 100/100\n",
      "Training loss: 0.4745, Training accuracy: 76.54%\n",
      "Test loss: 0.5256, Test accuracy: 76.41%\n",
      "\n"
     ]
    }
   ],
   "source": [
    "#%% Train\n",
    "train_loss = {}\n",
    "test_loss = {}\n",
    "train_accuracy = {}\n",
    "test_accuracy = {}\n",
    "step = 0\n",
    "\n",
    "scheduler = StepLR(optimizer, step_size=25, gamma=0.9)\n",
    "\n",
    "for epoch in range(num_epochs):\n",
    "    running_loss = 0.0\n",
    "    correct = 0\n",
    "    total = 0\n",
    "    \n",
    "    for inputs, labels in train_loader:\n",
    "        net.train()\n",
    "\n",
    "        # Put data on GPU \n",
    "        inputs = inputs.to(device)\n",
    "        labels = labels.to(device)\n",
    "\n",
    "        optimizer.zero_grad()\n",
    "\n",
    "        # Compute loss and take gradient step\n",
    "        outputs = net(inputs)\n",
    "        loss = loss_function(outputs, labels)\n",
    "\n",
    "        loss.backward()\n",
    "        optimizer.step()\n",
    "\n",
    "        predicted = torch.argmax(outputs, dim=1)\n",
    "\n",
    "        running_loss += loss.item()\n",
    "        correct += (predicted == labels).sum().item()\n",
    "        total += labels.size(0)\n",
    "\n",
    "        # Print accuracy for epoch            \n",
    "    epoch_loss = running_loss / len(train_loader)\n",
    "\n",
    "    train_loss[epoch] = epoch_loss\n",
    "\n",
    "    epoch_accuracy = 100 * correct / total\n",
    "\n",
    "    train_accuracy[epoch] = epoch_accuracy\n",
    "\n",
    "    print(f\"Epoch {epoch+1}/{num_epochs}\")\n",
    "    print(f\"Training loss: {epoch_loss:.4f}, Training accuracy: {epoch_accuracy:.2f}%\")\n",
    "\n",
    "    # Evaluate the model\n",
    "    net.eval()\n",
    "    correct = 0\n",
    "    total = 0\n",
    "    running_loss_test = 0.0\n",
    "\n",
    "    with torch.no_grad():\n",
    "        for inputs, labels in test_loader:\n",
    "            # Put data on GPU \n",
    "            inputs = inputs.to(device)\n",
    "            labels = labels.to(device)\n",
    "            \n",
    "            # Forward pass\n",
    "            outputs = net(inputs)\n",
    "            \n",
    "            predicted = torch.argmax(outputs, dim=1)\n",
    "\n",
    "            loss = loss_function(outputs, labels)\n",
    "            \n",
    "            running_loss_test += loss.item()\n",
    "\n",
    "            # Count correct predictions\n",
    "            correct += (predicted == labels).sum().item()\n",
    "            total += labels.size(0)\n",
    "\n",
    "        epoch_loss = running_loss_test / len(test_loader)\n",
    "        test_loss[epoch] = epoch_loss\n",
    "\n",
    "    test_accuracy_score = 100 * correct / total\n",
    "    \n",
    "    test_accuracy[epoch] = test_accuracy_score\n",
    "\n",
    "    print(f\"Test loss: {epoch_loss:.4f}, Test accuracy: {test_accuracy_score:.2f}%\")\n",
    "    print()\n",
    "\n",
    "    scheduler.step()\n"
   ]
  },
  {
   "cell_type": "code",
   "execution_count": 254,
   "metadata": {},
   "outputs": [
    {
     "data": {
      "image/png": "[encoded data removed]",
      "text/plain": [
       "<Figure size 640x480 with 1 Axes>"
      ]
     },
     "metadata": {},
     "output_type": "display_data"
    }
   ],
   "source": [
    "plt.plot(train_loss.values(), label=\"Training Loss\")\n",
    "plt.plot(test_loss.values(), label=\"Test Loss\")\n",
    "plt.legend()\n",
    "plt.xlabel(\"Epoch\")\n",
    "plt.ylabel(\"Loss\")\n",
    "plt.title(\"Training and test loss\")\n",
    "plt.grid(True)"
   ]
  },
  {
   "cell_type": "code",
   "execution_count": 255,
   "metadata": {},
   "outputs": [
    {
     "data": {
      "image/png": "[encoded data removed]",
      "text/plain": [
       "<Figure size 640x480 with 1 Axes>"
      ]
     },
     "metadata": {},
     "output_type": "display_data"
    }
   ],
   "source": [
    "plt.plot(train_accuracy.values(), label=\"Training Accuracy\")\n",
    "plt.plot(test_accuracy.values(), label=\"Test Accuracy\")\n",
    "plt.legend()\n",
    "plt.xlabel(\"Epoch\")\n",
    "plt.ylabel(\"Accuracy\")\n",
    "plt.title(\"Training and test accuracy\")\n",
    "plt.grid(True)"
   ]
  },
  {
   "cell_type": "code",
   "execution_count": 164,
   "metadata": {},
   "outputs": [],
   "source": [
    "# %% Save the trained model\n",
    "torch.save(net.state_dict(), 'netV8.pt')"
   ]
  },
  {
   "cell_type": "code",
   "execution_count": null,
   "metadata": {},
   "outputs": [],
   "source": []
  }
 ],
 "metadata": {
  "kernelspec": {
   "display_name": "IntelligentSystems",
   "language": "python",
   "name": "python3"
  },
  "language_info": {
   "codemirror_mode": {
    "name": "ipython",
    "version": 3
   },
   "file_extension": ".py",
   "mimetype": "text/x-python",
   "name": "python",
   "nbconvert_exporter": "python",
   "pygments_lexer": "ipython3",
   "version": "3.12.5"
  }
 },
 "nbformat": 4,
 "nbformat_minor": 2
}
