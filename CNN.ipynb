{
 "cells": [
  {
   "cell_type": "code",
   "execution_count": 39,
   "metadata": {},
   "outputs": [],
   "source": [
    "import re\n",
    "import os\n",
    "import numpy as np\n",
    "import pandas as pd\n",
    "import nltk\n",
    "from nltk.tokenize import word_tokenize\n",
    "from numpy import genfromtxt\n",
    "\n",
    "#%% Import libraries\n",
    "import torch\n",
    "import torchmetrics\n",
    "from torch.utils.data import DataLoader, TensorDataset\n",
    "import os\n",
    "from glob import glob\n",
    "from sklearn.model_selection import train_test_split"
   ]
  },
  {
   "cell_type": "markdown",
   "metadata": {},
   "source": [
    "# Load training and test dataframes & TF-IDF matrices"
   ]
  },
  {
   "cell_type": "code",
   "execution_count": 40,
   "metadata": {},
   "outputs": [],
   "source": [
    "# Load sentences and labels\n",
    "train = pd.read_csv(r'Test_og_Train_df\\train_dataframe.csv')\n",
    "test = pd.read_csv(r'Test_og_Train_df\\test_dataframe.csv')"
   ]
  },
  {
   "cell_type": "code",
   "execution_count": 41,
   "metadata": {},
   "outputs": [],
   "source": [
    "train_labels = train[\"Labels\"].tolist()\n",
    "\n",
    "test_labels = test[\"Labels\"].tolist()"
   ]
  },
  {
   "cell_type": "code",
   "execution_count": 42,
   "metadata": {},
   "outputs": [],
   "source": [
    "train_tf_idf = pd.read_csv(r'DTTFIDFM_data\\DTTFIDFM_train.csv')\n",
    "test_tf_idf = pd.read_csv(r'DTTFIDFM_data\\DTTFIDFM_test.csv')\n",
    "\n",
    "train_tf_idf = train_tf_idf.drop('Unnamed: 0', axis=1)\n",
    "test_tf_idf = test_tf_idf.drop('Unnamed: 0', axis=1)"
   ]
  },
  {
   "cell_type": "code",
   "execution_count": 43,
   "metadata": {},
   "outputs": [],
   "source": [
    "train_tf_idf_numpy = train_tf_idf.to_numpy()\n",
    "test_tf_idf_numpy = test_tf_idf.to_numpy()"
   ]
  },
  {
   "cell_type": "code",
   "execution_count": 44,
   "metadata": {},
   "outputs": [],
   "source": [
    "# train_tf_idf_numpy"
   ]
  },
  {
   "cell_type": "code",
   "execution_count": 45,
   "metadata": {},
   "outputs": [
    {
     "data": {
      "text/plain": [
       "((8048, 24653), (2683, 24653))"
      ]
     },
     "execution_count": 45,
     "metadata": {},
     "output_type": "execute_result"
    }
   ],
   "source": [
    "train_tf_idf_numpy.shape,test_tf_idf_numpy.shape"
   ]
  },
  {
   "cell_type": "markdown",
   "metadata": {},
   "source": [
    "# CNN"
   ]
  },
  {
   "cell_type": "markdown",
   "metadata": {},
   "source": [
    "## Load SVD-matrix:"
   ]
  },
  {
   "cell_type": "code",
   "execution_count": 46,
   "metadata": {},
   "outputs": [],
   "source": [
    "# Load SVD-matrix from csv-file\n",
    "V_200 = genfromtxt('V200.csv', delimiter=',')"
   ]
  },
  {
   "cell_type": "code",
   "execution_count": 47,
   "metadata": {},
   "outputs": [
    {
     "data": {
      "text/plain": [
       "array([[-1.01522614e-01,  1.11495275e-01, -1.94767568e-01, ...,\n",
       "         1.68914466e-02, -1.59969860e-02, -4.14657793e-02],\n",
       "       [-8.21504456e-02,  5.38646152e-02, -5.83989941e-03, ...,\n",
       "        -6.59796006e-03, -5.48038621e-03,  3.82854767e-02],\n",
       "       [-9.73437764e-04,  7.31839751e-04, -1.98419009e-04, ...,\n",
       "        -4.65777427e-04,  7.10243628e-04,  7.45946970e-04],\n",
       "       ...,\n",
       "       [-6.25781132e-04,  4.19897409e-04,  4.62287900e-05, ...,\n",
       "         1.21027324e-04,  6.06961375e-06,  7.62899044e-04],\n",
       "       [-5.13986347e-04,  4.40283044e-05,  2.03693542e-04, ...,\n",
       "        -1.50341156e-04,  7.16554560e-05,  6.35583134e-04],\n",
       "       [ 0.00000000e+00,  0.00000000e+00,  0.00000000e+00, ...,\n",
       "         0.00000000e+00,  0.00000000e+00,  0.00000000e+00]])"
      ]
     },
     "execution_count": 47,
     "metadata": {},
     "output_type": "execute_result"
    }
   ],
   "source": [
    "V_200"
   ]
  },
  {
   "cell_type": "code",
   "execution_count": 48,
   "metadata": {},
   "outputs": [
    {
     "data": {
      "text/plain": [
       "(24653, 200)"
      ]
     },
     "execution_count": 48,
     "metadata": {},
     "output_type": "execute_result"
    }
   ],
   "source": [
    "V_200.shape"
   ]
  },
  {
   "cell_type": "code",
   "execution_count": 49,
   "metadata": {},
   "outputs": [
    {
     "data": {
      "text/plain": [
       "numpy.ndarray"
      ]
     },
     "execution_count": 49,
     "metadata": {},
     "output_type": "execute_result"
    }
   ],
   "source": [
    "type(V_200)"
   ]
  },
  {
   "cell_type": "markdown",
   "metadata": {},
   "source": [
    "## Sentence LSA embedding"
   ]
  },
  {
   "cell_type": "code",
   "execution_count": 50,
   "metadata": {},
   "outputs": [],
   "source": [
    "def sentence_LSA_embedding(TF_IDF_matrix_numpy, V_k):\n",
    "    liste_LSA_vektorer = []\n",
    "    for i in range(TF_IDF_matrix_numpy.shape[0]):\n",
    "        lsa_vector = np.dot(TF_IDF_matrix_numpy[i], V_k)\n",
    "        liste_LSA_vektorer.append(lsa_vector)\n",
    "    return np.array(liste_LSA_vektorer)\n"
   ]
  },
  {
   "cell_type": "code",
   "execution_count": 51,
   "metadata": {},
   "outputs": [],
   "source": [
    "train_lsa = sentence_LSA_embedding(train_tf_idf_numpy, V_200)\n",
    "test_lsa = sentence_LSA_embedding(test_tf_idf_numpy, V_200)"
   ]
  },
  {
   "cell_type": "markdown",
   "metadata": {},
   "source": [
    "## Make tensors"
   ]
  },
  {
   "cell_type": "code",
   "execution_count": 52,
   "metadata": {},
   "outputs": [],
   "source": [
    "# Convert inputs\n",
    "train_input_tensor = torch.tensor(train_lsa, dtype=torch.float32)  # Shape: (num_train_sentences, 200)\n",
    "test_input_tensor = torch.tensor(test_lsa, dtype=torch.float32)    # Shape: (num_test_sentences, 200)\n",
    "\n",
    "# Convert labels\n",
    "train_labels_tensor = torch.tensor(train_labels, dtype=torch.long)  # Shape: (num_train_sentences,)\n",
    "test_labels_tensor = torch.tensor(test_labels, dtype=torch.long)    # Shape: (num_test_sentences,)"
   ]
  },
  {
   "cell_type": "code",
   "execution_count": 53,
   "metadata": {},
   "outputs": [],
   "source": [
    "# Reshape the tensors for CNN input (adding the channel dimension)\n",
    "train_input_tensor = train_input_tensor.unsqueeze(1)  # Shape: (num_train_sentences, 1, 200)\n",
    "test_input_tensor = test_input_tensor.unsqueeze(1)    # Shape: (num_test_sentences, 1, 200)"
   ]
  },
  {
   "cell_type": "code",
   "execution_count": 54,
   "metadata": {},
   "outputs": [
    {
     "data": {
      "text/plain": [
       "(torch.Size([8048, 1, 200]), torch.Size([2683, 1, 200]))"
      ]
     },
     "execution_count": 54,
     "metadata": {},
     "output_type": "execute_result"
    }
   ],
   "source": [
    "train_input_tensor.shape, test_input_tensor.shape"
   ]
  },
  {
   "cell_type": "code",
   "execution_count": 100,
   "metadata": {},
   "outputs": [],
   "source": [
    "batch_size = 400\n",
    "# Create datasets\n",
    "train_dataset = TensorDataset(train_input_tensor, train_labels_tensor)\n",
    "test_dataset = TensorDataset(test_input_tensor, test_labels_tensor)\n",
    "\n",
    "# Create dataloaders\n",
    "train_loader = DataLoader(train_dataset, batch_size=batch_size, shuffle=True)  # Shuffle training data\n",
    "test_loader = DataLoader(test_dataset, batch_size=batch_size, shuffle=False)   # No shuffle for testing"
   ]
  },
  {
   "cell_type": "markdown",
   "metadata": {},
   "source": [
    "## Build the CNN"
   ]
  },
  {
   "cell_type": "code",
   "execution_count": 194,
   "metadata": {},
   "outputs": [],
   "source": [
    "num_epochs = 100 \n",
    "learning_rate = 0.01\n",
    "weight_decay = 0."
   ]
  },
  {
   "cell_type": "code",
   "execution_count": 195,
   "metadata": {},
   "outputs": [],
   "source": [
    "#%% Device\n",
    "# Run on GPU if available\n",
    "device = \"cuda\" if torch.cuda.is_available() else \"cpu\""
   ]
  },
  {
   "cell_type": "code",
   "execution_count": 196,
   "metadata": {},
   "outputs": [],
   "source": [
    " #%% Neural network\n",
    "net = torch.nn.Sequential(\n",
    "    torch.nn.Conv1d(1, 16, kernel_size=3), # 200 - 3 + 1 = 198 \n",
    "    torch.nn.ReLU(),\n",
    "    torch.nn.Dropout(p=0.05),\n",
    "    torch.nn.MaxPool1d(kernel_size=2),     # 198 // 2 = 99\n",
    "\n",
    "    torch.nn.Conv1d(16, 16, kernel_size=3),  # 99 - 3 + 1 = 97\n",
    "    torch.nn.ReLU(),\n",
    "    torch.nn.Dropout(p=0.2),\n",
    "    torch.nn.MaxPool1d(kernel_size=2),     # 97 // 2 = 48\n",
    "    \n",
    "    torch.nn.Flatten(),                    \n",
    "    torch.nn.Linear(16*48, 254),\n",
    "    torch.nn.ReLU(),\n",
    "    torch.nn.Linear(254, 128), # Output 2 logits (for two classes: 0 or 1)\n",
    "    torch.nn.ReLU(),\n",
    "    torch.nn.Linear(128, 64),\n",
    "    torch.nn.ReLU(),\n",
    "    torch.nn.Linear(64, 16),\n",
    "    torch.nn.ReLU(),\n",
    "    torch.nn.Linear(16, 2)\n",
    ").to(device)"
   ]
  },
  {
   "cell_type": "code",
   "execution_count": 197,
   "metadata": {},
   "outputs": [],
   "source": [
    "#%% Loss and optimizer\n",
    "loss_function = torch.nn.CrossEntropyLoss()\n",
    "optimizer = torch.optim.Adam(net.parameters(), lr=learning_rate, weight_decay=weight_decay)"
   ]
  },
  {
   "cell_type": "code",
   "execution_count": 198,
   "metadata": {},
   "outputs": [],
   "source": [
    "#%% Metrics\n",
    "accuracy_metric = torchmetrics.classification.BinaryAccuracy().to(device)"
   ]
  },
  {
   "cell_type": "code",
   "execution_count": 165,
   "metadata": {},
   "outputs": [
    {
     "name": "stderr",
     "output_type": "stream",
     "text": [
      "C:\\Users\\chris\\AppData\\Local\\Temp\\ipykernel_9280\\2280464363.py:2: FutureWarning: You are using `torch.load` with `weights_only=False` (the current default value), which uses the default pickle module implicitly. It is possible to construct malicious pickle data which will execute arbitrary code during unpickling (See https://github.com/pytorch/pytorch/blob/main/SECURITY.md#untrusted-models for more details). In a future release, the default value for `weights_only` will be flipped to `True`. This limits the functions that could be executed during unpickling. Arbitrary objects will no longer be allowed to be loaded via this mode unless they are explicitly allowlisted by the user via `torch.serialization.add_safe_globals`. We recommend you start setting `weights_only=True` for any use case where you don't have full control of the loaded file. Please open an issue on GitHub for any issues related to this experimental feature.\n",
      "  net.load_state_dict(torch.load('netV5.pt'))\n"
     ]
    },
    {
     "data": {
      "text/plain": [
       "<All keys matched successfully>"
      ]
     },
     "execution_count": 165,
     "metadata": {},
     "output_type": "execute_result"
    }
   ],
   "source": [
    "# %% Load trained network from file\n",
    "net.load_state_dict(torch.load('netV5.pt'))"
   ]
  },
  {
   "cell_type": "markdown",
   "metadata": {},
   "source": [
    "## Train"
   ]
  },
  {
   "cell_type": "code",
   "execution_count": 199,
   "metadata": {},
   "outputs": [
    {
     "name": "stdout",
     "output_type": "stream",
     "text": [
      "Training accuracy = 0.6903578639030457\n",
      "Epoch 1/100, Loss: 0.6739, Accuracy: 69.04%\n",
      "Training accuracy = 0.6903578639030457\n",
      "Epoch 2/100, Loss: 0.6002, Accuracy: 69.04%\n",
      "Training accuracy = 0.6903578639030457\n",
      "Epoch 3/100, Loss: 0.5890, Accuracy: 69.04%\n",
      "Training accuracy = 0.6903578639030457\n",
      "Epoch 4/100, Loss: 0.5739, Accuracy: 69.04%\n",
      "Training accuracy = 0.7022863030433655\n",
      "Epoch 5/100, Loss: 0.5649, Accuracy: 70.23%\n",
      "Training accuracy = 0.7200546860694885\n",
      "Epoch 6/100, Loss: 0.5528, Accuracy: 72.01%\n",
      "Training accuracy = 0.7328528761863708\n",
      "Epoch 7/100, Loss: 0.5409, Accuracy: 73.29%\n",
      "Training accuracy = 0.7327286005020142\n",
      "Epoch 8/100, Loss: 0.5298, Accuracy: 73.27%\n",
      "Training accuracy = 0.741923451423645\n",
      "Epoch 9/100, Loss: 0.5259, Accuracy: 74.19%\n",
      "Training accuracy = 0.7421719431877136\n",
      "Epoch 10/100, Loss: 0.5222, Accuracy: 74.22%\n",
      "Training accuracy = 0.7439115047454834\n",
      "Epoch 11/100, Loss: 0.5267, Accuracy: 74.39%\n",
      "Training accuracy = 0.7502484917640686\n",
      "Epoch 12/100, Loss: 0.5087, Accuracy: 75.02%\n",
      "Training accuracy = 0.7435387969017029\n",
      "Epoch 13/100, Loss: 0.5060, Accuracy: 74.35%\n",
      "Training accuracy = 0.7583250403404236\n",
      "Epoch 14/100, Loss: 0.5018, Accuracy: 75.83%\n",
      "Training accuracy = 0.7565854787826538\n",
      "Epoch 15/100, Loss: 0.4913, Accuracy: 75.66%\n",
      "Training accuracy = 0.7618041634559631\n",
      "Epoch 16/100, Loss: 0.4947, Accuracy: 76.18%\n",
      "Training accuracy = 0.7647863030433655\n",
      "Epoch 17/100, Loss: 0.4871, Accuracy: 76.48%\n",
      "Training accuracy = 0.7683896422386169\n",
      "Epoch 18/100, Loss: 0.4785, Accuracy: 76.84%\n",
      "Training accuracy = 0.7703777551651001\n",
      "Epoch 19/100, Loss: 0.4678, Accuracy: 77.04%\n",
      "Training accuracy = 0.7738568782806396\n",
      "Epoch 20/100, Loss: 0.4641, Accuracy: 77.39%\n",
      "Training accuracy = 0.7779572606086731\n",
      "Epoch 21/100, Loss: 0.4599, Accuracy: 77.80%\n",
      "Training accuracy = 0.775844931602478\n",
      "Epoch 22/100, Loss: 0.4567, Accuracy: 77.58%\n",
      "Training accuracy = 0.775844931602478\n",
      "Epoch 23/100, Loss: 0.4522, Accuracy: 77.58%\n",
      "Training accuracy = 0.78615802526474\n",
      "Epoch 24/100, Loss: 0.4399, Accuracy: 78.62%\n",
      "Training accuracy = 0.7895129323005676\n",
      "Epoch 25/100, Loss: 0.4331, Accuracy: 78.95%\n",
      "Training accuracy = 0.7952286005020142\n",
      "Epoch 26/100, Loss: 0.4222, Accuracy: 79.52%\n",
      "Training accuracy = 0.7967196702957153\n",
      "Epoch 27/100, Loss: 0.4289, Accuracy: 79.67%\n",
      "Training accuracy = 0.8008200526237488\n",
      "Epoch 28/100, Loss: 0.4229, Accuracy: 80.08%\n",
      "Training accuracy = 0.8038021922111511\n",
      "Epoch 29/100, Loss: 0.4170, Accuracy: 80.38%\n",
      "Training accuracy = 0.7978379726409912\n",
      "Epoch 30/100, Loss: 0.4225, Accuracy: 79.78%\n",
      "Training accuracy = 0.815233588218689\n",
      "Epoch 31/100, Loss: 0.3955, Accuracy: 81.52%\n",
      "Training accuracy = 0.820576548576355\n",
      "Epoch 32/100, Loss: 0.3890, Accuracy: 82.06%\n",
      "Training accuracy = 0.8257952332496643\n",
      "Epoch 33/100, Loss: 0.3756, Accuracy: 82.58%\n",
      "Training accuracy = 0.8300198912620544\n",
      "Epoch 34/100, Loss: 0.3681, Accuracy: 83.00%\n",
      "Training accuracy = 0.8336232900619507\n",
      "Epoch 35/100, Loss: 0.3695, Accuracy: 83.36%\n",
      "Training accuracy = 0.8306411504745483\n",
      "Epoch 36/100, Loss: 0.3631, Accuracy: 83.06%\n",
      "Training accuracy = 0.8342445492744446\n",
      "Epoch 37/100, Loss: 0.3555, Accuracy: 83.42%\n",
      "Training accuracy = 0.8373509049415588\n",
      "Epoch 38/100, Loss: 0.3507, Accuracy: 83.74%\n",
      "Training accuracy = 0.8521371483802795\n",
      "Epoch 39/100, Loss: 0.3281, Accuracy: 85.21%\n",
      "Training accuracy = 0.8502733707427979\n",
      "Epoch 40/100, Loss: 0.3336, Accuracy: 85.03%\n",
      "Training accuracy = 0.8398360013961792\n",
      "Epoch 41/100, Loss: 0.3624, Accuracy: 83.98%\n",
      "Training accuracy = 0.8476639986038208\n",
      "Epoch 42/100, Loss: 0.3517, Accuracy: 84.77%\n",
      "Training accuracy = 0.8561133146286011\n",
      "Epoch 43/100, Loss: 0.3249, Accuracy: 85.61%\n",
      "Training accuracy = 0.8643141388893127\n",
      "Epoch 44/100, Loss: 0.3100, Accuracy: 86.43%\n",
      "Training accuracy = 0.8556163311004639\n",
      "Epoch 45/100, Loss: 0.3229, Accuracy: 85.56%\n",
      "Training accuracy = 0.8685387969017029\n",
      "Epoch 46/100, Loss: 0.3027, Accuracy: 86.85%\n",
      "Training accuracy = 0.8809642195701599\n",
      "Epoch 47/100, Loss: 0.2841, Accuracy: 88.10%\n",
      "Training accuracy = 0.8797216415405273\n",
      "Epoch 48/100, Loss: 0.2726, Accuracy: 87.97%\n",
      "Training accuracy = 0.8844433426856995\n",
      "Epoch 49/100, Loss: 0.2657, Accuracy: 88.44%\n",
      "Training accuracy = 0.8875496983528137\n",
      "Epoch 50/100, Loss: 0.2620, Accuracy: 88.75%\n",
      "Training accuracy = 0.8946322202682495\n",
      "Epoch 51/100, Loss: 0.2540, Accuracy: 89.46%\n",
      "Training accuracy = 0.8828280568122864\n",
      "Epoch 52/100, Loss: 0.2774, Accuracy: 88.28%\n",
      "Training accuracy = 0.8968687653541565\n",
      "Epoch 53/100, Loss: 0.2537, Accuracy: 89.69%\n",
      "Training accuracy = 0.9010934233665466\n",
      "Epoch 54/100, Loss: 0.2348, Accuracy: 90.11%\n",
      "Training accuracy = 0.9027087688446045\n",
      "Epoch 55/100, Loss: 0.2410, Accuracy: 90.27%\n",
      "Training accuracy = 0.8963717818260193\n",
      "Epoch 56/100, Loss: 0.2377, Accuracy: 89.64%\n",
      "Training accuracy = 0.9051938652992249\n",
      "Epoch 57/100, Loss: 0.2257, Accuracy: 90.52%\n",
      "Training accuracy = 0.9099155068397522\n",
      "Epoch 58/100, Loss: 0.2234, Accuracy: 90.99%\n",
      "Training accuracy = 0.906312108039856\n",
      "Epoch 59/100, Loss: 0.2244, Accuracy: 90.63%\n",
      "Training accuracy = 0.8981113433837891\n",
      "Epoch 60/100, Loss: 0.2427, Accuracy: 89.81%\n",
      "Training accuracy = 0.9079274535179138\n",
      "Epoch 61/100, Loss: 0.2170, Accuracy: 90.79%\n",
      "Training accuracy = 0.9153826832771301\n",
      "Epoch 62/100, Loss: 0.2097, Accuracy: 91.54%\n",
      "Training accuracy = 0.919234573841095\n",
      "Epoch 63/100, Loss: 0.1929, Accuracy: 91.92%\n",
      "Training accuracy = 0.9210984110832214\n",
      "Epoch 64/100, Loss: 0.1972, Accuracy: 92.11%\n",
      "Training accuracy = 0.913767397403717\n",
      "Epoch 65/100, Loss: 0.2149, Accuracy: 91.38%\n",
      "Training accuracy = 0.9172465205192566\n",
      "Epoch 66/100, Loss: 0.2172, Accuracy: 91.72%\n",
      "Training accuracy = 0.9244532585144043\n",
      "Epoch 67/100, Loss: 0.1880, Accuracy: 92.45%\n",
      "Training accuracy = 0.9187375903129578\n",
      "Epoch 68/100, Loss: 0.2027, Accuracy: 91.87%\n",
      "Training accuracy = 0.9177435636520386\n",
      "Epoch 69/100, Loss: 0.1935, Accuracy: 91.77%\n",
      "Training accuracy = 0.9230864644050598\n",
      "Epoch 70/100, Loss: 0.1878, Accuracy: 92.31%\n",
      "Training accuracy = 0.9365059733390808\n",
      "Epoch 71/100, Loss: 0.1583, Accuracy: 93.65%\n",
      "Training accuracy = 0.9363816976547241\n",
      "Epoch 72/100, Loss: 0.1621, Accuracy: 93.64%\n",
      "Training accuracy = 0.9394880533218384\n",
      "Epoch 73/100, Loss: 0.1583, Accuracy: 93.95%\n",
      "Training accuracy = 0.9327783584594727\n",
      "Epoch 74/100, Loss: 0.1682, Accuracy: 93.28%\n",
      "Training accuracy = 0.9345179200172424\n",
      "Epoch 75/100, Loss: 0.1569, Accuracy: 93.45%\n",
      "Training accuracy = 0.9368787407875061\n",
      "Epoch 76/100, Loss: 0.1572, Accuracy: 93.69%\n",
      "Training accuracy = 0.9396123290061951\n",
      "Epoch 77/100, Loss: 0.1641, Accuracy: 93.96%\n",
      "Training accuracy = 0.9391152858734131\n",
      "Epoch 78/100, Loss: 0.1542, Accuracy: 93.91%\n",
      "Training accuracy = 0.9366301894187927\n",
      "Epoch 79/100, Loss: 0.1605, Accuracy: 93.66%\n",
      "Training accuracy = 0.9433399438858032\n",
      "Epoch 80/100, Loss: 0.1392, Accuracy: 94.33%\n",
      "Training accuracy = 0.9452037811279297\n",
      "Epoch 81/100, Loss: 0.1423, Accuracy: 94.52%\n",
      "Training accuracy = 0.9432157278060913\n",
      "Epoch 82/100, Loss: 0.1378, Accuracy: 94.32%\n",
      "Training accuracy = 0.9416003823280334\n",
      "Epoch 83/100, Loss: 0.1464, Accuracy: 94.16%\n",
      "Training accuracy = 0.9473161101341248\n",
      "Epoch 84/100, Loss: 0.1312, Accuracy: 94.73%\n",
      "Training accuracy = 0.9458250403404236\n",
      "Epoch 85/100, Loss: 0.1427, Accuracy: 94.58%\n",
      "Training accuracy = 0.9434642195701599\n",
      "Epoch 86/100, Loss: 0.1457, Accuracy: 94.35%\n",
      "Training accuracy = 0.9435884952545166\n",
      "Epoch 87/100, Loss: 0.1400, Accuracy: 94.36%\n",
      "Training accuracy = 0.9474403858184814\n",
      "Epoch 88/100, Loss: 0.1298, Accuracy: 94.74%\n",
      "Training accuracy = 0.9514164924621582\n",
      "Epoch 89/100, Loss: 0.1278, Accuracy: 95.14%\n",
      "Training accuracy = 0.9409791231155396\n",
      "Epoch 90/100, Loss: 0.1496, Accuracy: 94.10%\n",
      "Training accuracy = 0.9398608207702637\n",
      "Epoch 91/100, Loss: 0.1517, Accuracy: 93.99%\n",
      "Training accuracy = 0.9530318379402161\n",
      "Epoch 92/100, Loss: 0.1264, Accuracy: 95.30%\n",
      "Training accuracy = 0.9440854787826538\n",
      "Epoch 93/100, Loss: 0.1465, Accuracy: 94.41%\n",
      "Training accuracy = 0.9396123290061951\n",
      "Epoch 94/100, Loss: 0.1526, Accuracy: 93.96%\n",
      "Training accuracy = 0.9464462995529175\n",
      "Epoch 95/100, Loss: 0.1380, Accuracy: 94.64%\n",
      "Training accuracy = 0.9500496983528137\n",
      "Epoch 96/100, Loss: 0.1268, Accuracy: 95.00%\n",
      "Training accuracy = 0.9484344124794006\n",
      "Epoch 97/100, Loss: 0.1321, Accuracy: 94.84%\n",
      "Training accuracy = 0.9532803297042847\n",
      "Epoch 98/100, Loss: 0.1185, Accuracy: 95.33%\n",
      "Training accuracy = 0.9558896422386169\n",
      "Epoch 99/100, Loss: 0.1156, Accuracy: 95.59%\n",
      "Training accuracy = 0.9535288214683533\n",
      "Epoch 100/100, Loss: 0.1232, Accuracy: 95.35%\n"
     ]
    }
   ],
   "source": [
    "#%% Train\n",
    "step = 0\n",
    "for epoch in range(num_epochs):\n",
    "    accuracy_metric.reset()\n",
    "    running_loss = 0.0\n",
    "    correct = 0\n",
    "    total = 0\n",
    "    \n",
    "    for inputs, labels in train_loader:\n",
    "        net.train()\n",
    "\n",
    "        # Put data on GPU \n",
    "        inputs = inputs.to(device)\n",
    "        labels = labels.to(device)\n",
    "\n",
    "        optimizer.zero_grad()\n",
    "\n",
    "        # Compute loss and take gradient step\n",
    "        outputs = net(inputs)\n",
    "        loss = loss_function(outputs, labels)\n",
    "\n",
    "        loss.backward()\n",
    "        optimizer.step()\n",
    "\n",
    "        predicted = torch.argmax(outputs, dim=1)\n",
    "\n",
    "        # Update accuracy metric\n",
    "        accuracy_metric.update(predicted, labels)\n",
    "\n",
    "        running_loss += loss.item()\n",
    "        correct += (predicted == labels).sum().item()\n",
    "        total += labels.size(0)\n",
    "\n",
    "    # Print accuracy for epoch            \n",
    "    acc = accuracy_metric.compute()\n",
    "    print(f'Training accuracy = {acc}')\n",
    "\n",
    "    epoch_loss = running_loss / len(train_loader)\n",
    "    epoch_accuracy = 100 * correct / total\n",
    "    print(f\"Epoch {epoch+1}/{num_epochs}, Loss: {epoch_loss:.4f}, Accuracy: {epoch_accuracy:.2f}%\")"
   ]
  },
  {
   "cell_type": "code",
   "execution_count": 124,
   "metadata": {},
   "outputs": [],
   "source": [
    "# %% Save the trained model\n",
    "# torch.save(net.state_dict(), 'netV5.pt')"
   ]
  },
  {
   "cell_type": "markdown",
   "metadata": {},
   "source": [
    "# Test"
   ]
  },
  {
   "cell_type": "code",
   "execution_count": 200,
   "metadata": {},
   "outputs": [
    {
     "name": "stdout",
     "output_type": "stream",
     "text": [
      "Test Accuracy: 71.60%\n"
     ]
    }
   ],
   "source": [
    "# Evaluate the model\n",
    "net.eval()\n",
    "correct = 0\n",
    "total = 0\n",
    "\n",
    "with torch.no_grad():\n",
    "    for inputs, labels in test_loader:\n",
    "        # Put data on GPU \n",
    "        inputs = inputs.to(device)\n",
    "        labels = labels.to(device).float()\n",
    "        \n",
    "        # Forward pass\n",
    "        outputs = net(inputs)\n",
    "        \n",
    "        predicted = torch.argmax(outputs, dim=1)\n",
    "        \n",
    "        # Count correct predictions\n",
    "        correct += (predicted == labels).sum().item()\n",
    "        total += labels.size(0)\n",
    "\n",
    "test_accuracy = 100 * correct / total\n",
    "print(f\"Test Accuracy: {test_accuracy:.2f}%\")\n"
   ]
  },
  {
   "cell_type": "code",
   "execution_count": null,
   "metadata": {},
   "outputs": [],
   "source": []
  }
 ],
 "metadata": {
  "kernelspec": {
   "display_name": "IntelligentSystems",
   "language": "python",
   "name": "python3"
  },
  "language_info": {
   "codemirror_mode": {
    "name": "ipython",
    "version": 3
   },
   "file_extension": ".py",
   "mimetype": "text/x-python",
   "name": "python",
   "nbconvert_exporter": "python",
   "pygments_lexer": "ipython3",
   "version": "3.12.5"
  }
 },
 "nbformat": 4,
 "nbformat_minor": 2
}
