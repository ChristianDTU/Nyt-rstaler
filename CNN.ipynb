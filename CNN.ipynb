{
 "cells": [
  {
   "cell_type": "code",
   "execution_count": 2,
   "metadata": {},
   "outputs": [],
   "source": [
    "import re\n",
    "import os\n",
    "import numpy as np\n",
    "import pandas as pd\n",
    "import nltk\n",
    "from nltk.tokenize import word_tokenize\n",
    "from numpy import genfromtxt\n",
    "\n",
    "#%% Import libraries\n",
    "import torch\n",
    "import torchmetrics\n",
    "from torch.utils.data import DataLoader, TensorDataset\n",
    "import os\n",
    "from glob import glob\n",
    "from sklearn.model_selection import train_test_split"
   ]
  },
  {
   "cell_type": "markdown",
   "metadata": {},
   "source": [
    "# Load training and test dataframes & TF-IDF matrices"
   ]
  },
  {
   "cell_type": "code",
   "execution_count": 3,
   "metadata": {},
   "outputs": [],
   "source": [
    "# Load sentences and labels\n",
    "train = pd.read_csv('train_dataframe.csv')\n",
    "test = pd.read_csv('test_dataframe.csv')"
   ]
  },
  {
   "cell_type": "code",
   "execution_count": 4,
   "metadata": {},
   "outputs": [],
   "source": [
    "train_labels = train[\"Labels\"].tolist()\n",
    "\n",
    "test_labels = test[\"Labels\"].tolist()"
   ]
  },
  {
   "cell_type": "code",
   "execution_count": 30,
   "metadata": {},
   "outputs": [
    {
     "name": "stderr",
     "output_type": "stream",
     "text": [
      "<>:1: SyntaxWarning: invalid escape sequence '\\D'\n",
      "<>:2: SyntaxWarning: invalid escape sequence '\\D'\n",
      "<>:1: SyntaxWarning: invalid escape sequence '\\D'\n",
      "<>:2: SyntaxWarning: invalid escape sequence '\\D'\n",
      "C:\\Users\\Bruger\\AppData\\Local\\Temp\\ipykernel_2992\\1584186080.py:1: SyntaxWarning: invalid escape sequence '\\D'\n",
      "  train_tf_idf = pd.read_csv('DTTFIDFM_data_unzipped\\DTTFIDFM_train.csv')\n",
      "C:\\Users\\Bruger\\AppData\\Local\\Temp\\ipykernel_2992\\1584186080.py:2: SyntaxWarning: invalid escape sequence '\\D'\n",
      "  test_tf_idf = pd.read_csv('DTTFIDFM_data_unzipped\\DTTFIDFM_test.csv')\n"
     ]
    }
   ],
   "source": [
    "train_tf_idf = pd.read_csv('DTTFIDFM_data_unzipped\\DTTFIDFM_train.csv')\n",
    "test_tf_idf = pd.read_csv('DTTFIDFM_data_unzipped\\DTTFIDFM_test.csv')\n",
    "\n",
    "train_tf_idf = train_tf_idf.drop('Unnamed: 0', axis=1)\n",
    "test_tf_idf = test_tf_idf.drop('Unnamed: 0', axis=1)"
   ]
  },
  {
   "cell_type": "code",
   "execution_count": 33,
   "metadata": {},
   "outputs": [],
   "source": [
    "train_tf_idf_numpy = train_tf_idf.to_numpy()\n",
    "test_tf_idf_numpy = test_tf_idf.to_numpy()"
   ]
  },
  {
   "cell_type": "code",
   "execution_count": 9,
   "metadata": {},
   "outputs": [],
   "source": [
    "# train_tf_idf_numpy"
   ]
  },
  {
   "cell_type": "code",
   "execution_count": 43,
   "metadata": {},
   "outputs": [
    {
     "data": {
      "text/plain": [
       "((8048, 24653), (2683, 24654))"
      ]
     },
     "execution_count": 43,
     "metadata": {},
     "output_type": "execute_result"
    }
   ],
   "source": [
    "train_tf_idf_numpy.shape,test_tf_idf_numpy.shape"
   ]
  },
  {
   "cell_type": "markdown",
   "metadata": {},
   "source": [
    "# CNN"
   ]
  },
  {
   "cell_type": "markdown",
   "metadata": {},
   "source": [
    "## Load SVD-matrix:"
   ]
  },
  {
   "cell_type": "code",
   "execution_count": 56,
   "metadata": {},
   "outputs": [],
   "source": [
    "# Load SVD-matrix from csv-file\n",
    "V_200 = genfromtxt('V200.csv', delimiter=',')"
   ]
  },
  {
   "cell_type": "code",
   "execution_count": 57,
   "metadata": {},
   "outputs": [
    {
     "data": {
      "text/plain": [
       "array([[-1.01522614e-01,  1.11495275e-01, -1.94767568e-01, ...,\n",
       "         1.68914466e-02, -1.59969860e-02, -4.14657793e-02],\n",
       "       [-8.21504456e-02,  5.38646152e-02, -5.83989941e-03, ...,\n",
       "        -6.59796006e-03, -5.48038621e-03,  3.82854767e-02],\n",
       "       [-9.73437764e-04,  7.31839751e-04, -1.98419009e-04, ...,\n",
       "        -4.65777427e-04,  7.10243628e-04,  7.45946970e-04],\n",
       "       ...,\n",
       "       [-6.25781132e-04,  4.19897409e-04,  4.62287900e-05, ...,\n",
       "         1.21027324e-04,  6.06961375e-06,  7.62899044e-04],\n",
       "       [-5.13986347e-04,  4.40283044e-05,  2.03693542e-04, ...,\n",
       "        -1.50341156e-04,  7.16554560e-05,  6.35583134e-04],\n",
       "       [ 0.00000000e+00,  0.00000000e+00,  0.00000000e+00, ...,\n",
       "         0.00000000e+00,  0.00000000e+00,  0.00000000e+00]])"
      ]
     },
     "execution_count": 57,
     "metadata": {},
     "output_type": "execute_result"
    }
   ],
   "source": [
    "V_200"
   ]
  },
  {
   "cell_type": "code",
   "execution_count": 58,
   "metadata": {},
   "outputs": [
    {
     "data": {
      "text/plain": [
       "(24653, 200)"
      ]
     },
     "execution_count": 58,
     "metadata": {},
     "output_type": "execute_result"
    }
   ],
   "source": [
    "V_200.shape"
   ]
  },
  {
   "cell_type": "code",
   "execution_count": 59,
   "metadata": {},
   "outputs": [
    {
     "data": {
      "text/plain": [
       "numpy.ndarray"
      ]
     },
     "execution_count": 59,
     "metadata": {},
     "output_type": "execute_result"
    }
   ],
   "source": [
    "type(V_200)"
   ]
  },
  {
   "cell_type": "markdown",
   "metadata": {},
   "source": [
    "## Sentence LSA embedding"
   ]
  },
  {
   "cell_type": "code",
   "execution_count": 60,
   "metadata": {},
   "outputs": [],
   "source": [
    "def sentence_LSA_embedding(TF_IDF_matrix_numpy, V_k):\n",
    "    liste_LSA_vektorer = []\n",
    "    for i in range(TF_IDF_matrix_numpy.shape[0]):\n",
    "        lsa_vector = np.dot(TF_IDF_matrix_numpy[i], V_k)\n",
    "        liste_LSA_vektorer.append(lsa_vector)\n",
    "    return np.array(liste_LSA_vektorer)\n"
   ]
  },
  {
   "cell_type": "code",
   "execution_count": null,
   "metadata": {},
   "outputs": [],
   "source": [
    "train_lsa = sentence_LSA_embedding(train_tf_idf_numpy, V_200)\n",
    "test_lsa = sentence_LSA_embedding(test_tf_idf_numpy, V_200)"
   ]
  },
  {
   "cell_type": "markdown",
   "metadata": {},
   "source": [
    "## Make tensors"
   ]
  },
  {
   "cell_type": "code",
   "execution_count": 139,
   "metadata": {},
   "outputs": [],
   "source": [
    "# Convert inputs\n",
    "train_input_tensor = torch.tensor(train_lsa, dtype=torch.float32)  # Shape: (num_train_sentences, 200)\n",
    "test_input_tensor = torch.tensor(test_lsa, dtype=torch.float32)    # Shape: (num_test_sentences, 200)\n",
    "\n",
    "# Convert labels\n",
    "train_labels_tensor = torch.tensor(train_labels, dtype=torch.long)  # Shape: (num_train_sentences,)\n",
    "test_labels_tensor = torch.tensor(test_labels, dtype=torch.long)    # Shape: (num_test_sentences,)"
   ]
  },
  {
   "cell_type": "code",
   "execution_count": 151,
   "metadata": {},
   "outputs": [],
   "source": [
    "# Reshape the tensors for CNN input (adding the channel dimension)\n",
    "train_input_tensor = train_input_tensor.unsqueeze(1)  # Shape: (num_train_sentences, 1, 200)\n",
    "test_input_tensor = test_input_tensor.unsqueeze(1)    # Shape: (num_test_sentences, 1, 200)"
   ]
  },
  {
   "cell_type": "code",
   "execution_count": 154,
   "metadata": {},
   "outputs": [
    {
     "data": {
      "text/plain": [
       "(torch.Size([8584, 1, 200]), torch.Size([2147, 1, 200]))"
      ]
     },
     "execution_count": 154,
     "metadata": {},
     "output_type": "execute_result"
    }
   ],
   "source": [
    "train_input_tensor.shape, test_input_tensor.shape"
   ]
  },
  {
   "cell_type": "code",
   "execution_count": 172,
   "metadata": {},
   "outputs": [],
   "source": [
    "batch_size = 256\n",
    "# Create datasets\n",
    "train_dataset = TensorDataset(train_input_tensor, train_labels_tensor)\n",
    "test_dataset = TensorDataset(test_input_tensor, test_labels_tensor)\n",
    "\n",
    "# Create dataloaders\n",
    "train_loader = DataLoader(train_dataset, batch_size=batch_size, shuffle=True)  # Shuffle training data\n",
    "test_loader = DataLoader(test_dataset, batch_size=batch_size, shuffle=False)   # No shuffle for testing"
   ]
  },
  {
   "cell_type": "markdown",
   "metadata": {},
   "source": [
    "## Build the CNN"
   ]
  },
  {
   "cell_type": "code",
   "execution_count": 137,
   "metadata": {},
   "outputs": [],
   "source": [
    "num_epochs = 100 \n",
    "learning_rate = 0.01\n",
    "weight_decay = 0."
   ]
  },
  {
   "cell_type": "code",
   "execution_count": 156,
   "metadata": {},
   "outputs": [],
   "source": [
    "#%% Device\n",
    "# Run on GPU if available\n",
    "device = \"cuda\" if torch.cuda.is_available() else \"cpu\""
   ]
  },
  {
   "cell_type": "code",
   "execution_count": 185,
   "metadata": {},
   "outputs": [],
   "source": [
    " #%% Neural network\n",
    "net = torch.nn.Sequential(\n",
    "    torch.nn.Conv1d(1, 16, kernel_size=3), # 200 - 3 + 1 = 198 \n",
    "    torch.nn.ReLU(),\n",
    "    torch.nn.Dropout(p=0.2),\n",
    "    torch.nn.MaxPool1d(kernel_size=2),     # 198 // 2 = 99\n",
    "\n",
    "    torch.nn.Conv1d(16, 16, kernel_size=3),  # 99 - 3 + 1 = 97\n",
    "    torch.nn.ReLU(),\n",
    "    torch.nn.Dropout(p=0.2),\n",
    "    torch.nn.MaxPool1d(kernel_size=2),     # 97 // 2 = 48\n",
    "\n",
    "    torch.nn.Flatten(),                    \n",
    "    torch.nn.Linear(16*48, 254),\n",
    "    torch.nn.ReLU(),\n",
    "    torch.nn.Linear(254, 2), # Output 2 logits (for two classes: 0 or 1)\n",
    "            \n",
    ").to(device)"
   ]
  },
  {
   "cell_type": "code",
   "execution_count": null,
   "metadata": {},
   "outputs": [],
   "source": [
    "# %% Load trained network from file\n",
    "# net.load_state_dict(torch.load('net.pt'))"
   ]
  },
  {
   "cell_type": "code",
   "execution_count": 182,
   "metadata": {},
   "outputs": [],
   "source": [
    "#%% Loss and optimizer\n",
    "loss_function = torch.nn.CrossEntropyLoss()\n",
    "optimizer = torch.optim.Adam(net.parameters(), lr=learning_rate, weight_decay=weight_decay)"
   ]
  },
  {
   "cell_type": "code",
   "execution_count": 183,
   "metadata": {},
   "outputs": [],
   "source": [
    "#%% Metrics\n",
    "accuracy_metric = torchmetrics.classification.BinaryAccuracy().to(device)"
   ]
  },
  {
   "cell_type": "markdown",
   "metadata": {},
   "source": [
    "## Train"
   ]
  },
  {
   "cell_type": "code",
   "execution_count": null,
   "metadata": {},
   "outputs": [
    {
     "name": "stdout",
     "output_type": "stream",
     "text": [
      "Training accuracy = 0.5031453967094421\n",
      "Training accuracy = 0.49743708968162537\n",
      "Training accuracy = 0.48858341574668884\n",
      "Training accuracy = 0.49580615758895874\n",
      "Training accuracy = 0.5010484457015991\n",
      "Training accuracy = 0.4939422309398651\n"
     ]
    }
   ],
   "source": [
    "#%% Train\n",
    "step = 0\n",
    "for epoch in range(num_epochs):\n",
    "    accuracy_metric.reset()\n",
    "    running_loss = 0.0\n",
    "    correct = 0\n",
    "    total = 0\n",
    "    \n",
    "    for inputs, labels in train_loader:\n",
    "        net.train()\n",
    "\n",
    "        # Put data on GPU \n",
    "        inputs = inputs.to(device)\n",
    "        labels = labels.to(device).float()\n",
    "\n",
    "        optimizer.zero_grad()\n",
    "\n",
    "        # Compute loss and take gradient step\n",
    "        outputs = net(inputs)\n",
    "        loss = loss_function(outputs, labels)\n",
    "\n",
    "        \n",
    "        loss.backward()\n",
    "        optimizer.step()\n",
    "\n",
    "        # Update accuracy metric\n",
    "        accuracy_metric.update(outputs, labels)\n",
    "\n",
    "        running_loss += loss.item()\n",
    "        predicted = torch.argmax(outputs, dim=1)  # Get the class with the highest score (0 or 1)\n",
    "        correct += (predicted == labels).sum().item()\n",
    "        total += labels.size(0)\n",
    "\n",
    "    # Print accuracy for epoch            \n",
    "    acc = accuracy_metric.compute()\n",
    "    print(f'Training accuracy = {acc}')\n",
    "\n",
    "    epoch_loss = running_loss / len(train_loader)\n",
    "    epoch_accuracy = 100 * correct / total\n",
    "    print(f\"Epoch {epoch+1}/{num_epochs}, Loss: {epoch_loss:.4f}, Accuracy: {epoch_accuracy:.2f}%\")"
   ]
  },
  {
   "cell_type": "code",
   "execution_count": null,
   "metadata": {},
   "outputs": [],
   "source": [
    "# %% Save the trained model\n",
    "# torch.save(net.state_dict(), 'net.pt')"
   ]
  },
  {
   "cell_type": "markdown",
   "metadata": {},
   "source": [
    "# Test"
   ]
  },
  {
   "cell_type": "code",
   "execution_count": null,
   "metadata": {},
   "outputs": [],
   "source": [
    "# Evaluate the model\n",
    "net.eval()\n",
    "correct = 0\n",
    "total = 0\n",
    "\n",
    "with torch.no_grad():\n",
    "    for inputs, labels in test_loader:\n",
    "        # Put data on GPU \n",
    "        inputs = inputs.to(device)\n",
    "        labels = labels.to(device).float()\n",
    "        \n",
    "        # Forward pass\n",
    "        outputs = net(inputs)\n",
    "        \n",
    "        # Get predictions\n",
    "        predicted = (torch.sigmoid(outputs) > 0.5).float()\n",
    "        \n",
    "        # Count correct predictions\n",
    "        correct += (predicted == labels).sum().item()\n",
    "        total += labels.size(0)\n",
    "\n",
    "test_accuracy = 100 * correct / total\n",
    "print(f\"Test Accuracy: {test_accuracy:.2f}%\")\n"
   ]
  }
 ],
 "metadata": {
  "kernelspec": {
   "display_name": "IntelligentSystems",
   "language": "python",
   "name": "python3"
  },
  "language_info": {
   "codemirror_mode": {
    "name": "ipython",
    "version": 3
   },
   "file_extension": ".py",
   "mimetype": "text/x-python",
   "name": "python",
   "nbconvert_exporter": "python",
   "pygments_lexer": "ipython3",
   "version": "3.12.5"
  }
 },
 "nbformat": 4,
 "nbformat_minor": 2
}
