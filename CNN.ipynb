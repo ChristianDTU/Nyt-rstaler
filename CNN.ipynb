{
 "cells": [
  {
   "cell_type": "code",
   "execution_count": 1,
   "metadata": {},
   "outputs": [],
   "source": [
    "import re\n",
    "import os\n",
    "import numpy as np\n",
    "import pandas as np\n",
    "import nltk\n",
    "from nltk.tokenize import word_tokenize\n",
    "from numpy import genfromtxt\n",
    "\n",
    "#%% Import libraries\n",
    "import torch\n",
    "import torchmetrics\n",
    "from torch.utils.data import DataLoader, TensorDataset\n",
    "import os\n",
    "from glob import glob\n",
    "from sklearn.model_selection import train_test_split"
   ]
  },
  {
   "cell_type": "markdown",
   "metadata": {},
   "source": [
    "# Load training and test dataframes"
   ]
  },
  {
   "cell_type": "code",
   "execution_count": null,
   "metadata": {},
   "outputs": [],
   "source": [
    "# Load sentences and labels\n",
    "train = pd.read_csv('train_dataframe.csv')\n",
    "test = pd.read_csv('test_dataframe.csv')"
   ]
  },
  {
   "cell_type": "code",
   "execution_count": null,
   "metadata": {},
   "outputs": [],
   "source": [
    "train_sentences = train['Sentences'].tolist()\n",
    "train_labels = train[\"Labels\"].tolist()\n",
    "\n",
    "test_sentences = test['Sentences'].tolist()\n",
    "test_labels = test[\"Labels\"].tolist()"
   ]
  },
  {
   "cell_type": "markdown",
   "metadata": {},
   "source": [
    "## SVD (Singular Value decompostion)"
   ]
  },
  {
   "cell_type": "markdown",
   "metadata": {},
   "source": [
    "# CNN"
   ]
  },
  {
   "cell_type": "markdown",
   "metadata": {},
   "source": [
    "## Load data:"
   ]
  },
  {
   "cell_type": "code",
   "execution_count": 137,
   "metadata": {},
   "outputs": [],
   "source": [
    "batch_size = 256\n",
    "num_epochs = 100 \n",
    "learning_rate = 0.01\n",
    "weight_decay = 0."
   ]
  },
  {
   "cell_type": "code",
   "execution_count": 118,
   "metadata": {},
   "outputs": [],
   "source": [
    "# Load SVD-matrix from csv-file\n",
    "A_k = genfromtxt('SVD.csv', delimiter=',')"
   ]
  },
  {
   "cell_type": "code",
   "execution_count": 148,
   "metadata": {},
   "outputs": [
    {
     "data": {
      "text/plain": [
       "array([[-6.16473675e+00, -4.02082074e-01, -1.52501388e-01, ...,\n",
       "        -4.01377674e-02, -9.24744540e-03,  2.00122848e-02],\n",
       "       [-4.61413986e+00, -3.23343196e-01,  8.82422583e-03, ...,\n",
       "         4.69880154e-03,  1.84452465e-02, -1.13838840e-02],\n",
       "       [-5.46674470e+00, -2.37277261e-01,  4.61381935e-01, ...,\n",
       "         2.01689315e-02,  3.47052724e-02, -1.68292466e-02],\n",
       "       ...,\n",
       "       [-5.39011312e+00, -1.48593809e+00,  1.13009978e+00, ...,\n",
       "        -2.06424785e-02,  6.46485565e-02, -1.12069831e-01],\n",
       "       [-7.26047414e+00,  1.32972128e+00, -1.20220301e+00, ...,\n",
       "        -1.34227097e-01,  1.34009804e-01, -5.79210589e-02],\n",
       "       [-5.64561839e+00, -2.04792378e+00,  7.58238299e-01, ...,\n",
       "        -2.92956351e-03,  5.25144745e-02,  3.60375463e-02]])"
      ]
     },
     "execution_count": 148,
     "metadata": {},
     "output_type": "execute_result"
    }
   ],
   "source": [
    "A_k"
   ]
  },
  {
   "cell_type": "code",
   "execution_count": 149,
   "metadata": {},
   "outputs": [
    {
     "data": {
      "text/plain": [
       "(10731, 200)"
      ]
     },
     "execution_count": 149,
     "metadata": {},
     "output_type": "execute_result"
    }
   ],
   "source": [
    "A_k.shape"
   ]
  },
  {
   "cell_type": "code",
   "execution_count": 138,
   "metadata": {},
   "outputs": [],
   "source": [
    "# Split SVD-matrix (A_k) into training- and test data:\n",
    "train_input, test_input, train_labels, test_labels = train_test_split(\n",
    "    A_k,             # The SVD-reduced matrix\n",
    "    labels_list,    # The labels\n",
    "    test_size=0.2,   # Percentage of data to use for testing (e.g., 20%)\n",
    "    random_state=42, # For reproducibility\n",
    ")"
   ]
  },
  {
   "cell_type": "code",
   "execution_count": 139,
   "metadata": {},
   "outputs": [],
   "source": [
    "# Convert inputs\n",
    "train_input_tensor = torch.tensor(train_input, dtype=torch.float32)  # Shape: (num_train_sentences, 200)\n",
    "test_input_tensor = torch.tensor(test_input, dtype=torch.float32)    # Shape: (num_test_sentences, 200)\n",
    "\n",
    "# Convert labels\n",
    "train_labels_tensor = torch.tensor(train_labels, dtype=torch.long)  # Shape: (num_train_sentences,)\n",
    "test_labels_tensor = torch.tensor(test_labels, dtype=torch.long)    # Shape: (num_test_sentences,)"
   ]
  },
  {
   "cell_type": "code",
   "execution_count": 151,
   "metadata": {},
   "outputs": [],
   "source": [
    "# Reshape the tensors for CNN input (adding the channel dimension)\n",
    "train_input_tensor = train_input_tensor.unsqueeze(1)  # Shape: (num_train_sentences, 1, 200)\n",
    "test_input_tensor = test_input_tensor.unsqueeze(1)    # Shape: (num_test_sentences, 1, 200)"
   ]
  },
  {
   "cell_type": "code",
   "execution_count": 154,
   "metadata": {},
   "outputs": [
    {
     "data": {
      "text/plain": [
       "(torch.Size([8584, 1, 200]), torch.Size([2147, 1, 200]))"
      ]
     },
     "execution_count": 154,
     "metadata": {},
     "output_type": "execute_result"
    }
   ],
   "source": [
    "train_input_tensor.shape, test_input_tensor.shape"
   ]
  },
  {
   "cell_type": "code",
   "execution_count": 172,
   "metadata": {},
   "outputs": [],
   "source": [
    "# Create datasets\n",
    "train_dataset = TensorDataset(train_input_tensor, train_labels_tensor)\n",
    "test_dataset = TensorDataset(test_input_tensor, test_labels_tensor)\n",
    "\n",
    "# Create dataloaders\n",
    "train_loader = DataLoader(train_dataset, batch_size=batch_size, shuffle=True)  # Shuffle training data\n",
    "test_loader = DataLoader(test_dataset, batch_size=batch_size, shuffle=False)   # No shuffle for testing"
   ]
  },
  {
   "cell_type": "markdown",
   "metadata": {},
   "source": [
    "## Build the CNN"
   ]
  },
  {
   "cell_type": "code",
   "execution_count": 156,
   "metadata": {},
   "outputs": [],
   "source": [
    "#%% Device\n",
    "# Run on GPU if available\n",
    "device = \"cuda\" if torch.cuda.is_available() else \"cpu\""
   ]
  },
  {
   "cell_type": "code",
   "execution_count": 185,
   "metadata": {},
   "outputs": [],
   "source": [
    " #%% Neural network\n",
    "net = torch.nn.Sequential(\n",
    "    torch.nn.Conv1d(1, 16, kernel_size=3), # 200 - 3 + 1 = 198 \n",
    "    torch.nn.ReLU(),\n",
    "    torch.nn.Dropout(p=0.2),\n",
    "    torch.nn.MaxPool1d(kernel_size=2),     # 198 // 2 = 99\n",
    "\n",
    "    torch.nn.Conv1d(16, 16, kernel_size=3),  # 99 - 3 + 1 = 97\n",
    "    torch.nn.ReLU(),\n",
    "    torch.nn.Dropout(p=0.2),\n",
    "    torch.nn.MaxPool1d(kernel_size=2),     # 97 // 2 = 48\n",
    "\n",
    "    torch.nn.Flatten(),                    \n",
    "    torch.nn.Linear(16*48, 254),\n",
    "    torch.nn.ReLU(),\n",
    "    torch.nn.Linear(254, 1),\n",
    "    torch.nn.Sigmoid()       # Sigmoid activation for binary classification\n",
    "            \n",
    "\n",
    ").to(device)"
   ]
  },
  {
   "cell_type": "code",
   "execution_count": null,
   "metadata": {},
   "outputs": [],
   "source": [
    "# %% Load trained network from file\n",
    "# net.load_state_dict(torch.load('net.pt'))"
   ]
  },
  {
   "cell_type": "code",
   "execution_count": 182,
   "metadata": {},
   "outputs": [],
   "source": [
    "#%% Loss and optimizer\n",
    "loss_function = torch.nn.CrossEntropyLoss()\n",
    "optimizer = torch.optim.Adam(net.parameters(), lr=learning_rate, weight_decay=weight_decay)"
   ]
  },
  {
   "cell_type": "code",
   "execution_count": 183,
   "metadata": {},
   "outputs": [],
   "source": [
    "#%% Metrics\n",
    "accuracy_metric = torchmetrics.classification.BinaryAccuracy().to(device)"
   ]
  },
  {
   "cell_type": "markdown",
   "metadata": {},
   "source": [
    "## Train"
   ]
  },
  {
   "cell_type": "code",
   "execution_count": null,
   "metadata": {},
   "outputs": [
    {
     "name": "stdout",
     "output_type": "stream",
     "text": [
      "Training accuracy = 0.5031453967094421\n",
      "Training accuracy = 0.49743708968162537\n",
      "Training accuracy = 0.48858341574668884\n",
      "Training accuracy = 0.49580615758895874\n",
      "Training accuracy = 0.5010484457015991\n",
      "Training accuracy = 0.4939422309398651\n"
     ]
    }
   ],
   "source": [
    "#%% Train\n",
    "step = 0\n",
    "for epoch in range(num_epochs):\n",
    "    accuracy_metric.reset()\n",
    "    for inputs, labels in train_loader:\n",
    "        step += 1\n",
    "\n",
    "        # Put data on GPU \n",
    "        inputs = inputs.to(device)\n",
    "        labels = labels.to(device).float()\n",
    "\n",
    "        # Compute loss and take gradient step\n",
    "        prediction = net(inputs)\n",
    "        prediction = prediction.squeeze(1)  # Shape: [batch_size]\n",
    "        loss = loss_function(prediction, labels)\n",
    "        optimizer.zero_grad()\n",
    "        \n",
    "        loss.backward()\n",
    "        optimizer.step()\n",
    "\n",
    "        # Update accuracy metric\n",
    "        accuracy_metric.update(prediction, labels)\n",
    "\n",
    "    # Print accuracy for epoch            \n",
    "    acc = accuracy_metric.compute()\n",
    "    print(f'Training accuracy = {acc}')"
   ]
  },
  {
   "cell_type": "code",
   "execution_count": null,
   "metadata": {},
   "outputs": [],
   "source": [
    "# %% Save the trained model\n",
    "# torch.save(net.state_dict(), 'net.pt')"
   ]
  }
 ],
 "metadata": {
  "kernelspec": {
   "display_name": "IntelligentSystems",
   "language": "python",
   "name": "python3"
  },
  "language_info": {
   "codemirror_mode": {
    "name": "ipython",
    "version": 3
   },
   "file_extension": ".py",
   "mimetype": "text/x-python",
   "name": "python",
   "nbconvert_exporter": "python",
   "pygments_lexer": "ipython3",
   "version": "3.12.5"
  }
 },
 "nbformat": 4,
 "nbformat_minor": 2
}
