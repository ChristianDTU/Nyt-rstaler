{
 "cells": [
  {
   "cell_type": "code",
   "execution_count": 34,
   "metadata": {},
   "outputs": [],
   "source": [
    "import re\n",
    "import os\n",
    "import numpy as np\n",
    "import pandas as pd\n",
    "import nltk\n",
    "from nltk.tokenize import word_tokenize\n",
    "from numpy import genfromtxt\n",
    "\n",
    "#%% Import libraries\n",
    "import torch\n",
    "import torchmetrics\n",
    "from torch.utils.data import DataLoader, TensorDataset\n",
    "import os\n",
    "from glob import glob\n",
    "from sklearn.model_selection import train_test_split\n",
    "import matplotlib.pylab as plt"
   ]
  },
  {
   "cell_type": "markdown",
   "metadata": {},
   "source": [
    "# Load training and test dataframes & TF-IDF matrices"
   ]
  },
  {
   "cell_type": "code",
   "execution_count": 6,
   "metadata": {},
   "outputs": [],
   "source": [
    "# Load sentences and labels\n",
    "train = pd.read_csv(r'Test_og_Train_df\\train_dataframe.csv')\n",
    "test = pd.read_csv(r'Test_og_Train_df\\test_dataframe.csv')"
   ]
  },
  {
   "cell_type": "code",
   "execution_count": 7,
   "metadata": {},
   "outputs": [],
   "source": [
    "train_labels = train[\"Labels\"].tolist()\n",
    "\n",
    "test_labels = test[\"Labels\"].tolist()"
   ]
  },
  {
   "cell_type": "code",
   "execution_count": 8,
   "metadata": {},
   "outputs": [],
   "source": [
    "train_tf_idf = pd.read_csv(r'DTTFIDFM_data\\DTTFIDFM_train.csv')\n",
    "test_tf_idf = pd.read_csv(r'DTTFIDFM_data\\DTTFIDFM_test.csv')\n",
    "\n",
    "train_tf_idf = train_tf_idf.drop('Unnamed: 0', axis=1)\n",
    "test_tf_idf = test_tf_idf.drop('Unnamed: 0', axis=1)"
   ]
  },
  {
   "cell_type": "code",
   "execution_count": 9,
   "metadata": {},
   "outputs": [],
   "source": [
    "train_tf_idf_numpy = train_tf_idf.to_numpy()\n",
    "test_tf_idf_numpy = test_tf_idf.to_numpy()"
   ]
  },
  {
   "cell_type": "code",
   "execution_count": 10,
   "metadata": {},
   "outputs": [],
   "source": [
    "# train_tf_idf_numpy"
   ]
  },
  {
   "cell_type": "code",
   "execution_count": 11,
   "metadata": {},
   "outputs": [
    {
     "data": {
      "text/plain": [
       "((8048, 24653), (2683, 24653))"
      ]
     },
     "execution_count": 11,
     "metadata": {},
     "output_type": "execute_result"
    }
   ],
   "source": [
    "train_tf_idf_numpy.shape,test_tf_idf_numpy.shape"
   ]
  },
  {
   "cell_type": "markdown",
   "metadata": {},
   "source": [
    "# CNN"
   ]
  },
  {
   "cell_type": "markdown",
   "metadata": {},
   "source": [
    "## Load SVD-matrix:"
   ]
  },
  {
   "cell_type": "code",
   "execution_count": 12,
   "metadata": {},
   "outputs": [],
   "source": [
    "# Load SVD-matrix from csv-file\n",
    "V_200 = genfromtxt('V200.csv', delimiter=',')"
   ]
  },
  {
   "cell_type": "code",
   "execution_count": 13,
   "metadata": {},
   "outputs": [
    {
     "data": {
      "text/plain": [
       "array([[-1.01522614e-01,  1.11495275e-01, -1.94767568e-01, ...,\n",
       "         1.68914466e-02, -1.59969860e-02, -4.14657793e-02],\n",
       "       [-8.21504456e-02,  5.38646152e-02, -5.83989941e-03, ...,\n",
       "        -6.59796006e-03, -5.48038621e-03,  3.82854767e-02],\n",
       "       [-9.73437764e-04,  7.31839751e-04, -1.98419009e-04, ...,\n",
       "        -4.65777427e-04,  7.10243628e-04,  7.45946970e-04],\n",
       "       ...,\n",
       "       [-6.25781132e-04,  4.19897409e-04,  4.62287900e-05, ...,\n",
       "         1.21027324e-04,  6.06961375e-06,  7.62899044e-04],\n",
       "       [-5.13986347e-04,  4.40283044e-05,  2.03693542e-04, ...,\n",
       "        -1.50341156e-04,  7.16554560e-05,  6.35583134e-04],\n",
       "       [ 0.00000000e+00,  0.00000000e+00,  0.00000000e+00, ...,\n",
       "         0.00000000e+00,  0.00000000e+00,  0.00000000e+00]])"
      ]
     },
     "execution_count": 13,
     "metadata": {},
     "output_type": "execute_result"
    }
   ],
   "source": [
    "V_200"
   ]
  },
  {
   "cell_type": "code",
   "execution_count": 14,
   "metadata": {},
   "outputs": [
    {
     "data": {
      "text/plain": [
       "(24653, 200)"
      ]
     },
     "execution_count": 14,
     "metadata": {},
     "output_type": "execute_result"
    }
   ],
   "source": [
    "V_200.shape"
   ]
  },
  {
   "cell_type": "code",
   "execution_count": 15,
   "metadata": {},
   "outputs": [
    {
     "data": {
      "text/plain": [
       "numpy.ndarray"
      ]
     },
     "execution_count": 15,
     "metadata": {},
     "output_type": "execute_result"
    }
   ],
   "source": [
    "type(V_200)"
   ]
  },
  {
   "cell_type": "markdown",
   "metadata": {},
   "source": [
    "## Sentence LSA embedding"
   ]
  },
  {
   "cell_type": "code",
   "execution_count": 16,
   "metadata": {},
   "outputs": [],
   "source": [
    "def sentence_LSA_embedding(TF_IDF_matrix_numpy, V_k):\n",
    "    liste_LSA_vektorer = []\n",
    "    for i in range(TF_IDF_matrix_numpy.shape[0]):\n",
    "        lsa_vector = np.dot(TF_IDF_matrix_numpy[i], V_k)\n",
    "        liste_LSA_vektorer.append(lsa_vector)\n",
    "    return np.array(liste_LSA_vektorer)\n"
   ]
  },
  {
   "cell_type": "code",
   "execution_count": 17,
   "metadata": {},
   "outputs": [],
   "source": [
    "train_lsa = sentence_LSA_embedding(train_tf_idf_numpy, V_200)\n",
    "test_lsa = sentence_LSA_embedding(test_tf_idf_numpy, V_200)"
   ]
  },
  {
   "cell_type": "markdown",
   "metadata": {},
   "source": [
    "## Make tensors"
   ]
  },
  {
   "cell_type": "code",
   "execution_count": 18,
   "metadata": {},
   "outputs": [],
   "source": [
    "# Convert inputs\n",
    "train_input_tensor = torch.tensor(train_lsa, dtype=torch.float32)  # Shape: (num_train_sentences, 200)\n",
    "test_input_tensor = torch.tensor(test_lsa, dtype=torch.float32)    # Shape: (num_test_sentences, 200)\n",
    "\n",
    "# Convert labels\n",
    "train_labels_tensor = torch.tensor(train_labels, dtype=torch.long)  # Shape: (num_train_sentences,)\n",
    "test_labels_tensor = torch.tensor(test_labels, dtype=torch.long)    # Shape: (num_test_sentences,)"
   ]
  },
  {
   "cell_type": "code",
   "execution_count": 19,
   "metadata": {},
   "outputs": [],
   "source": [
    "# Reshape the tensors for CNN input (adding the channel dimension)\n",
    "train_input_tensor = train_input_tensor.unsqueeze(1)  # Shape: (num_train_sentences, 1, 200)\n",
    "test_input_tensor = test_input_tensor.unsqueeze(1)    # Shape: (num_test_sentences, 1, 200)"
   ]
  },
  {
   "cell_type": "code",
   "execution_count": 20,
   "metadata": {},
   "outputs": [
    {
     "data": {
      "text/plain": [
       "(torch.Size([8048, 1, 200]), torch.Size([2683, 1, 200]))"
      ]
     },
     "execution_count": 20,
     "metadata": {},
     "output_type": "execute_result"
    }
   ],
   "source": [
    "train_input_tensor.shape, test_input_tensor.shape"
   ]
  },
  {
   "cell_type": "code",
   "execution_count": 91,
   "metadata": {},
   "outputs": [],
   "source": [
    "batch_size = 128\n",
    "# Create datasets\n",
    "train_dataset = TensorDataset(train_input_tensor, train_labels_tensor)\n",
    "test_dataset = TensorDataset(test_input_tensor, test_labels_tensor)\n",
    "\n",
    "# Create dataloaders\n",
    "train_loader = DataLoader(train_dataset, batch_size=batch_size, shuffle=True)  # Shuffle training data\n",
    "test_loader = DataLoader(test_dataset, batch_size=batch_size, shuffle=False)   # No shuffle for testing"
   ]
  },
  {
   "cell_type": "markdown",
   "metadata": {},
   "source": [
    "## Build the CNN"
   ]
  },
  {
   "cell_type": "code",
   "execution_count": 98,
   "metadata": {},
   "outputs": [],
   "source": [
    "num_epochs = 100\n",
    "learning_rate = 0.01\n",
    "weight_decay = 0."
   ]
  },
  {
   "cell_type": "code",
   "execution_count": 99,
   "metadata": {},
   "outputs": [],
   "source": [
    "#%% Device\n",
    "# Run on GPU if available\n",
    "device = \"cuda\" if torch.cuda.is_available() else \"cpu\""
   ]
  },
  {
   "cell_type": "code",
   "execution_count": 100,
   "metadata": {},
   "outputs": [],
   "source": [
    " #%% Neural network\n",
    "net = torch.nn.Sequential(\n",
    "    torch.nn.Conv1d(1, 16, kernel_size=3), # 200 - 3 + 1 = 198 \n",
    "    torch.nn.ReLU(),\n",
    "    torch.nn.Dropout(p=0.05),\n",
    "    torch.nn.MaxPool1d(kernel_size=2),     # 198 // 2 = 99\n",
    "\n",
    "    torch.nn.Conv1d(16, 16, kernel_size=3),  # 99 - 3 + 1 = 97\n",
    "    torch.nn.ReLU(),\n",
    "    torch.nn.Dropout(p=0.2),\n",
    "    torch.nn.MaxPool1d(kernel_size=2),     # 97 // 2 = 48\n",
    "    \n",
    "    torch.nn.Flatten(),                    \n",
    "    torch.nn.Linear(16*48, 254),\n",
    "    torch.nn.ReLU(),\n",
    "    torch.nn.Linear(254, 128), # Output 2 logits (for two classes: 0 or 1)\n",
    "    torch.nn.ReLU(),\n",
    "    torch.nn.Linear(128, 64),\n",
    "    torch.nn.ReLU(),\n",
    "    torch.nn.Linear(64, 16),\n",
    "    torch.nn.ReLU(),\n",
    "    torch.nn.Linear(16, 2)\n",
    ").to(device)"
   ]
  },
  {
   "cell_type": "code",
   "execution_count": 101,
   "metadata": {},
   "outputs": [],
   "source": [
    "#%% Loss and optimizer\n",
    "loss_function = torch.nn.CrossEntropyLoss()\n",
    "optimizer = torch.optim.Adam(net.parameters(), lr=learning_rate, weight_decay=weight_decay)"
   ]
  },
  {
   "cell_type": "code",
   "execution_count": 27,
   "metadata": {},
   "outputs": [],
   "source": [
    "# %% Load trained network from file\n",
    "# net.load_state_dict(torch.load('netV5.pt'))"
   ]
  },
  {
   "cell_type": "markdown",
   "metadata": {},
   "source": [
    "## Train"
   ]
  },
  {
   "cell_type": "code",
   "execution_count": 103,
   "metadata": {},
   "outputs": [
    {
     "name": "stdout",
     "output_type": "stream",
     "text": [
      "Epoch 1/100\n",
      "Training loss: 0.5800, Training accuracy: 69.04%\n",
      "Test loss: 0.5639, Test accuracy: 70.63%\n",
      "\n",
      "Epoch 2/100\n",
      "Training loss: 0.5819, Training accuracy: 69.21%\n",
      "Test loss: 0.5743, Test accuracy: 70.63%\n",
      "\n",
      "Epoch 3/100\n",
      "Training loss: 0.5511, Training accuracy: 70.50%\n",
      "Test loss: 0.5347, Test accuracy: 74.69%\n",
      "\n",
      "Epoch 4/100\n",
      "Training loss: 0.5231, Training accuracy: 74.28%\n",
      "Test loss: 0.5309, Test accuracy: 75.03%\n",
      "\n",
      "Epoch 5/100\n",
      "Training loss: 0.5082, Training accuracy: 75.20%\n",
      "Test loss: 0.5112, Test accuracy: 76.56%\n",
      "\n",
      "Epoch 6/100\n",
      "Training loss: 0.4981, Training accuracy: 75.86%\n",
      "Test loss: 0.5168, Test accuracy: 75.81%\n",
      "\n",
      "Epoch 7/100\n",
      "Training loss: 0.4876, Training accuracy: 75.94%\n",
      "Test loss: 0.5197, Test accuracy: 74.47%\n",
      "\n",
      "Epoch 8/100\n",
      "Training loss: 0.4797, Training accuracy: 76.42%\n",
      "Test loss: 0.5020, Test accuracy: 76.11%\n",
      "\n",
      "Epoch 9/100\n",
      "Training loss: 0.4651, Training accuracy: 77.86%\n",
      "Test loss: 0.5199, Test accuracy: 76.18%\n",
      "\n",
      "Epoch 10/100\n",
      "Training loss: 0.4622, Training accuracy: 77.96%\n",
      "Test loss: 0.5154, Test accuracy: 75.18%\n",
      "\n",
      "Epoch 11/100\n",
      "Training loss: 0.4538, Training accuracy: 78.73%\n",
      "Test loss: 0.4912, Test accuracy: 78.05%\n",
      "\n",
      "Epoch 12/100\n",
      "Training loss: 0.4335, Training accuracy: 79.49%\n",
      "Test loss: 0.5326, Test accuracy: 75.66%\n",
      "\n",
      "Epoch 13/100\n",
      "Training loss: 0.4308, Training accuracy: 79.51%\n",
      "Test loss: 0.5121, Test accuracy: 75.77%\n",
      "\n",
      "Epoch 14/100\n",
      "Training loss: 0.4185, Training accuracy: 80.04%\n",
      "Test loss: 0.5151, Test accuracy: 75.81%\n",
      "\n",
      "Epoch 15/100\n",
      "Training loss: 0.4111, Training accuracy: 80.33%\n",
      "Test loss: 0.5423, Test accuracy: 72.94%\n",
      "\n",
      "Epoch 16/100\n",
      "Training loss: 0.3983, Training accuracy: 81.08%\n",
      "Test loss: 0.6179, Test accuracy: 73.05%\n",
      "\n",
      "Epoch 17/100\n",
      "Training loss: 0.3925, Training accuracy: 82.11%\n",
      "Test loss: 0.5402, Test accuracy: 74.54%\n",
      "\n",
      "Epoch 18/100\n",
      "Training loss: 0.3798, Training accuracy: 82.46%\n",
      "Test loss: 0.5379, Test accuracy: 75.36%\n",
      "\n",
      "Epoch 19/100\n",
      "Training loss: 0.3665, Training accuracy: 83.16%\n",
      "Test loss: 0.5717, Test accuracy: 75.51%\n",
      "\n",
      "Epoch 20/100\n",
      "Training loss: 0.3538, Training accuracy: 83.50%\n",
      "Test loss: 0.5844, Test accuracy: 74.13%\n",
      "\n",
      "Epoch 21/100\n",
      "Training loss: 0.3500, Training accuracy: 84.05%\n",
      "Test loss: 0.5710, Test accuracy: 73.50%\n",
      "\n",
      "Epoch 22/100\n",
      "Training loss: 0.3430, Training accuracy: 84.88%\n",
      "Test loss: 0.6259, Test accuracy: 74.43%\n",
      "\n",
      "Epoch 23/100\n",
      "Training loss: 0.3240, Training accuracy: 85.59%\n",
      "Test loss: 0.6091, Test accuracy: 72.64%\n",
      "\n",
      "Epoch 24/100\n",
      "Training loss: 0.3143, Training accuracy: 86.23%\n",
      "Test loss: 0.6837, Test accuracy: 70.78%\n",
      "\n",
      "Epoch 25/100\n",
      "Training loss: 0.3062, Training accuracy: 86.62%\n",
      "Test loss: 0.6543, Test accuracy: 73.54%\n",
      "\n",
      "Epoch 26/100\n",
      "Training loss: 0.2986, Training accuracy: 86.83%\n",
      "Test loss: 0.6904, Test accuracy: 70.63%\n",
      "\n",
      "Epoch 27/100\n",
      "Training loss: 0.2733, Training accuracy: 88.23%\n",
      "Test loss: 0.7480, Test accuracy: 68.84%\n",
      "\n",
      "Epoch 28/100\n",
      "Training loss: 0.2690, Training accuracy: 88.30%\n",
      "Test loss: 0.7343, Test accuracy: 73.57%\n",
      "\n",
      "Epoch 29/100\n",
      "Training loss: 0.2687, Training accuracy: 88.34%\n",
      "Test loss: 0.7164, Test accuracy: 70.56%\n",
      "\n",
      "Epoch 30/100\n",
      "Training loss: 0.2512, Training accuracy: 89.13%\n",
      "Test loss: 0.7312, Test accuracy: 70.85%\n",
      "\n",
      "Epoch 31/100\n",
      "Training loss: 0.2382, Training accuracy: 90.11%\n",
      "Test loss: 0.7256, Test accuracy: 71.86%\n",
      "\n",
      "Epoch 32/100\n",
      "Training loss: 0.2234, Training accuracy: 90.54%\n",
      "Test loss: 0.8599, Test accuracy: 72.08%\n",
      "\n",
      "Epoch 33/100\n",
      "Training loss: 0.2165, Training accuracy: 90.94%\n",
      "Test loss: 0.8294, Test accuracy: 70.48%\n",
      "\n",
      "Epoch 34/100\n",
      "Training loss: 0.2395, Training accuracy: 90.77%\n",
      "Test loss: 0.8081, Test accuracy: 70.82%\n",
      "\n",
      "Epoch 35/100\n",
      "Training loss: 0.2127, Training accuracy: 91.40%\n",
      "Test loss: 0.8633, Test accuracy: 70.97%\n",
      "\n",
      "Epoch 36/100\n",
      "Training loss: 0.2080, Training accuracy: 91.35%\n",
      "Test loss: 0.7969, Test accuracy: 72.72%\n",
      "\n",
      "Epoch 37/100\n",
      "Training loss: 0.1869, Training accuracy: 92.63%\n",
      "Test loss: 0.9175, Test accuracy: 69.21%\n",
      "\n",
      "Epoch 38/100\n",
      "Training loss: 0.1711, Training accuracy: 92.56%\n",
      "Test loss: 0.9125, Test accuracy: 68.39%\n",
      "\n",
      "Epoch 39/100\n",
      "Training loss: 0.1754, Training accuracy: 93.18%\n",
      "Test loss: 0.8976, Test accuracy: 70.18%\n",
      "\n",
      "Epoch 40/100\n",
      "Training loss: 0.1790, Training accuracy: 93.00%\n",
      "Test loss: 0.8842, Test accuracy: 68.58%\n",
      "\n",
      "Epoch 41/100\n",
      "Training loss: 0.1674, Training accuracy: 93.24%\n",
      "Test loss: 0.8855, Test accuracy: 70.11%\n",
      "\n",
      "Epoch 42/100\n",
      "Training loss: 0.1659, Training accuracy: 93.36%\n",
      "Test loss: 0.8785, Test accuracy: 71.41%\n",
      "\n",
      "Epoch 43/100\n",
      "Training loss: 0.1996, Training accuracy: 92.86%\n",
      "Test loss: 0.8257, Test accuracy: 72.46%\n",
      "\n",
      "Epoch 44/100\n",
      "Training loss: 0.1883, Training accuracy: 92.43%\n",
      "Test loss: 0.9154, Test accuracy: 70.37%\n",
      "\n",
      "Epoch 45/100\n",
      "Training loss: 0.1558, Training accuracy: 94.04%\n",
      "Test loss: 1.0214, Test accuracy: 71.75%\n",
      "\n",
      "Epoch 46/100\n",
      "Training loss: 0.1644, Training accuracy: 93.91%\n",
      "Test loss: 1.0843, Test accuracy: 71.15%\n",
      "\n",
      "Epoch 47/100\n",
      "Training loss: 0.1587, Training accuracy: 93.69%\n",
      "Test loss: 0.9314, Test accuracy: 71.93%\n",
      "\n",
      "Epoch 48/100\n",
      "Training loss: 0.1373, Training accuracy: 94.78%\n",
      "Test loss: 1.0527, Test accuracy: 71.23%\n",
      "\n",
      "Epoch 49/100\n",
      "Training loss: 0.1508, Training accuracy: 94.30%\n",
      "Test loss: 1.0165, Test accuracy: 68.69%\n",
      "\n",
      "Epoch 50/100\n",
      "Training loss: 0.1521, Training accuracy: 94.43%\n",
      "Test loss: 1.1784, Test accuracy: 70.67%\n",
      "\n",
      "Epoch 51/100\n",
      "Training loss: 0.1172, Training accuracy: 95.49%\n",
      "Test loss: 1.2296, Test accuracy: 68.88%\n",
      "\n",
      "Epoch 52/100\n",
      "Training loss: 0.1198, Training accuracy: 95.49%\n",
      "Test loss: 1.2253, Test accuracy: 68.62%\n",
      "\n",
      "Epoch 53/100\n",
      "Training loss: 0.1159, Training accuracy: 95.68%\n",
      "Test loss: 1.1660, Test accuracy: 68.80%\n",
      "\n",
      "Epoch 54/100\n",
      "Training loss: 0.1176, Training accuracy: 95.37%\n",
      "Test loss: 0.9908, Test accuracy: 67.87%\n",
      "\n",
      "Epoch 55/100\n",
      "Training loss: 0.1373, Training accuracy: 94.57%\n",
      "Test loss: 1.0560, Test accuracy: 70.03%\n",
      "\n",
      "Epoch 56/100\n",
      "Training loss: 0.1236, Training accuracy: 95.59%\n",
      "Test loss: 1.2692, Test accuracy: 69.14%\n",
      "\n",
      "Epoch 57/100\n",
      "Training loss: 0.1284, Training accuracy: 95.58%\n",
      "Test loss: 0.9598, Test accuracy: 70.59%\n",
      "\n",
      "Epoch 58/100\n",
      "Training loss: 0.1120, Training accuracy: 95.63%\n",
      "Test loss: 1.3342, Test accuracy: 70.59%\n",
      "\n",
      "Epoch 59/100\n",
      "Training loss: 0.1269, Training accuracy: 95.86%\n",
      "Test loss: 1.1176, Test accuracy: 69.10%\n",
      "\n",
      "Epoch 60/100\n",
      "Training loss: 0.1192, Training accuracy: 95.69%\n",
      "Test loss: 1.2162, Test accuracy: 70.18%\n",
      "\n",
      "Epoch 61/100\n",
      "Training loss: 0.1043, Training accuracy: 96.15%\n",
      "Test loss: 1.2254, Test accuracy: 67.20%\n",
      "\n",
      "Epoch 62/100\n",
      "Training loss: 0.1139, Training accuracy: 95.79%\n",
      "Test loss: 1.2303, Test accuracy: 68.62%\n",
      "\n",
      "Epoch 63/100\n",
      "Training loss: 0.1121, Training accuracy: 95.91%\n",
      "Test loss: 1.2867, Test accuracy: 68.69%\n",
      "\n",
      "Epoch 64/100\n",
      "Training loss: 0.1118, Training accuracy: 95.85%\n",
      "Test loss: 1.1081, Test accuracy: 69.96%\n",
      "\n",
      "Epoch 65/100\n",
      "Training loss: 0.1054, Training accuracy: 96.12%\n",
      "Test loss: 1.0779, Test accuracy: 70.11%\n",
      "\n",
      "Epoch 66/100\n",
      "Training loss: 0.1091, Training accuracy: 96.22%\n",
      "Test loss: 1.1356, Test accuracy: 65.26%\n",
      "\n",
      "Epoch 67/100\n",
      "Training loss: 0.0863, Training accuracy: 96.89%\n",
      "Test loss: 1.3217, Test accuracy: 68.21%\n",
      "\n",
      "Epoch 68/100\n",
      "Training loss: 0.0943, Training accuracy: 96.50%\n",
      "Test loss: 1.3698, Test accuracy: 72.12%\n",
      "\n",
      "Epoch 69/100\n",
      "Training loss: 0.0909, Training accuracy: 96.55%\n",
      "Test loss: 1.3854, Test accuracy: 70.56%\n",
      "\n",
      "Epoch 70/100\n",
      "Training loss: 0.0988, Training accuracy: 96.66%\n",
      "Test loss: 1.2896, Test accuracy: 69.96%\n",
      "\n",
      "Epoch 71/100\n",
      "Training loss: 0.1004, Training accuracy: 96.53%\n",
      "Test loss: 1.3438, Test accuracy: 69.40%\n",
      "\n",
      "Epoch 72/100\n",
      "Training loss: 0.0937, Training accuracy: 96.45%\n",
      "Test loss: 1.1970, Test accuracy: 68.88%\n",
      "\n",
      "Epoch 73/100\n",
      "Training loss: 0.0890, Training accuracy: 96.81%\n",
      "Test loss: 1.3422, Test accuracy: 71.86%\n",
      "\n",
      "Epoch 74/100\n",
      "Training loss: 0.0865, Training accuracy: 96.81%\n",
      "Test loss: 1.1744, Test accuracy: 70.44%\n",
      "\n",
      "Epoch 75/100\n",
      "Training loss: 0.0810, Training accuracy: 97.28%\n",
      "Test loss: 1.2698, Test accuracy: 69.81%\n",
      "\n",
      "Epoch 76/100\n",
      "Training loss: 0.0937, Training accuracy: 96.79%\n",
      "Test loss: 1.0560, Test accuracy: 69.62%\n",
      "\n",
      "Epoch 77/100\n",
      "Training loss: 0.0870, Training accuracy: 96.69%\n",
      "Test loss: 1.4010, Test accuracy: 69.44%\n",
      "\n",
      "Epoch 78/100\n",
      "Training loss: 0.0892, Training accuracy: 96.94%\n",
      "Test loss: 1.3391, Test accuracy: 68.99%\n",
      "\n",
      "Epoch 79/100\n",
      "Training loss: 0.0833, Training accuracy: 97.38%\n",
      "Test loss: 1.5131, Test accuracy: 69.44%\n",
      "\n",
      "Epoch 80/100\n",
      "Training loss: 0.0774, Training accuracy: 97.18%\n",
      "Test loss: 1.4284, Test accuracy: 67.98%\n",
      "\n",
      "Epoch 81/100\n",
      "Training loss: 0.1026, Training accuracy: 96.62%\n",
      "Test loss: 1.3207, Test accuracy: 67.57%\n",
      "\n",
      "Epoch 82/100\n",
      "Training loss: 0.0969, Training accuracy: 96.66%\n",
      "Test loss: 1.3659, Test accuracy: 67.98%\n",
      "\n",
      "Epoch 83/100\n",
      "Training loss: 0.0868, Training accuracy: 96.97%\n",
      "Test loss: 1.5950, Test accuracy: 69.33%\n",
      "\n",
      "Epoch 84/100\n",
      "Training loss: 0.1016, Training accuracy: 96.60%\n",
      "Test loss: 1.5125, Test accuracy: 69.51%\n",
      "\n",
      "Epoch 85/100\n",
      "Training loss: 0.1026, Training accuracy: 96.42%\n",
      "Test loss: 1.1923, Test accuracy: 70.82%\n",
      "\n",
      "Epoch 86/100\n",
      "Training loss: 0.1031, Training accuracy: 96.35%\n",
      "Test loss: 1.2304, Test accuracy: 70.52%\n",
      "\n",
      "Epoch 87/100\n",
      "Training loss: 0.0836, Training accuracy: 97.07%\n",
      "Test loss: 1.3358, Test accuracy: 69.21%\n",
      "\n",
      "Epoch 88/100\n",
      "Training loss: 0.0834, Training accuracy: 96.94%\n",
      "Test loss: 1.7177, Test accuracy: 71.93%\n",
      "\n",
      "Epoch 89/100\n",
      "Training loss: 0.0851, Training accuracy: 97.06%\n",
      "Test loss: 1.3233, Test accuracy: 68.88%\n",
      "\n",
      "Epoch 90/100\n",
      "Training loss: 0.0764, Training accuracy: 97.38%\n",
      "Test loss: 1.3915, Test accuracy: 68.73%\n",
      "\n",
      "Epoch 91/100\n",
      "Training loss: 0.0806, Training accuracy: 97.19%\n",
      "Test loss: 1.3938, Test accuracy: 70.29%\n",
      "\n",
      "Epoch 92/100\n",
      "Training loss: 0.0816, Training accuracy: 97.20%\n",
      "Test loss: 1.3060, Test accuracy: 69.81%\n",
      "\n",
      "Epoch 93/100\n",
      "Training loss: 0.0856, Training accuracy: 97.03%\n",
      "Test loss: 1.2684, Test accuracy: 69.55%\n",
      "\n",
      "Epoch 94/100\n",
      "Training loss: 0.0669, Training accuracy: 97.64%\n",
      "Test loss: 1.6386, Test accuracy: 71.23%\n",
      "\n",
      "Epoch 95/100\n",
      "Training loss: 0.0737, Training accuracy: 97.66%\n",
      "Test loss: 1.3483, Test accuracy: 70.00%\n",
      "\n",
      "Epoch 96/100\n",
      "Training loss: 0.1521, Training accuracy: 94.84%\n",
      "Test loss: 0.9130, Test accuracy: 66.12%\n",
      "\n",
      "Epoch 97/100\n",
      "Training loss: 0.1263, Training accuracy: 95.39%\n",
      "Test loss: 1.3031, Test accuracy: 70.85%\n",
      "\n",
      "Epoch 98/100\n",
      "Training loss: 0.0802, Training accuracy: 96.97%\n",
      "Test loss: 1.3421, Test accuracy: 71.04%\n",
      "\n",
      "Epoch 99/100\n",
      "Training loss: 0.0795, Training accuracy: 97.17%\n",
      "Test loss: 1.3580, Test accuracy: 69.29%\n",
      "\n",
      "Epoch 100/100\n",
      "Training loss: 0.0748, Training accuracy: 97.32%\n",
      "Test loss: 1.3245, Test accuracy: 68.28%\n",
      "\n"
     ]
    }
   ],
   "source": [
    "#%% Train\n",
    "train_loss = {}\n",
    "test_loss = {}\n",
    "train_accuracy = {}\n",
    "test_accuracy = {}\n",
    "step = 0\n",
    "for epoch in range(num_epochs):\n",
    "    running_loss = 0.0\n",
    "    correct = 0\n",
    "    total = 0\n",
    "    \n",
    "    for inputs, labels in train_loader:\n",
    "        net.train()\n",
    "\n",
    "        # Put data on GPU \n",
    "        inputs = inputs.to(device)\n",
    "        labels = labels.to(device)\n",
    "\n",
    "        optimizer.zero_grad()\n",
    "\n",
    "        # Compute loss and take gradient step\n",
    "        outputs = net(inputs)\n",
    "        loss = loss_function(outputs, labels)\n",
    "\n",
    "        loss.backward()\n",
    "        optimizer.step()\n",
    "\n",
    "        predicted = torch.argmax(outputs, dim=1)\n",
    "\n",
    "        running_loss += loss.item()\n",
    "        correct += (predicted == labels).sum().item()\n",
    "        total += labels.size(0)\n",
    "\n",
    "        # Print accuracy for epoch            \n",
    "    epoch_loss = running_loss / len(train_loader)\n",
    "\n",
    "    train_loss[epoch] = epoch_loss\n",
    "\n",
    "    epoch_accuracy = 100 * correct / total\n",
    "\n",
    "    train_accuracy[epoch] = epoch_accuracy\n",
    "\n",
    "    print(f\"Epoch {epoch+1}/{num_epochs}\")\n",
    "    print(f\"Training loss: {epoch_loss:.4f}, Training accuracy: {epoch_accuracy:.2f}%\")\n",
    "\n",
    "    # Evaluate the model\n",
    "    net.eval()\n",
    "    correct = 0\n",
    "    total = 0\n",
    "    running_loss_test = 0.0\n",
    "\n",
    "    with torch.no_grad():\n",
    "        for inputs, labels in test_loader:\n",
    "            # Put data on GPU \n",
    "            inputs = inputs.to(device)\n",
    "            labels = labels.to(device)\n",
    "            \n",
    "            # Forward pass\n",
    "            outputs = net(inputs)\n",
    "            \n",
    "            predicted = torch.argmax(outputs, dim=1)\n",
    "\n",
    "            loss = loss_function(outputs, labels)\n",
    "            \n",
    "            running_loss_test += loss.item()\n",
    "\n",
    "            # Count correct predictions\n",
    "            correct += (predicted == labels).sum().item()\n",
    "            total += labels.size(0)\n",
    "\n",
    "        epoch_loss = running_loss_test / len(test_loader)\n",
    "        test_loss[epoch] = epoch_loss\n",
    "\n",
    "    test_accuracy_score = 100 * correct / total\n",
    "    \n",
    "    test_accuracy[epoch] = test_accuracy_score\n",
    "\n",
    "    print(f\"Test loss: {epoch_loss:.4f}, Test accuracy: {test_accuracy_score:.2f}%\")\n",
    "    print()\n"
   ]
  },
  {
   "cell_type": "code",
   "execution_count": 104,
   "metadata": {},
   "outputs": [
    {
     "data": {
      "image/png": "[encoded data removed]",
      "text/plain": [
       "<Figure size 640x480 with 1 Axes>"
      ]
     },
     "metadata": {},
     "output_type": "display_data"
    }
   ],
   "source": [
    "plt.plot(train_loss.values(), label=\"Training Loss\")\n",
    "plt.plot(test_loss.values(), label=\"Test Loss\")\n",
    "plt.legend()\n",
    "plt.xlabel(\"Epoch\")\n",
    "plt.ylabel(\"Loss\")\n",
    "plt.title(\"Training and test loss\")\n",
    "plt.grid(True)"
   ]
  },
  {
   "cell_type": "code",
   "execution_count": 105,
   "metadata": {},
   "outputs": [
    {
     "data": {
      "image/png": "[encoded data removed]",
      "text/plain": [
       "<Figure size 640x480 with 1 Axes>"
      ]
     },
     "metadata": {},
     "output_type": "display_data"
    }
   ],
   "source": [
    "plt.plot(train_accuracy.values(), label=\"Training Accuracy\")\n",
    "plt.plot(test_accuracy.values(), label=\"Test Accuracy\")\n",
    "plt.legend()\n",
    "plt.xlabel(\"Epoch\")\n",
    "plt.ylabel(\"Accuracy\")\n",
    "plt.title(\"Training and test accuracy\")\n",
    "plt.grid(True)"
   ]
  },
  {
   "cell_type": "code",
   "execution_count": 124,
   "metadata": {},
   "outputs": [],
   "source": [
    "# %% Save the trained model\n",
    "# torch.save(net.state_dict(), 'netV5.pt')"
   ]
  },
  {
   "cell_type": "markdown",
   "metadata": {},
   "source": [
    "# Test"
   ]
  },
  {
   "cell_type": "code",
   "execution_count": 36,
   "metadata": {},
   "outputs": [
    {
     "name": "stdout",
     "output_type": "stream",
     "text": [
      "Test Accuracy: 72.01%\n",
      "0.1732282117009163\n"
     ]
    }
   ],
   "source": [
    "# Evaluate the model\n",
    "net.eval()\n",
    "correct = 0\n",
    "total = 0\n",
    "testLoss = {}\n",
    "running_loss = 0.0\n",
    "\n",
    "with torch.no_grad():\n",
    "    for inputs, labels in test_loader:\n",
    "        # Put data on GPU \n",
    "        inputs = inputs.to(device)\n",
    "        labels = labels.to(device).float()\n",
    "        \n",
    "        # Forward pass\n",
    "        outputs = net(inputs)\n",
    "        \n",
    "        predicted = torch.argmax(outputs, dim=1)\n",
    "        \n",
    "        running_loss += loss.item()\n",
    "\n",
    "        # Count correct predictions\n",
    "        correct += (predicted == labels).sum().item()\n",
    "        total += labels.size(0)\n",
    "\n",
    "test_accuracy = 100 * correct / total\n",
    "print(f\"Test Accuracy: {test_accuracy:.2f}%\")\n",
    "print(running_loss)\n"
   ]
  },
  {
   "cell_type": "code",
   "execution_count": 35,
   "metadata": {},
   "outputs": [
    {
     "data": {
      "image/png": "[encoded data removed]",
      "text/plain": [
       "<Figure size 640x480 with 1 Axes>"
      ]
     },
     "metadata": {},
     "output_type": "display_data"
    }
   ],
   "source": [
    "plt.plot(range(0,epoch+1), trainLoss.values(), label=\"Training Loss\")\n",
    "plt.grid(True)"
   ]
  },
  {
   "cell_type": "code",
   "execution_count": null,
   "metadata": {},
   "outputs": [],
   "source": [
    "plt.plot()"
   ]
  }
 ],
 "metadata": {
  "kernelspec": {
   "display_name": "IntelligentSystems",
   "language": "python",
   "name": "python3"
  },
  "language_info": {
   "codemirror_mode": {
    "name": "ipython",
    "version": 3
   },
   "file_extension": ".py",
   "mimetype": "text/x-python",
   "name": "python",
   "nbconvert_exporter": "python",
   "pygments_lexer": "ipython3",
   "version": "3.12.5"
  }
 },
 "nbformat": 4,
 "nbformat_minor": 2
}
