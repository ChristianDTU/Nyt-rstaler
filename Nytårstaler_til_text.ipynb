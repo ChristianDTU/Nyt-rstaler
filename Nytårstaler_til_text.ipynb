{
 "cells": [
  {
   "cell_type": "markdown",
   "metadata": {},
   "source": [
    "### Gem tekstfiler"
   ]
  },
  {
   "cell_type": "code",
   "execution_count": 91,
   "metadata": {},
   "outputs": [
    {
     "name": "stdout",
     "output_type": "stream",
     "text": [
      "Nytårstalen er blevet gemt som Statsministeren 2016.txt ved C:\\Users\\chris\\Desktop\\1. semester\\3-Ugers\\Nytårstaler\\Statsministeren 2016.txt.\n"
     ]
    }
   ],
   "source": [
    "import os\n",
    "\n",
    "# Selve teksten\n",
    "tekst = input(\"Kopier selve nytårstalen ind her: \")\n",
    "\n",
    "# Titel på nytårstalen (filnavnet)\n",
    "filnavn = input(\"Navn på filen (uden .txt): \") + \".txt\"\n",
    "\n",
    "# Working directory\n",
    "lokation = r\"C:\\Users\\chris\\Desktop\\1. semester\\3-Ugers\\Nytårstaler\"\n",
    "\n",
    "# Gem filen\n",
    "file_path = os.path.join(lokation, filnavn)\n",
    "with open(file_path, \"w\") as file:\n",
    "    file.write(tekst)\n",
    "\n",
    "print(f\"Nytårstalen er blevet gemt som {filnavn} ved {file_path}.\")"
   ]
  },
  {
   "cell_type": "markdown",
   "metadata": {},
   "source": [
    "### Gem transskriberet lydfil"
   ]
  },
  {
   "cell_type": "code",
   "execution_count": 1,
   "metadata": {},
   "outputs": [
    {
     "name": "stderr",
     "output_type": "stream",
     "text": [
      "c:\\Users\\chris\\Miniconda3\\envs\\IntelligentSystems\\Lib\\site-packages\\whisper\\__init__.py:150: FutureWarning: You are using `torch.load` with `weights_only=False` (the current default value), which uses the default pickle module implicitly. It is possible to construct malicious pickle data which will execute arbitrary code during unpickling (See https://github.com/pytorch/pytorch/blob/main/SECURITY.md#untrusted-models for more details). In a future release, the default value for `weights_only` will be flipped to `True`. This limits the functions that could be executed during unpickling. Arbitrary objects will no longer be allowed to be loaded via this mode unless they are explicitly allowlisted by the user via `torch.serialization.add_safe_globals`. We recommend you start setting `weights_only=True` for any use case where you don't have full control of the loaded file. Please open an issue on GitHub for any issues related to this experimental feature.\n",
      "  checkpoint = torch.load(fp, map_location=device)\n"
     ]
    },
    {
     "name": "stdout",
     "output_type": "stream",
     "text": [
      "Nytårstalen er blevet gemt som Poul-Schluters-nytarstale-1-januar-1986-Statsministeriet.mp3 ved C:\\Users\\chris\\Desktop\\1. semester\\3-Ugers\\Nytårstaler Statsministeren mp3\\Poul-Schluters-nytarstale-1-januar-1986-Statsministeriet.mp3_transskribering.txt.\n"
     ]
    }
   ],
   "source": [
    "import whisper\n",
    "import os\n",
    "import torch\n",
    "\n",
    "# Valg af model samt aktivering af GPU\n",
    "model = whisper.load_model(\"large\") # Large modellen med højest kvalitet\n",
    "device = \"cuda\" if torch.cuda.is_available() else \"cpu\"\n",
    "\n",
    "# Indsæt mp3-filnavn\n",
    "mp3_filnavn = input(\"Lydfilen (med .mp3): \").strip()\n",
    "\n",
    "# Working directory\n",
    "directory = r\"C:\\Users\\chris\\Desktop\\1. semester\\3-Ugers\\Nytårstaler Statsministeren mp3\"\n",
    "\n",
    "# Selve filen\n",
    "mp3_fil = os.path.join(directory, mp3_filnavn)\n",
    "\n",
    "# Transskribering via. Whisper\n",
    "transskribering = model.transcribe(mp3_fil, language=\"da\")\n",
    "\n",
    "# Gem transskribering\n",
    "output_path = os.path.join(directory, f\"{mp3_filnavn}_transskribering.txt\")\n",
    "with open(output_path, \"w\") as f:\n",
    "    f.write(transskribering[\"text\"])\n",
    "\n",
    "print(f\"Nytårstalen er blevet gemt som {mp3_filnavn} ved {output_path}.\")"
   ]
  },
  {
   "cell_type": "code",
   "execution_count": 3,
   "metadata": {},
   "outputs": [
    {
     "name": "stdout",
     "output_type": "stream",
     "text": [
      "True\n",
      "NVIDIA GeForce RTX 4060 Laptop GPU\n"
     ]
    }
   ],
   "source": [
    "print(torch.cuda.is_available())\n",
    "print(torch.cuda.get_device_name(0))"
   ]
  }
 ],
 "metadata": {
  "kernelspec": {
   "display_name": "IntelligentSystems",
   "language": "python",
   "name": "python3"
  },
  "language_info": {
   "codemirror_mode": {
    "name": "ipython",
    "version": 3
   },
   "file_extension": ".py",
   "mimetype": "text/x-python",
   "name": "python",
   "nbconvert_exporter": "python",
   "pygments_lexer": "ipython3",
   "version": "3.12.5"
  }
 },
 "nbformat": 4,
 "nbformat_minor": 2
}
